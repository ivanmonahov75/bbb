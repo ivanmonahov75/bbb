{
 "cells": [
  {
   "cell_type": "code",
   "execution_count": 20,
   "metadata": {},
   "outputs": [],
   "source": [
    "import numpy as np\n",
    "import matplotlib.pyplot as plt\n",
    "import scipy.optimize as opt\n",
    "import pandas as pd\n",
    "import array_to_latex as ltx"
   ]
  },
  {
   "cell_type": "code",
   "execution_count": 21,
   "metadata": {},
   "outputs": [],
   "source": [
    "def covariance(x,y):\n",
    "    c=np.inner(y,x)/len(x)-(sum(x)/len(x))*(sum(y)/len(y))\n",
    "    return c\n",
    "def rate_error(x,y,k):\n",
    "    c = ((len(y)-2)**-0.5)*((covariance(y,y)/covariance(x,x)-k**2)**0.5)\n",
    "    return c"
   ]
  },
  {
   "cell_type": "code",
   "execution_count": 22,
   "metadata": {},
   "outputs": [
    {
     "data": {
      "text/html": [
       "<div>\n",
       "<style scoped>\n",
       "    .dataframe tbody tr th:only-of-type {\n",
       "        vertical-align: middle;\n",
       "    }\n",
       "\n",
       "    .dataframe tbody tr th {\n",
       "        vertical-align: top;\n",
       "    }\n",
       "\n",
       "    .dataframe thead th {\n",
       "        text-align: right;\n",
       "    }\n",
       "</style>\n",
       "<table border=\"1\" class=\"dataframe\">\n",
       "  <thead>\n",
       "    <tr style=\"text-align: right;\">\n",
       "      <th></th>\n",
       "      <th>t</th>\n",
       "      <th>N</th>\n",
       "      <th>T</th>\n",
       "      <th>l,cm</th>\n",
       "      <th>l^2</th>\n",
       "      <th>T^2</th>\n",
       "    </tr>\n",
       "  </thead>\n",
       "  <tbody>\n",
       "    <tr>\n",
       "      <th>0</th>\n",
       "      <td>72.04</td>\n",
       "      <td>23</td>\n",
       "      <td>3.13</td>\n",
       "      <td>100</td>\n",
       "      <td>10000</td>\n",
       "      <td>9.81</td>\n",
       "    </tr>\n",
       "    <tr>\n",
       "      <th>1</th>\n",
       "      <td>37.78</td>\n",
       "      <td>12</td>\n",
       "      <td>3.15</td>\n",
       "      <td>100</td>\n",
       "      <td>10000</td>\n",
       "      <td>9.91</td>\n",
       "    </tr>\n",
       "    <tr>\n",
       "      <th>2</th>\n",
       "      <td>57.65</td>\n",
       "      <td>20</td>\n",
       "      <td>2.88</td>\n",
       "      <td>90</td>\n",
       "      <td>8100</td>\n",
       "      <td>8.31</td>\n",
       "    </tr>\n",
       "    <tr>\n",
       "      <th>3</th>\n",
       "      <td>57.66</td>\n",
       "      <td>20</td>\n",
       "      <td>2.88</td>\n",
       "      <td>90</td>\n",
       "      <td>8100</td>\n",
       "      <td>8.31</td>\n",
       "    </tr>\n",
       "    <tr>\n",
       "      <th>4</th>\n",
       "      <td>106.74</td>\n",
       "      <td>37</td>\n",
       "      <td>2.88</td>\n",
       "      <td>90</td>\n",
       "      <td>8100</td>\n",
       "      <td>8.32</td>\n",
       "    </tr>\n",
       "    <tr>\n",
       "      <th>5</th>\n",
       "      <td>54.84</td>\n",
       "      <td>19</td>\n",
       "      <td>2.89</td>\n",
       "      <td>90</td>\n",
       "      <td>8100</td>\n",
       "      <td>8.33</td>\n",
       "    </tr>\n",
       "    <tr>\n",
       "      <th>6</th>\n",
       "      <td>57.88</td>\n",
       "      <td>20</td>\n",
       "      <td>2.89</td>\n",
       "      <td>90</td>\n",
       "      <td>8100</td>\n",
       "      <td>8.38</td>\n",
       "    </tr>\n",
       "    <tr>\n",
       "      <th>7</th>\n",
       "      <td>79.01</td>\n",
       "      <td>30</td>\n",
       "      <td>2.63</td>\n",
       "      <td>80</td>\n",
       "      <td>6400</td>\n",
       "      <td>6.94</td>\n",
       "    </tr>\n",
       "    <tr>\n",
       "      <th>8</th>\n",
       "      <td>55.16</td>\n",
       "      <td>21</td>\n",
       "      <td>2.63</td>\n",
       "      <td>80</td>\n",
       "      <td>6400</td>\n",
       "      <td>6.90</td>\n",
       "    </tr>\n",
       "    <tr>\n",
       "      <th>9</th>\n",
       "      <td>50</td>\n",
       "      <td>21</td>\n",
       "      <td>2.38</td>\n",
       "      <td>70</td>\n",
       "      <td>4900</td>\n",
       "      <td>5.67</td>\n",
       "    </tr>\n",
       "    <tr>\n",
       "      <th>10</th>\n",
       "      <td>45.09</td>\n",
       "      <td>21</td>\n",
       "      <td>2.15</td>\n",
       "      <td>60</td>\n",
       "      <td>3600</td>\n",
       "      <td>4.61</td>\n",
       "    </tr>\n",
       "    <tr>\n",
       "      <th>11</th>\n",
       "      <td>48.45</td>\n",
       "      <td>25</td>\n",
       "      <td>1.94</td>\n",
       "      <td>50</td>\n",
       "      <td>2500</td>\n",
       "      <td>3.76</td>\n",
       "    </tr>\n",
       "    <tr>\n",
       "      <th>12</th>\n",
       "      <td>46.16</td>\n",
       "      <td>24</td>\n",
       "      <td>1.92</td>\n",
       "      <td>50</td>\n",
       "      <td>2500</td>\n",
       "      <td>3.70</td>\n",
       "    </tr>\n",
       "  </tbody>\n",
       "</table>\n",
       "</div>"
      ],
      "text/plain": [
       "         t   N     T  l,cm    l^2   T^2\n",
       "0    72.04  23  3.13   100  10000  9.81\n",
       "1    37.78  12  3.15   100  10000  9.91\n",
       "2    57.65  20  2.88    90   8100  8.31\n",
       "3    57.66  20  2.88    90   8100  8.31\n",
       "4   106.74  37  2.88    90   8100  8.32\n",
       "5    54.84  19  2.89    90   8100  8.33\n",
       "6    57.88  20  2.89    90   8100  8.38\n",
       "7    79.01  30  2.63    80   6400  6.94\n",
       "8    55.16  21  2.63    80   6400  6.90\n",
       "9       50  21  2.38    70   4900  5.67\n",
       "10   45.09  21  2.15    60   3600  4.61\n",
       "11   48.45  25  1.94    50   2500  3.76\n",
       "12   46.16  24  1.92    50   2500  3.70"
      ]
     },
     "execution_count": 22,
     "metadata": {},
     "output_type": "execute_result"
    }
   ],
   "source": [
    "data_array = pd.read_csv(\"datacsv.csv\",  sep=\";\", decimal=\",\")\n",
    "t=data_array.iloc[:,4:].to_numpy()\n",
    "data_array"
   ]
  },
  {
   "cell_type": "code",
   "execution_count": 23,
   "metadata": {},
   "outputs": [
    {
     "name": "stdout",
     "output_type": "stream",
     "text": [
      "\\begin{tabular}{lrrrrrr}\n",
      "\\toprule\n",
      "     & t & N & T & l,cm & l^2 & T^2 \\\\\\n\\midrule\n",
      " 0 &  72.04  &  23.00 &  3.13 &  100.00 &  10000.00 &  9.81\\\\\n",
      " 1 &  37.78  &  12.00 &  3.15 &  100.00 &  10000.00 &  9.91\\\\\n",
      " 2 &  57.65  &  20.00 &  2.88 &  90.00 &  8100.00 &  8.31\\\\\n",
      " 3 &  57.66  &  20.00 &  2.88 &  90.00 &  8100.00 &  8.31\\\\\n",
      " 4 &  106.74 &  37.00 &  2.88 &  90.00 &  8100.00 &  8.32\\\\\n",
      " 5 &  54.84  &  19.00 &  2.89 &  90.00 &  8100.00 &  8.33\\\\\n",
      " 6 &  57.88  &  20.00 &  2.89 &  90.00 &  8100.00 &  8.38\\\\\n",
      " 7 &  79.01  &  30.00 &  2.63 &  80.00 &  6400.00 &  6.94\\\\\n",
      " 8 &  55.16  &  21.00 &  2.63 &  80.00 &  6400.00 &  6.90\\\\\n",
      " 9 &  50     &  21.00 &  2.38 &  70.00 &  4900.00 &  5.67\\\\\n",
      " 10 &  45.09  &  21.00 &  2.15 &  60.00 &  3600.00 &  4.61\\\\\n",
      " 11 &  48.45  &  25.00 &  1.94 &  50.00 &  2500.00 &  3.76\\\\\n",
      " 12 &  46.16  &  24.00 &  1.92 &  50.00 &  2500.00 &  3.70\\\\\n",
      "\\bottomrule\n",
      "\\end{tabular}\n"
     ]
    }
   ],
   "source": [
    "ltx.to_ltx(data_array)"
   ]
  },
  {
   "cell_type": "code",
   "execution_count": 24,
   "metadata": {},
   "outputs": [
    {
     "data": {
      "text/plain": [
       "array([100., 100.,  81.,  81.,  81.,  81.,  81.,  64.,  64.,  49.,  36.,\n",
       "        25.,  25.])"
      ]
     },
     "execution_count": 24,
     "metadata": {},
     "output_type": "execute_result"
    }
   ],
   "source": [
    "l,T=t[:,0].astype(float)/100,t[:,1].astype(float)\n",
    "l"
   ]
  },
  {
   "cell_type": "code",
   "execution_count": 36,
   "metadata": {},
   "outputs": [
    {
     "data": {
      "image/png": "[encoded data removed]",
      "text/plain": [
       "<Figure size 1500x800 with 1 Axes>"
      ]
     },
     "metadata": {},
     "output_type": "display_data"
    }
   ],
   "source": [
    "plt.figure(figsize=(15,8))\n",
    "\n",
    "k,b=np.polyfit(T,l,1)\n",
    "\n",
    "T_fit=b+k*np.append(T,0)\n",
    "plt.plot(np.append(T,0),T_fit, label='Аппроксимация $y=kx+b$')\n",
    "\n",
    "#x_err=np.array([0.03,0.01,0.01,0.03,0.05])\n",
    "#y_err=np.array([0.1,0.1,0.2,0.2,0.3])\n",
    "plt.errorbar(T,l, yerr=0, xerr=0, color='r',fmt='+',ms='10', label='Экспериментальные точки') \n",
    "\n",
    "plt.ylim(0,110)\n",
    "#plt.ylim(0, 10)\n",
    "\n",
    "#— Decorate the spins\n",
    "arrow_length = 25 # In points\n",
    "\n",
    "# X-axis arrow\n",
    "plt.annotate('$T^2, c^2$', xy=(0.993, 0), xycoords=('axes fraction', 'data'),\n",
    "xytext=(arrow_length, 0), textcoords='offset points',\n",
    "ha='left', va='center',\n",
    "arrowprops=dict(arrowstyle='<|-', fc='black'))\n",
    "\n",
    "# Y-axis arrow\n",
    "plt.annotate('$r^2(T^2), 10^2 см^2$', xy=(-0.5, 0.993), xycoords=('data', 'axes fraction'),\n",
    "xytext=(0, arrow_length), textcoords='offset points',\n",
    "ha='center', va='bottom',\n",
    "arrowprops=dict(arrowstyle='<|-', fc='black'))\n",
    "\n",
    "plt.minorticks_on()\n",
    "plt.grid(which='major', lw=2)\n",
    "plt.grid(which='minor', lw=1)\n",
    "\n",
    "#plt.savefig(f'graphic.eps')\n",
    "\n",
    "plt.legend(loc = 'upper left')\n",
    "plt.savefig(f'graphic.png')\n",
    "\n",
    "plt.show()"
   ]
  },
  {
   "cell_type": "code",
   "execution_count": 26,
   "metadata": {},
   "outputs": [
    {
     "data": {
      "text/plain": [
       "12.18360723990647"
      ]
     },
     "execution_count": 26,
     "metadata": {},
     "output_type": "execute_result"
    }
   ],
   "source": [
    "k"
   ]
  },
  {
   "cell_type": "code",
   "execution_count": 27,
   "metadata": {},
   "outputs": [
    {
     "data": {
      "text/plain": [
       "(0.05744770318589165, 0.47151637486906267)"
      ]
     },
     "execution_count": 27,
     "metadata": {},
     "output_type": "execute_result"
    }
   ],
   "source": [
    "rate_error(T,l,k),rate_error(T,l,k)/k*100"
   ]
  }
 ],
 "metadata": {
  "kernelspec": {
   "display_name": "Python 3",
   "language": "python",
   "name": "python3"
  },
  "language_info": {
   "codemirror_mode": {
    "name": "ipython",
    "version": 3
   },
   "file_extension": ".py",
   "mimetype": "text/x-python",
   "name": "python",
   "nbconvert_exporter": "python",
   "pygments_lexer": "ipython3",
   "version": "3.10.6"
  },
  "orig_nbformat": 4,
  "vscode": {
   "interpreter": {
    "hash": "7f298933448abd1c737f70fde5374de40f2a3aea4df38ffeebddc535234f0b94"
   }
  }
 },
 "nbformat": 4,
 "nbformat_minor": 2
}
