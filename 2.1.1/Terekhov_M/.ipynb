{
 "cells": [
  {
   "cell_type": "code",
   "execution_count": 1,
   "metadata": {},
   "outputs": [],
   "source": [
    "import pandas as pd\n",
    "import math\n",
    "import numpy as np\n",
    "import matplotlib.pyplot as plt\n",
    "plt.rcParams.update({'font.size': 20})"
   ]
  },
  {
   "cell_type": "code",
   "execution_count": 2,
   "metadata": {},
   "outputs": [
    {
     "data": {
      "text/html": [
       "<div>\n",
       "<style scoped>\n",
       "    .dataframe tbody tr th:only-of-type {\n",
       "        vertical-align: middle;\n",
       "    }\n",
       "\n",
       "    .dataframe tbody tr th {\n",
       "        vertical-align: top;\n",
       "    }\n",
       "\n",
       "    .dataframe thead th {\n",
       "        text-align: right;\n",
       "    }\n",
       "</style>\n",
       "<table border=\"1\" class=\"dataframe\">\n",
       "  <thead>\n",
       "    <tr style=\"text-align: right;\">\n",
       "      <th></th>\n",
       "      <th>e</th>\n",
       "      <th>U</th>\n",
       "      <th>I</th>\n",
       "    </tr>\n",
       "  </thead>\n",
       "  <tbody>\n",
       "    <tr>\n",
       "      <th>0</th>\n",
       "      <td>37</td>\n",
       "      <td>2.55</td>\n",
       "      <td>89.3</td>\n",
       "    </tr>\n",
       "    <tr>\n",
       "      <th>1</th>\n",
       "      <td>75</td>\n",
       "      <td>3.50</td>\n",
       "      <td>122.9</td>\n",
       "    </tr>\n",
       "    <tr>\n",
       "      <th>2</th>\n",
       "      <td>123</td>\n",
       "      <td>4.41</td>\n",
       "      <td>154.7</td>\n",
       "    </tr>\n",
       "    <tr>\n",
       "      <th>3</th>\n",
       "      <td>162</td>\n",
       "      <td>5.08</td>\n",
       "      <td>178.1</td>\n",
       "    </tr>\n",
       "    <tr>\n",
       "      <th>4</th>\n",
       "      <td>210</td>\n",
       "      <td>5.77</td>\n",
       "      <td>202.3</td>\n",
       "    </tr>\n",
       "  </tbody>\n",
       "</table>\n",
       "</div>"
      ],
      "text/plain": [
       "     e     U      I\n",
       "0   37  2.55   89.3\n",
       "1   75  3.50  122.9\n",
       "2  123  4.41  154.7\n",
       "3  162  5.08  178.1\n",
       "4  210  5.77  202.3"
      ]
     },
     "execution_count": 2,
     "metadata": {},
     "output_type": "execute_result"
    }
   ],
   "source": [
    "data = pd.read_csv(\"test.csv\", names=[\"e\", \"U\", \"I\"])\n",
    "data"
   ]
  },
  {
   "cell_type": "code",
   "execution_count": 3,
   "metadata": {},
   "outputs": [],
   "source": [
    "sigma_e = 1.\n",
    "eps_e = sigma_e / data[\"e\"].mean()\n",
    "sigma_u = 0.01\n",
    "eps_u = sigma_u / data[\"U\"].mean()\n",
    "sigma_i = 1\n",
    "eps_i = sigma_i / data[\"I\"].mean()\n",
    "data[\"T\"] = round(data[\"e\"] / 40.7, 3)\n",
    "eps_t = eps_e\n",
    "Y = data[\"T\"].values\n",
    "eps_Y = eps_t\n",
    "data[\"N\"] = round((data[\"U\"] * data[\"I\"]) / 1000.0, 4)\n",
    "eps_N = data[\"N\"].mean() *  math.sqrt(eps_u**2 + eps_i**2)\n",
    "X = data[\"N\"].values\n",
    "eps_X = eps_N\n",
    "sigma_X = X * eps_X\n",
    "sigma_Y = Y * eps_Y\n",
    "data[\"R\"] = round(data[\"N\"] * 1000000 / (data[\"I\"]**2), 2)"
   ]
  },
  {
   "cell_type": "code",
   "execution_count": 14,
   "metadata": {},
   "outputs": [
    {
     "data": {
      "text/plain": [
       "0.3331372894168409"
      ]
     },
     "execution_count": 14,
     "metadata": {},
     "output_type": "execute_result"
    }
   ],
   "source": []
  },
  {
   "cell_type": "code",
   "execution_count": 20,
   "metadata": {},
   "outputs": [],
   "source": [
    "A = np.vstack([X, np.ones(len(X))]).T\n",
    "k, b = np.linalg.lstsq(A, Y, rcond=None)[0]\n",
    "#fig = plt.figure(figsize=(12, 7))\n",
    "#ax = fig.gca()\n",
    "#plt.scatter(X, Y, marker=\".\")\n",
    "#plt.errorbar(X, Y, xerr=sigma_X, yerr=sigma_Y, linestyle=\"None\")\n",
    "delta_x = (X.max() - X.min()) / len(X)\n",
    "delta_y = (Y.max() - Y.min()) / len(Y)\n",
    "\n",
    "ax.set_xlim(X.min() - delta_x/2, X.max() + delta_x/2)\n",
    "ax.set_ylim((Y.min()- delta_y/2), Y.max() + delta_y/2)\n",
    "# plt.title(\"$\\dfrac{1}{N(\\Theta)} = f(\\Theta)$\")\n",
    "#plt.xlabel(\"$N, W$\")\n",
    "#plt.ylabel(\"$\\Delta T, K$\")\n",
    "\n",
    "sigma_k = math.sqrt( ((Y.std() - (Y.mean()**2) / (X.std() - (X.mean()**2))) - (k**2))  ) / math.sqrt(len(X))\n",
    "#sigma_k = sigma_k / 10\n",
    "eps_k = sigma_k / k\n",
    "\n",
    "#plt.plot(X, (k*X + b), 'r', label='Fitted line')\n",
    "#plt.grid(True)\n",
    "#plt.savefig(\"q2.png\")\n"
   ]
  },
  {
   "cell_type": "code",
   "execution_count": 22,
   "metadata": {},
   "outputs": [
    {
     "data": {
      "text/plain": [
       "0.8502000000000001"
      ]
     },
     "execution_count": 22,
     "metadata": {},
     "output_type": "execute_result"
    }
   ],
   "source": []
  },
  {
   "cell_type": "code",
   "execution_count": 7,
   "metadata": {},
   "outputs": [
    {
     "data": {
      "text/plain": [
       "3.104790979455973"
      ]
     },
     "execution_count": 7,
     "metadata": {},
     "output_type": "execute_result"
    }
   ],
   "source": [
    "sigma_k"
   ]
  },
  {
   "cell_type": "code",
   "execution_count": null,
   "metadata": {},
   "outputs": [],
   "source": []
  }
 ],
 "metadata": {
  "kernelspec": {
   "display_name": "Python 3",
   "language": "python",
   "name": "python3"
  },
  "language_info": {
   "codemirror_mode": {
    "name": "ipython",
    "version": 3
   },
   "file_extension": ".py",
   "mimetype": "text/x-python",
   "name": "python",
   "nbconvert_exporter": "python",
   "pygments_lexer": "ipython3",
   "version": "3.5.2"
  }
 },
 "nbformat": 4,
 "nbformat_minor": 2
}
