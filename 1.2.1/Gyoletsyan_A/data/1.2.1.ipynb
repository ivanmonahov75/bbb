{
 "cells": [
  {
   "cell_type": "code",
   "execution_count": 1,
   "id": "d6798457",
   "metadata": {},
   "outputs": [],
   "source": [
    "import numpy as np"
   ]
  },
  {
   "cell_type": "code",
   "execution_count": 31,
   "id": "aa817d9d",
   "metadata": {},
   "outputs": [],
   "source": [
    "m = np.array([0.506, 0.503, 0.500, 0.513])\n",
    "x = np.array([13, 13, 13, 13])\n",
    "m_err = 0.001\n",
    "M = 2900\n",
    "M_err = 5\n",
    "x_err = 0.25 \n",
    "L = 2.215\n",
    "L_err = 0.005\n",
    "g =9.8155\n",
    "g_err = 0.0005"
   ]
  },
  {
   "cell_type": "code",
   "execution_count": 32,
   "id": "33ad17a6",
   "metadata": {},
   "outputs": [
    {
     "data": {
      "text/plain": [
       "157.0105580730137"
      ]
     },
     "execution_count": 32,
     "metadata": {},
     "output_type": "execute_result"
    }
   ],
   "source": [
    "u = M/m * np.sqrt(g/L) * x * 1e-3\n",
    "np.mean(u)"
   ]
  },
  {
   "cell_type": "code",
   "execution_count": 34,
   "id": "5470d936",
   "metadata": {},
   "outputs": [
    {
     "data": {
      "text/plain": [
       "157.0105580730137"
      ]
     },
     "execution_count": 34,
     "metadata": {},
     "output_type": "execute_result"
    }
   ],
   "source": [
    "np.mean(u)"
   ]
  },
  {
   "cell_type": "code",
   "execution_count": 5,
   "id": "1e69eed6",
   "metadata": {},
   "outputs": [
    {
     "data": {
      "text/plain": [
       "array([3.04924231, 3.06761825, 3.08752496, 3.0072135 ])"
      ]
     },
     "execution_count": 5,
     "metadata": {},
     "output_type": "execute_result"
    }
   ],
   "source": [
    "eps_M = M_err / M\n",
    "eps_m = m_err / m\n",
    "eps_g = g_err / g\n",
    "eps_L = L_err / L\n",
    "eps_x = x_err / x\n",
    "u_err = u * np.sqrt(eps_M**2 + eps_m ** 2 + 0.25*eps_g**2 + 0.25*eps_L**2 + eps_x**2)\n",
    "u_err"
   ]
  },
  {
   "cell_type": "code",
   "execution_count": 48,
   "id": "fa3b7cbf",
   "metadata": {},
   "outputs": [
    {
     "name": "stdout",
     "output_type": "stream",
     "text": [
      "1370756.4489079304 +- 18951.61247501155, g*cm^2/s\n",
      "\n",
      "[151.52968248 157.44075746 158.38351649 151.39832873]\n",
      "[4.06652075 4.17670975 4.20171999 4.04711515]\n"
     ]
    }
   ],
   "source": [
    "# new block\n",
    "\n",
    "T1 = np.array([36.69, 36.77, 36.03])/2\n",
    "T2 = np.array([41.75, 42.01, 41.89])/3\n",
    "\n",
    "T1_m = np.mean(T1)\n",
    "T2_m = np.mean(T2)\n",
    "T1_err = np.std(T1)\n",
    "T2_err = np.std(T2)\n",
    "\n",
    "M = (714.2 + 713.9)/2\n",
    "\n",
    "R = 34\n",
    "r = 23.1\n",
    "d = 43\n",
    "\n",
    "R_err = 0.2\n",
    "r_err = 0.2\n",
    "d_err = 0.5\n",
    "\n",
    "m = np.array([0.510, 0.504, 0.501, 0.515])\n",
    "# x = np.array([11.0, 12.5, 11.5, 11.3])\n",
    "x = np.array([11.2, 11.5, 11.5, 11.3])\n",
    "\n",
    "x_err = 0.2\n",
    "\n",
    "phi = x / (d*2)\n",
    "phi_err = phi * np.sqrt((x_err/x)**2 + (d_err/d)**2)\n",
    "\n",
    "kI = 4*np.pi*M*R**2*T1_m/(T1_m**2-T2_m**2)\n",
    "kI_err = kI*np.sqrt((2*R_err/R)**2 + (2*T2_m*T2_err/(T1_m**2 - T2_m**2))**2 + ((T1_m**2 + T2_m**2)*T1_err/(T1_m**2 - T2_m**2)/T1_m)**2**2)\n",
    "\n",
    "u = phi*kI/(m*r)\n",
    "u_err = u * np.sqrt((kI_err/kI)**2 + (r_err/r)**2 + (phi_err/phi)**2)\n",
    "print(f\"{kI} +- {kI_err}, g*cm^2/s\\n\")\n",
    "print(u * 0.01)\n",
    "print(u_err * 0.01)"
   ]
  },
  {
   "cell_type": "code",
   "execution_count": 40,
   "id": "c46ebfb7",
   "metadata": {},
   "outputs": [
    {
     "data": {
      "text/plain": [
       "154.6880712911908"
      ]
     },
     "execution_count": 40,
     "metadata": {},
     "output_type": "execute_result"
    }
   ],
   "source": [
    "np.mean(u) * 0.01"
   ]
  },
  {
   "cell_type": "code",
   "execution_count": null,
   "id": "da06c4d8",
   "metadata": {},
   "outputs": [],
   "source": []
  }
 ],
 "metadata": {
  "kernelspec": {
   "display_name": "Python 3 (ipykernel)",
   "language": "python",
   "name": "python3"
  },
  "language_info": {
   "codemirror_mode": {
    "name": "ipython",
    "version": 3
   },
   "file_extension": ".py",
   "mimetype": "text/x-python",
   "name": "python",
   "nbconvert_exporter": "python",
   "pygments_lexer": "ipython3",
   "version": "3.9.7"
  }
 },
 "nbformat": 4,
 "nbformat_minor": 5
}
