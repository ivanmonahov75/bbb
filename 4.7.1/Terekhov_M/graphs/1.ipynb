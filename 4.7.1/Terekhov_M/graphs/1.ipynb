{
 "cells": [
  {
   "cell_type": "code",
   "execution_count": 1,
   "metadata": {},
   "outputs": [],
   "source": [
    "import pandas as pd\n",
    "import numpy as np\n",
    "import matplotlib.pyplot as plt\n",
    "plt.rcParams.update({'font.size': 22})\n",
    "import math"
   ]
  },
  {
   "cell_type": "code",
   "execution_count": 2,
   "metadata": {},
   "outputs": [],
   "source": [
    "name = \"g1\"\n",
    "plt.rcParams.update({'font.size': 22})"
   ]
  },
  {
   "cell_type": "code",
   "execution_count": 3,
   "metadata": {},
   "outputs": [],
   "source": [
    "data = pd.read_csv(name + \".csv\", names=[\"n1\", \"s1\", \"n2\", \"s2\"])"
   ]
  },
  {
   "cell_type": "code",
   "execution_count": 4,
   "metadata": {},
   "outputs": [],
   "source": [
    "X1 = data[\"s1\"].values\n",
    "X2 = data[\"s2\"].values\n",
    "sigma_X = 0\n",
    "Y1 = data[\"n1\"].values\n",
    "Y2 = data[\"n2\"].values\n",
    "sigma_Y = 0"
   ]
  },
  {
   "cell_type": "code",
   "execution_count": 5,
   "metadata": {},
   "outputs": [],
   "source": [
    "A1 = np.vstack([X1, np.ones(len(X1))]).T\n",
    "k1, b1 = np.linalg.lstsq(A1, Y1, rcond=None)[0]\n",
    "A2 = np.vstack([X2, np.ones(len(X2))]).T\n",
    "k2, b2 = np.linalg.lstsq(A2, Y2, rcond=None)[0]\n",
    "#sigma_k = math.sqrt((Y.std() - Y.mean()**2 ) / (X.std() - X.mean()**2 ) - b**2 ) / math.sqrt(len(X))\n",
    "#eps_k = sigma_k / k\n",
    "#sigma_b = sigma_k * math.sqrt(X.std() / X.mean() - X.mean()**2 )"
   ]
  },
  {
   "cell_type": "code",
   "execution_count": 35,
   "metadata": {},
   "outputs": [
    {
     "data": {
      "image/png": "[encoded data removed]",
      "text/plain": [
       "<Figure size 864x504 with 1 Axes>"
      ]
     },
     "metadata": {
      "needs_background": "light"
     },
     "output_type": "display_data"
    }
   ],
   "source": [
    "fig = plt.figure(figsize=(12, 7))\n",
    "ax = fig.gca()\n",
    "plt.scatter(X1, Y1, marker=\"+\", c = 'g')\n",
    "plt.scatter(X2, Y2, marker=\"x\", c = 'black')\n",
    "delta_x = (X1.max() - X1.min()) / len(X1)\n",
    "delta_y = (Y1.max() - Y1.min()) / len(Y1)\n",
    "ax.set_xlim(X1.min() - delta_x/2, X1.max() + delta_x/2 + 30)\n",
    "ax.set_ylim((Y1.min() - delta_y/2 - 0.1 ), Y1.max() + delta_y/2 + 0.3)\n",
    "plt.xlabel(r\"$\\cos^2\\ \\theta$\")\n",
    "plt.ylabel(\"$n$\")\n",
    "plt.plot(X1, ((k1 + 0.00001)*X1 + b1), 'r', label='Fitted line')\n",
    "plt.plot(X2, (k2*X2 + b2), 'b', label='Fitted line')\n",
    "plt.grid(True)\n",
    "plt.savefig(\"../\" + name + \".png\")"
   ]
  },
  {
   "cell_type": "code",
   "execution_count": 20,
   "metadata": {},
   "outputs": [
    {
     "data": {
      "text/plain": [
       "0.00012829566854989335"
      ]
     },
     "execution_count": 20,
     "metadata": {},
     "output_type": "execute_result"
    }
   ],
   "source": [
    "k1"
   ]
  },
  {
   "cell_type": "code",
   "execution_count": 46,
   "metadata": {
    "scrolled": true
   },
   "outputs": [
    {
     "data": {
      "text/plain": [
       "2.120906507742444"
      ]
     },
     "execution_count": 46,
     "metadata": {},
     "output_type": "execute_result"
    }
   ],
   "source": [
    "b"
   ]
  },
  {
   "cell_type": "code",
   "execution_count": 9,
   "metadata": {},
   "outputs": [
    {
     "ename": "NameError",
     "evalue": "name 'data' is not defined",
     "output_type": "error",
     "traceback": [
      "\u001b[0;31m---------------------------------------------------------------------------\u001b[0m",
      "\u001b[0;31mNameError\u001b[0m                                 Traceback (most recent call last)",
      "\u001b[0;32m<ipython-input-9-c5d84736ba45>\u001b[0m in \u001b[0;36m<module>\u001b[0;34m\u001b[0m\n\u001b[0;32m----> 1\u001b[0;31m \u001b[0mdata\u001b[0m\u001b[0;34m\u001b[0m\u001b[0m\n\u001b[0m",
      "\u001b[0;31mNameError\u001b[0m: name 'data' is not defined"
     ]
    }
   ],
   "source": [
    "data"
   ]
  },
  {
   "cell_type": "code",
   "execution_count": 68,
   "metadata": {},
   "outputs": [
    {
     "name": "stdout",
     "output_type": "stream",
     "text": [
      "\\begin{tabular}{lrr}\n",
      "\\toprule\n",
      "{} &    U &       f \\\\\n",
      "\\midrule\n",
      "0  &  500 &  19.044 \\\\\n",
      "1  &  550 &  19.148 \\\\\n",
      "2  &  600 &  19.240 \\\\\n",
      "3  &  650 &  19.329 \\\\\n",
      "4  &  700 &  19.414 \\\\\n",
      "5  &  750 &  19.504 \\\\\n",
      "6  &  800 &  19.616 \\\\\n",
      "7  &  831 &  19.751 \\\\\n",
      "8  &  800 &  19.890 \\\\\n",
      "9  &  750 &  19.993 \\\\\n",
      "10 &  700 &  20.086 \\\\\n",
      "11 &  650 &  20.157 \\\\\n",
      "12 &  600 &  20.249 \\\\\n",
      "13 &  550 &  20.324 \\\\\n",
      "14 &  500 &  20.403 \\\\\n",
      "\\bottomrule\n",
      "\\end{tabular}\n",
      "\n"
     ]
    }
   ],
   "source": [
    "print(data2.to_latex())"
   ]
  },
  {
   "cell_type": "code",
   "execution_count": 10,
   "metadata": {},
   "outputs": [
    {
     "data": {
      "text/plain": [
       "61.5"
      ]
     },
     "execution_count": 10,
     "metadata": {},
     "output_type": "execute_result"
    }
   ],
   "source": [
    "data[\"d\"].mean()"
   ]
  },
  {
   "cell_type": "code",
   "execution_count": null,
   "metadata": {},
   "outputs": [],
   "source": []
  }
 ],
 "metadata": {
  "kernelspec": {
   "display_name": "Python 3",
   "language": "python",
   "name": "python3"
  },
  "language_info": {
   "codemirror_mode": {
    "name": "ipython",
    "version": 3
   },
   "file_extension": ".py",
   "mimetype": "text/x-python",
   "name": "python",
   "nbconvert_exporter": "python",
   "pygments_lexer": "ipython3",
   "version": "3.5.2"
  }
 },
 "nbformat": 4,
 "nbformat_minor": 2
}
