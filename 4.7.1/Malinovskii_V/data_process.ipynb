{
 "cells": [
  {
   "cell_type": "code",
   "execution_count": 1,
   "id": "acute-placement",
   "metadata": {},
   "outputs": [],
   "source": [
    "import scipy.optimize\n",
    "import numpy as np\n",
    "import pandas as pd\n",
    "from matplotlib import pyplot as plt"
   ]
  },
  {
   "cell_type": "code",
   "execution_count": 2,
   "id": "official-award",
   "metadata": {},
   "outputs": [
    {
     "data": {
      "text/html": [
       "<div>\n",
       "<style scoped>\n",
       "    .dataframe tbody tr th:only-of-type {\n",
       "        vertical-align: middle;\n",
       "    }\n",
       "\n",
       "    .dataframe tbody tr th {\n",
       "        vertical-align: top;\n",
       "    }\n",
       "\n",
       "    .dataframe thead th {\n",
       "        text-align: right;\n",
       "    }\n",
       "</style>\n",
       "<table border=\"1\" class=\"dataframe\">\n",
       "  <thead>\n",
       "    <tr style=\"text-align: right;\">\n",
       "      <th></th>\n",
       "      <th>2 phi_1</th>\n",
       "      <th>180 + psi (up)</th>\n",
       "      <th>180 + psi (down)</th>\n",
       "      <th>psi_up</th>\n",
       "      <th>psi_down</th>\n",
       "      <th>phi_1</th>\n",
       "    </tr>\n",
       "  </thead>\n",
       "  <tbody>\n",
       "    <tr>\n",
       "      <th>0</th>\n",
       "      <td>0</td>\n",
       "      <td>NaN</td>\n",
       "      <td>207</td>\n",
       "      <td>NaN</td>\n",
       "      <td>27</td>\n",
       "      <td>0.0</td>\n",
       "    </tr>\n",
       "    <tr>\n",
       "      <th>1</th>\n",
       "      <td>4</td>\n",
       "      <td>222.0</td>\n",
       "      <td>205</td>\n",
       "      <td>42.0</td>\n",
       "      <td>25</td>\n",
       "      <td>2.0</td>\n",
       "    </tr>\n",
       "    <tr>\n",
       "      <th>2</th>\n",
       "      <td>10</td>\n",
       "      <td>216.0</td>\n",
       "      <td>203</td>\n",
       "      <td>36.0</td>\n",
       "      <td>23</td>\n",
       "      <td>5.0</td>\n",
       "    </tr>\n",
       "    <tr>\n",
       "      <th>3</th>\n",
       "      <td>15</td>\n",
       "      <td>214.0</td>\n",
       "      <td>202</td>\n",
       "      <td>34.0</td>\n",
       "      <td>22</td>\n",
       "      <td>7.5</td>\n",
       "    </tr>\n",
       "    <tr>\n",
       "      <th>4</th>\n",
       "      <td>20</td>\n",
       "      <td>212.0</td>\n",
       "      <td>202</td>\n",
       "      <td>32.0</td>\n",
       "      <td>22</td>\n",
       "      <td>10.0</td>\n",
       "    </tr>\n",
       "  </tbody>\n",
       "</table>\n",
       "</div>"
      ],
      "text/plain": [
       "   2 phi_1  180 + psi (up)  180 + psi (down)  psi_up  psi_down  phi_1\n",
       "0        0             NaN               207     NaN        27    0.0\n",
       "1        4           222.0               205    42.0        25    2.0\n",
       "2       10           216.0               203    36.0        23    5.0\n",
       "3       15           214.0               202    34.0        22    7.5\n",
       "4       20           212.0               202    32.0        22   10.0"
      ]
     },
     "execution_count": 2,
     "metadata": {},
     "output_type": "execute_result"
    }
   ],
   "source": [
    "data = pd.read_csv('data.csv')\n",
    "data['psi_up'] = data['180 + psi (up)'] - 180\n",
    "data['psi_down'] = data['180 + psi (down)'] - 180\n",
    "data['phi_1'] = data['2 phi_1'] / 2\n",
    "data.head()"
   ]
  },
  {
   "cell_type": "markdown",
   "id": "transsexual-celebrity",
   "metadata": {},
   "source": [
    "$\\varphi_2 = \\psi + A - \\varphi_1$\n",
    "\n",
    "$\\sin\\varphi_1 = n \\sin\\beta_1$\n",
    "\n",
    "$\\sin\\varphi_2 = n \\sin\\beta_2$\n",
    "\n",
    "$\\beta_1+\\beta_2=A$"
   ]
  },
  {
   "cell_type": "code",
   "execution_count": 3,
   "id": "effective-conflict",
   "metadata": {},
   "outputs": [],
   "source": [
    "def get_error_function(phi_1, psi, A):\n",
    "    A *= np.pi / 180\n",
    "    phi_1 *= np.pi / 180\n",
    "    psi *= np.pi / 180\n",
    "    \n",
    "    phi_2 = psi + A - phi_1\n",
    "    \n",
    "    def error_function(n):\n",
    "        beta_1 = np.arcsin(np.sin(phi_1) / n)\n",
    "        beta_2 = np.arcsin(np.sin(phi_2) / n)\n",
    "        return beta_1 + beta_2 - A\n",
    "    \n",
    "    return error_function\n",
    "\n",
    "def solve_n(phi_1, psi, A):\n",
    "    if np.isnan(psi):\n",
    "        return np.nan\n",
    "    else:\n",
    "        return scipy.optimize.newton_krylov(get_error_function(phi_1, psi, A), 1.55, f_tol=1e-12)"
   ]
  },
  {
   "cell_type": "code",
   "execution_count": 4,
   "id": "prepared-marijuana",
   "metadata": {},
   "outputs": [],
   "source": [
    "A = 38\n",
    "EPSILON = 1e-4\n",
    "\n",
    "for direction in ['up', 'down']:\n",
    "    data[f'n_{direction}']   = data.apply(lambda x: solve_n(x['phi_1'], x[f'psi_{direction}'], A), axis=1)\n",
    "    data[f'd_phi_1_n_{direction}'] = (data.apply(lambda x: solve_n(x['phi_1'] + EPSILON, x[f'psi_{direction}'], A), axis=1)\n",
    "                            - data[f'n_{direction}']) / EPSILON\n",
    "    data[f'd_psi_{direction}_n_{direction}'] = (data.apply(lambda x: solve_n(x['phi_1'], x[f'psi_{direction}'] + EPSILON, A), axis=1)\n",
    "                            - data[f'n_{direction}']) / EPSILON\n",
    "# data['n_down'] = data.apply(lambda x: solve_n(x['phi_1'], x['psi_down'], A), axis=1)?"
   ]
  },
  {
   "cell_type": "code",
   "execution_count": 5,
   "id": "simple-richmond",
   "metadata": {
    "scrolled": true
   },
   "outputs": [
    {
     "data": {
      "text/html": [
       "<div>\n",
       "<style scoped>\n",
       "    .dataframe tbody tr th:only-of-type {\n",
       "        vertical-align: middle;\n",
       "    }\n",
       "\n",
       "    .dataframe tbody tr th {\n",
       "        vertical-align: top;\n",
       "    }\n",
       "\n",
       "    .dataframe thead th {\n",
       "        text-align: right;\n",
       "    }\n",
       "</style>\n",
       "<table border=\"1\" class=\"dataframe\">\n",
       "  <thead>\n",
       "    <tr style=\"text-align: right;\">\n",
       "      <th></th>\n",
       "      <th>2 phi_1</th>\n",
       "      <th>180 + psi (up)</th>\n",
       "      <th>180 + psi (down)</th>\n",
       "      <th>psi_up</th>\n",
       "      <th>psi_down</th>\n",
       "      <th>phi_1</th>\n",
       "      <th>n_up</th>\n",
       "      <th>d_phi_1_n_up</th>\n",
       "      <th>d_psi_up_n_up</th>\n",
       "      <th>n_down</th>\n",
       "      <th>d_phi_1_n_down</th>\n",
       "      <th>d_psi_down_n_down</th>\n",
       "    </tr>\n",
       "  </thead>\n",
       "  <tbody>\n",
       "    <tr>\n",
       "      <th>0</th>\n",
       "      <td>0</td>\n",
       "      <td>NaN</td>\n",
       "      <td>207</td>\n",
       "      <td>NaN</td>\n",
       "      <td>27</td>\n",
       "      <td>0.0</td>\n",
       "      <td>NaN</td>\n",
       "      <td>NaN</td>\n",
       "      <td>NaN</td>\n",
       "      <td>1.4720878654251548</td>\n",
       "      <td>0.010358</td>\n",
       "      <td>0.011981</td>\n",
       "    </tr>\n",
       "    <tr>\n",
       "      <th>1</th>\n",
       "      <td>4</td>\n",
       "      <td>222.0</td>\n",
       "      <td>205</td>\n",
       "      <td>42.0</td>\n",
       "      <td>25</td>\n",
       "      <td>2.0</td>\n",
       "      <td>1.6338171657506195</td>\n",
       "      <td>0.0168</td>\n",
       "      <td>0.005893</td>\n",
       "      <td>1.4657027612497904</td>\n",
       "      <td>0.008995</td>\n",
       "      <td>0.01374</td>\n",
       "    </tr>\n",
       "    <tr>\n",
       "      <th>2</th>\n",
       "      <td>10</td>\n",
       "      <td>216.0</td>\n",
       "      <td>203</td>\n",
       "      <td>36.0</td>\n",
       "      <td>23</td>\n",
       "      <td>5.0</td>\n",
       "      <td>1.6302716165885203</td>\n",
       "      <td>0.013007</td>\n",
       "      <td>0.010145</td>\n",
       "      <td>1.460736914077035</td>\n",
       "      <td>0.007428</td>\n",
       "      <td>0.015824</td>\n",
       "    </tr>\n",
       "    <tr>\n",
       "      <th>3</th>\n",
       "      <td>15</td>\n",
       "      <td>214.0</td>\n",
       "      <td>202</td>\n",
       "      <td>34.0</td>\n",
       "      <td>22</td>\n",
       "      <td>7.5</td>\n",
       "      <td>1.638315278791174</td>\n",
       "      <td>0.011291</td>\n",
       "      <td>0.012166</td>\n",
       "      <td>1.4615255361743935</td>\n",
       "      <td>0.006416</td>\n",
       "      <td>0.017189</td>\n",
       "    </tr>\n",
       "    <tr>\n",
       "      <th>4</th>\n",
       "      <td>20</td>\n",
       "      <td>212.0</td>\n",
       "      <td>202</td>\n",
       "      <td>32.0</td>\n",
       "      <td>22</td>\n",
       "      <td>10.0</td>\n",
       "      <td>1.6381475555273026</td>\n",
       "      <td>0.009603</td>\n",
       "      <td>0.014095</td>\n",
       "      <td>1.4767668581762747</td>\n",
       "      <td>0.005772</td>\n",
       "      <td>0.018096</td>\n",
       "    </tr>\n",
       "  </tbody>\n",
       "</table>\n",
       "</div>"
      ],
      "text/plain": [
       "   2 phi_1  180 + psi (up)  180 + psi (down)  psi_up  psi_down  phi_1  \\\n",
       "0        0             NaN               207     NaN        27    0.0   \n",
       "1        4           222.0               205    42.0        25    2.0   \n",
       "2       10           216.0               203    36.0        23    5.0   \n",
       "3       15           214.0               202    34.0        22    7.5   \n",
       "4       20           212.0               202    32.0        22   10.0   \n",
       "\n",
       "                 n_up d_phi_1_n_up d_psi_up_n_up              n_down  \\\n",
       "0                 NaN          NaN           NaN  1.4720878654251548   \n",
       "1  1.6338171657506195       0.0168      0.005893  1.4657027612497904   \n",
       "2  1.6302716165885203     0.013007      0.010145   1.460736914077035   \n",
       "3   1.638315278791174     0.011291      0.012166  1.4615255361743935   \n",
       "4  1.6381475555273026     0.009603      0.014095  1.4767668581762747   \n",
       "\n",
       "  d_phi_1_n_down d_psi_down_n_down  \n",
       "0       0.010358          0.011981  \n",
       "1       0.008995           0.01374  \n",
       "2       0.007428          0.015824  \n",
       "3       0.006416          0.017189  \n",
       "4       0.005772          0.018096  "
      ]
     },
     "execution_count": 5,
     "metadata": {},
     "output_type": "execute_result"
    }
   ],
   "source": [
    "data.head()"
   ]
  },
  {
   "cell_type": "code",
   "execution_count": 6,
   "id": "gentle-funeral",
   "metadata": {},
   "outputs": [],
   "source": [
    "d_angle = 0.5\n",
    "d_phi_1 = d_angle / 2\n",
    "\n",
    "for direction in ['up', 'down']:\n",
    "    data[f'd_n_{direction}'] = ((data[f'd_phi_1_n_{direction}'] * d_phi_1) ** 2 + \n",
    "    (data[f'd_psi_{direction}_n_{direction}'] * d_angle) ** 2) ** 0.5"
   ]
  },
  {
   "cell_type": "code",
   "execution_count": 7,
   "id": "hearing-allen",
   "metadata": {},
   "outputs": [
    {
     "data": {
      "text/html": [
       "<div>\n",
       "<style scoped>\n",
       "    .dataframe tbody tr th:only-of-type {\n",
       "        vertical-align: middle;\n",
       "    }\n",
       "\n",
       "    .dataframe tbody tr th {\n",
       "        vertical-align: top;\n",
       "    }\n",
       "\n",
       "    .dataframe thead th {\n",
       "        text-align: right;\n",
       "    }\n",
       "</style>\n",
       "<table border=\"1\" class=\"dataframe\">\n",
       "  <thead>\n",
       "    <tr style=\"text-align: right;\">\n",
       "      <th></th>\n",
       "      <th>2 phi_1</th>\n",
       "      <th>180 + psi (up)</th>\n",
       "      <th>180 + psi (down)</th>\n",
       "      <th>psi_up</th>\n",
       "      <th>psi_down</th>\n",
       "      <th>phi_1</th>\n",
       "      <th>n_up</th>\n",
       "      <th>d_phi_1_n_up</th>\n",
       "      <th>d_psi_up_n_up</th>\n",
       "      <th>n_down</th>\n",
       "      <th>d_phi_1_n_down</th>\n",
       "      <th>d_psi_down_n_down</th>\n",
       "      <th>d_n_up</th>\n",
       "      <th>d_n_down</th>\n",
       "      <th>cos2_theta_down</th>\n",
       "      <th>d_cos2_theta_down</th>\n",
       "      <th>cos2_theta_up</th>\n",
       "      <th>d_cos2_theta_up</th>\n",
       "    </tr>\n",
       "  </thead>\n",
       "  <tbody>\n",
       "    <tr>\n",
       "      <th>0</th>\n",
       "      <td>0</td>\n",
       "      <td>NaN</td>\n",
       "      <td>207</td>\n",
       "      <td>NaN</td>\n",
       "      <td>27</td>\n",
       "      <td>0.0</td>\n",
       "      <td>NaN</td>\n",
       "      <td>NaN</td>\n",
       "      <td>NaN</td>\n",
       "      <td>1.4720878654251548</td>\n",
       "      <td>0.010358</td>\n",
       "      <td>0.011981</td>\n",
       "      <td>NaN</td>\n",
       "      <td>0.006526</td>\n",
       "      <td>0.0</td>\n",
       "      <td>0.0</td>\n",
       "      <td>NaN</td>\n",
       "      <td>0.0</td>\n",
       "    </tr>\n",
       "  </tbody>\n",
       "</table>\n",
       "</div>"
      ],
      "text/plain": [
       "   2 phi_1  180 + psi (up)  180 + psi (down)  psi_up  psi_down  phi_1 n_up  \\\n",
       "0        0             NaN               207     NaN        27    0.0  NaN   \n",
       "\n",
       "  d_phi_1_n_up d_psi_up_n_up              n_down d_phi_1_n_down  \\\n",
       "0          NaN           NaN  1.4720878654251548       0.010358   \n",
       "\n",
       "  d_psi_down_n_down d_n_up  d_n_down cos2_theta_down  d_cos2_theta_down  \\\n",
       "0          0.011981    NaN  0.006526             0.0                0.0   \n",
       "\n",
       "  cos2_theta_up  d_cos2_theta_up  \n",
       "0           NaN              0.0  "
      ]
     },
     "execution_count": 7,
     "metadata": {},
     "output_type": "execute_result"
    }
   ],
   "source": [
    "data['cos2_theta_down'] = (np.sin(data.phi_1 / 180 * np.pi) / data.n_down) ** 2\n",
    "data['d_cos2_theta_down'] = data['cos2_theta_down'] * (\n",
    "    np.abs(np.cos(data.phi_1 / 180 * np.pi) * d_phi_1 / 180 * np.pi / np.sin(data.phi_1 / 180 * np.pi)) +\n",
    "    np.abs(data.d_n_down / data.n_down)) * 2\n",
    "\n",
    "data['cos2_theta_up'] = (np.sin(data.phi_1 / 180 * np.pi) / data.n_up) ** 2\n",
    "data['d_cos2_theta_up'] = data['cos2_theta_up'] * (\n",
    "    np.abs(np.cos(data.phi_1 / 180 * np.pi) * d_phi_1 / 180 * np.pi / np.sin(data.phi_1 / 180 * np.pi)) +\n",
    "    np.abs(data.d_n_up / data.n_up)) * 2\n",
    "\n",
    "data['d_cos2_theta_up'] = data['d_cos2_theta_up'].fillna(0)\n",
    "data['d_cos2_theta_down'] = data['d_cos2_theta_down'].fillna(0)\n",
    "\n",
    "data.head(1)"
   ]
  },
  {
   "cell_type": "code",
   "execution_count": 8,
   "id": "amateur-pilot",
   "metadata": {},
   "outputs": [],
   "source": [
    "data[['cos2_theta_down', 'd_cos2_theta_down', 'n_down', 'd_n_down']].to_csv('down.data', sep=' ', header=False, index=False)\n",
    "data[['cos2_theta_up', 'd_cos2_theta_up', 'n_up', 'd_n_up']].to_csv('up.data', sep=' ', header=False, index=False)"
   ]
  },
  {
   "cell_type": "code",
   "execution_count": 9,
   "id": "amateur-invasion",
   "metadata": {},
   "outputs": [
    {
     "data": {
      "text/plain": [
       "1.651969938609906"
      ]
     },
     "execution_count": 9,
     "metadata": {},
     "output_type": "execute_result"
    }
   ],
   "source": [
    "np.sin((data.psi_up.min() + A + 1) / 2 / 180 * np.pi) / np.sin((A + 0.5) / 2 / 180 * np.pi)"
   ]
  },
  {
   "cell_type": "code",
   "execution_count": 10,
   "id": "hired-america",
   "metadata": {},
   "outputs": [
    {
     "data": {
      "text/plain": [
       "27.0"
      ]
     },
     "execution_count": 10,
     "metadata": {},
     "output_type": "execute_result"
    }
   ],
   "source": [
    "data.psi_up.min()"
   ]
  },
  {
   "cell_type": "code",
   "execution_count": 11,
   "id": "under-meaning",
   "metadata": {},
   "outputs": [
    {
     "data": {
      "text/plain": [
       "1.4532539326875475"
      ]
     },
     "execution_count": 11,
     "metadata": {},
     "output_type": "execute_result"
    }
   ],
   "source": [
    "phi = -4.75 / 180 * np.pi\n",
    "A2 = A - 1\n",
    "1/np.sin(A2 / 180 * np.pi) * (np.sin(phi) ** 2 + 1 + 2 * np.cos(A2 / 180 * np.pi) * np.sin(phi))"
   ]
  },
  {
   "cell_type": "code",
   "execution_count": 12,
   "id": "careful-fifty",
   "metadata": {},
   "outputs": [
    {
     "data": {
      "image/png": "[encoded data removed]",
      "text/plain": [
       "<Figure size 432x288 with 1 Axes>"
      ]
     },
     "metadata": {
      "needs_background": "light"
     },
     "output_type": "display_data"
    }
   ],
   "source": [
    "# plt.scatter((np.sin(data.phi_1 / 180 * np.pi) / data.n_down) ** 2, data.n_down)\n",
    "plt.scatter((np.sin(data.phi_1 / 180 * np.pi) / data.n_down) ** 2, data.d_cos2_theta_up)\n",
    "plt.show()"
   ]
  },
  {
   "cell_type": "code",
   "execution_count": 13,
   "id": "federal-yukon",
   "metadata": {},
   "outputs": [
    {
     "data": {
      "text/html": [
       "<div>\n",
       "<style scoped>\n",
       "    .dataframe tbody tr th:only-of-type {\n",
       "        vertical-align: middle;\n",
       "    }\n",
       "\n",
       "    .dataframe tbody tr th {\n",
       "        vertical-align: top;\n",
       "    }\n",
       "\n",
       "    .dataframe thead th {\n",
       "        text-align: right;\n",
       "    }\n",
       "</style>\n",
       "<table border=\"1\" class=\"dataframe\">\n",
       "  <thead>\n",
       "    <tr style=\"text-align: right;\">\n",
       "      <th></th>\n",
       "      <th>2 phi_1</th>\n",
       "      <th>180 + psi (up)</th>\n",
       "      <th>180 + psi (down)</th>\n",
       "      <th>psi_up</th>\n",
       "      <th>psi_down</th>\n",
       "      <th>phi_1</th>\n",
       "      <th>n_up</th>\n",
       "      <th>d_phi_1_n_up</th>\n",
       "      <th>d_psi_up_n_up</th>\n",
       "      <th>n_down</th>\n",
       "      <th>d_phi_1_n_down</th>\n",
       "      <th>d_psi_down_n_down</th>\n",
       "      <th>d_n_up</th>\n",
       "      <th>d_n_down</th>\n",
       "      <th>cos2_theta_down</th>\n",
       "      <th>d_cos2_theta_down</th>\n",
       "      <th>cos2_theta_up</th>\n",
       "      <th>d_cos2_theta_up</th>\n",
       "    </tr>\n",
       "  </thead>\n",
       "  <tbody>\n",
       "    <tr>\n",
       "      <th>0</th>\n",
       "      <td>0</td>\n",
       "      <td>NaN</td>\n",
       "      <td>207</td>\n",
       "      <td>NaN</td>\n",
       "      <td>27</td>\n",
       "      <td>0.0</td>\n",
       "      <td>NaN</td>\n",
       "      <td>NaN</td>\n",
       "      <td>NaN</td>\n",
       "      <td>1.4720878654251548</td>\n",
       "      <td>0.010358</td>\n",
       "      <td>0.011981</td>\n",
       "      <td>NaN</td>\n",
       "      <td>0.006526</td>\n",
       "      <td>0.0</td>\n",
       "      <td>0.0</td>\n",
       "      <td>NaN</td>\n",
       "      <td>0.0</td>\n",
       "    </tr>\n",
       "  </tbody>\n",
       "</table>\n",
       "</div>"
      ],
      "text/plain": [
       "   2 phi_1  180 + psi (up)  180 + psi (down)  psi_up  psi_down  phi_1 n_up  \\\n",
       "0        0             NaN               207     NaN        27    0.0  NaN   \n",
       "\n",
       "  d_phi_1_n_up d_psi_up_n_up              n_down d_phi_1_n_down  \\\n",
       "0          NaN           NaN  1.4720878654251548       0.010358   \n",
       "\n",
       "  d_psi_down_n_down d_n_up  d_n_down cos2_theta_down  d_cos2_theta_down  \\\n",
       "0          0.011981    NaN  0.006526             0.0                0.0   \n",
       "\n",
       "  cos2_theta_up  d_cos2_theta_up  \n",
       "0           NaN              0.0  "
      ]
     },
     "execution_count": 13,
     "metadata": {},
     "output_type": "execute_result"
    }
   ],
   "source": [
    "data.head(1)"
   ]
  },
  {
   "cell_type": "code",
   "execution_count": 26,
   "id": "executive-oliver",
   "metadata": {},
   "outputs": [],
   "source": [
    "columns = ['2 phi_1', '180 + psi (down)', '180 + psi (up)', 'n_down', 'd_n_down', 'n_up', 'd_n_up']\n",
    "data[columns].to_csv('table.csv', sep=' ', index=False)"
   ]
  },
  {
   "cell_type": "code",
   "execution_count": 60,
   "id": "incomplete-conversion",
   "metadata": {},
   "outputs": [
    {
     "name": "stderr",
     "output_type": "stream",
     "text": [
      "<ipython-input-60-bb1021fbb802>:4: SettingWithCopyWarning: \n",
      "A value is trying to be set on a copy of a slice from a DataFrame.\n",
      "Try using .loc[row_indexer,col_indexer] = value instead\n",
      "\n",
      "See the caveats in the documentation: https://pandas.pydata.org/pandas-docs/stable/user_guide/indexing.html#returning-a-view-versus-a-copy\n",
      "  plot2['d_phi_1'] = np.ones(plot2['phi_1'].shape[0]) * 0.25\n",
      "<ipython-input-60-bb1021fbb802>:5: SettingWithCopyWarning: \n",
      "A value is trying to be set on a copy of a slice from a DataFrame.\n",
      "Try using .loc[row_indexer,col_indexer] = value instead\n",
      "\n",
      "See the caveats in the documentation: https://pandas.pydata.org/pandas-docs/stable/user_guide/indexing.html#returning-a-view-versus-a-copy\n",
      "  plot2['d_psi'] = np.ones((plot2.shape[0],)) * 0.5\n"
     ]
    }
   ],
   "source": [
    "for direction in ['down', 'up']:\n",
    "    columns = ['phi_1', f'psi_{direction}']\n",
    "    plot2 = data[columns]\n",
    "    plot2['d_phi_1'] = np.ones(plot2['phi_1'].shape[0]) * 0.25\n",
    "    plot2['d_psi'] = np.ones((plot2.shape[0],)) * 0.5\n",
    "    plot2.to_csv(f'plot2_{direction}.csv', sep=' ', index=False, header=False)"
   ]
  }
 ],
 "metadata": {
  "kernelspec": {
   "display_name": "Python 3",
   "language": "python",
   "name": "python3"
  },
  "language_info": {
   "codemirror_mode": {
    "name": "ipython",
    "version": 3
   },
   "file_extension": ".py",
   "mimetype": "text/x-python",
   "name": "python",
   "nbconvert_exporter": "python",
   "pygments_lexer": "ipython3",
   "version": "3.9.2"
  }
 },
 "nbformat": 4,
 "nbformat_minor": 5
}
