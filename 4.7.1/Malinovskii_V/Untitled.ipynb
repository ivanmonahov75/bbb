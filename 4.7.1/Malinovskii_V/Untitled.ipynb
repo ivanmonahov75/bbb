{
 "cells": [
  {
   "cell_type": "code",
   "execution_count": 24,
   "id": "creative-phrase",
   "metadata": {},
   "outputs": [],
   "source": [
    "from matplotlib import pyplot as plt\n",
    "import numpy as np\n",
    "import pandas as pd"
   ]
  },
  {
   "cell_type": "code",
   "execution_count": 7,
   "id": "indoor-dispute",
   "metadata": {},
   "outputs": [],
   "source": [
    "n = 4. / 3."
   ]
  },
  {
   "cell_type": "code",
   "execution_count": 37,
   "id": "compact-learning",
   "metadata": {},
   "outputs": [],
   "source": [
    "theta = np.linspace(start=0, stop=np.pi/2, num=1000)"
   ]
  },
  {
   "cell_type": "code",
   "execution_count": 38,
   "id": "accessible-cutting",
   "metadata": {},
   "outputs": [],
   "source": [
    "theta_t = np.arcsin(np.sin(theta) / n)"
   ]
  },
  {
   "cell_type": "code",
   "execution_count": 39,
   "id": "chemical-above",
   "metadata": {},
   "outputs": [],
   "source": [
    "rs = (np.cos(theta) - n * np.cos(theta_t)) / (np.cos(theta) + n * np.cos(theta_t))\n",
    "rp = (n * np.cos(theta) - np.cos(theta_t)) / (n * np.cos(theta) + np.cos(theta_t))"
   ]
  },
  {
   "cell_type": "code",
   "execution_count": 49,
   "id": "middle-andrews",
   "metadata": {},
   "outputs": [],
   "source": [
    "data = pd.DataFrame([theta / np.pi * 180, rs, rp]).T\n",
    "data.columns = ['theta', 'rs', 'rp']"
   ]
  },
  {
   "cell_type": "code",
   "execution_count": 57,
   "id": "systematic-arcade",
   "metadata": {},
   "outputs": [
    {
     "data": {
      "text/plain": [
       "53.13010235415597"
      ]
     },
     "execution_count": 57,
     "metadata": {},
     "output_type": "execute_result"
    }
   ],
   "source": [
    "np.arctan(n) / np.pi * 180"
   ]
  },
  {
   "cell_type": "code",
   "execution_count": 58,
   "id": "polar-triumph",
   "metadata": {},
   "outputs": [
    {
     "data": {
      "image/png": "[encoded data removed]",
      "text/plain": [
       "<Figure size 432x288 with 1 Axes>"
      ]
     },
     "metadata": {
      "needs_background": "light"
     },
     "output_type": "display_data"
    }
   ],
   "source": [
    "data2 = data #[(data.theta - 60).abs() < 1]\n",
    "plt.plot(data2.theta, data2.rs ** 2) #rs\n",
    "plt.plot(data2.theta, data2.rp ** 2) #rp\n",
    "plt.show()"
   ]
  }
 ],
 "metadata": {
  "kernelspec": {
   "display_name": "Python 3",
   "language": "python",
   "name": "python3"
  },
  "language_info": {
   "codemirror_mode": {
    "name": "ipython",
    "version": 3
   },
   "file_extension": ".py",
   "mimetype": "text/x-python",
   "name": "python",
   "nbconvert_exporter": "python",
   "pygments_lexer": "ipython3",
   "version": "3.9.2"
  }
 },
 "nbformat": 4,
 "nbformat_minor": 5
}
