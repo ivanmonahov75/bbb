{
 "cells": [
  {
   "cell_type": "code",
   "execution_count": 150,
   "metadata": {},
   "outputs": [],
   "source": [
    "import pandas as pd\n",
    "import numpy as np\n",
    "import matplotlib.pyplot as plt\n",
    "plt.rcParams.update({'font.size': 22})\n",
    "import math"
   ]
  },
  {
   "cell_type": "code",
   "execution_count": 157,
   "metadata": {},
   "outputs": [],
   "source": [
    "plt.rcParams.update({'font.size': 22})\n",
    "name = \"result\""
   ]
  },
  {
   "cell_type": "code",
   "execution_count": 158,
   "metadata": {},
   "outputs": [],
   "source": [
    "data = pd.read_csv(name + \".csv\", names=[\"k\", \"r\"])"
   ]
  },
  {
   "cell_type": "code",
   "execution_count": 159,
   "metadata": {},
   "outputs": [],
   "source": [
    "import math\n",
    "data[\"ln1\"] = 8 * 0.1 * 17.56 * (10 ** (-6)) / data[\"k\"] / 3.1416 * 1000\n",
    "data[\"ln2\"] = data[\"r\"] / 1000\n",
    "a = [math.log(data[\"ln1\"][0]), math.log(data[\"ln1\"][1])]\n",
    "b = [math.log(data[\"ln2\"][0]), math.log(data[\"ln2\"][1])]\n",
    "a = pd.DataFrame(a)[0].values\n",
    "sigma_X = 0\n",
    "b = pd.DataFrame(b)[0].values\n",
    "X = b\n",
    "Y = a\n",
    "sigma_Y = 0"
   ]
  },
  {
   "cell_type": "code",
   "execution_count": 160,
   "metadata": {},
   "outputs": [],
   "source": [
    "A = np.vstack([X, np.ones(len(X))]).T\n",
    "k, b = np.linalg.lstsq(A, Y, rcond=None)[0]\n",
    "#sigma_k = math.sqrt((Y.std() - Y.mean()**2 ) / (X.std() - X.mean()**2 ) - b**2 ) / math.sqrt(len(X))\n",
    "#eps_k = sigma_k / k\n",
    "#sigma_b = sigma_k * math.sqrt(X.std() / X.mean() - X.mean()**2 )"
   ]
  },
  {
   "cell_type": "code",
   "execution_count": 161,
   "metadata": {
    "scrolled": true
   },
   "outputs": [
    {
     "data": {
      "image/png": "[encoded data removed]",
      "text/plain": [
       "<Figure size 864x504 with 1 Axes>"
      ]
     },
     "metadata": {
      "needs_background": "light"
     },
     "output_type": "display_data"
    }
   ],
   "source": [
    "fig = plt.figure(figsize=(12, 7))\n",
    "ax = fig.gca()\n",
    "plt.scatter(X, Y, marker=\".\")\n",
    "plt.errorbar(X, Y, xerr=sigma_X, yerr=sigma_Y, linestyle=\"None\")\n",
    "delta_x = (X.max() - X.min()) / len(X)\n",
    "delta_y = (Y.max() - Y.min()) / len(Y)\n",
    "ax.set_xlim(X.min() - delta_x/2, X.max() + delta_x/2)\n",
    "ax.set_ylim((Y.min() - delta_y/2), Y.max() + delta_y/2)\n",
    "plt.xlabel(\"$ln\\ r$\")\n",
    "plt.ylabel(\"$ln\\ 1$\")\n",
    "plt.plot(X, (k*X + b), 'r', label='Fitted line')\n",
    "plt.grid(True)\n",
    "plt.savefig(\"../\" + name + \".png\")"
   ]
  },
  {
   "cell_type": "code",
   "execution_count": 162,
   "metadata": {},
   "outputs": [
    {
     "data": {
      "text/plain": [
       "4.642423317176897"
      ]
     },
     "execution_count": 162,
     "metadata": {},
     "output_type": "execute_result"
    }
   ],
   "source": [
    "k"
   ]
  },
  {
   "cell_type": "code",
   "execution_count": 149,
   "metadata": {
    "scrolled": true
   },
   "outputs": [
    {
     "data": {
      "text/plain": [
       "18.88136953026975"
      ]
     },
     "execution_count": 149,
     "metadata": {},
     "output_type": "execute_result"
    }
   ],
   "source": [
    "b"
   ]
  },
  {
   "cell_type": "code",
   "execution_count": 69,
   "metadata": {
    "scrolled": true
   },
   "outputs": [],
   "source": [
    "data = np.around(data, decimals = 2)"
   ]
  },
  {
   "cell_type": "code",
   "execution_count": 38,
   "metadata": {},
   "outputs": [
    {
     "data": {
      "text/plain": [
       "array([1.38869777e-05, 3.45831928e-06])"
      ]
     },
     "execution_count": 38,
     "metadata": {},
     "output_type": "execute_result"
    }
   ],
   "source": [
    "data[\"ln1\"].values"
   ]
  },
  {
   "cell_type": "code",
   "execution_count": 72,
   "metadata": {},
   "outputs": [
    {
     "name": "stdout",
     "output_type": "stream",
     "text": [
      "\\begin{tabular}{lrrrrrrrrr}\n",
      "\\toprule\n",
      "{} &    V &   N &   l &     t1 &     t2 &     t3 &     t4 &      Q &       P \\\\\n",
      "\\midrule\n",
      "0  &  0.5 &   1 &  10 &  42.85 &  42.12 &  42.19 &  41.92 &  11.83 &   19.61 \\\\\n",
      "1  &  0.5 &   2 &  15 &  26.12 &  25.80 &  26.03 &  25.79 &  19.28 &   29.42 \\\\\n",
      "2  &  1.0 &   3 &  20 &  37.69 &  36.44 &  37.78 &  36.25 &  27.00 &   39.23 \\\\\n",
      "3  &  1.0 &   4 &  25 &  29.12 &  28.32 &  28.25 &  29.07 &  34.86 &   49.03 \\\\\n",
      "4  &  1.5 &   5 &  30 &  35.69 &  35.29 &  35.81 &  35.63 &  42.13 &   58.84 \\\\\n",
      "5  &  1.5 &   6 &  35 &  30.28 &  29.62 &  29.41 &  29.96 &  50.31 &   68.65 \\\\\n",
      "6  &  2.0 &   7 &  40 &  35.09 &  35.25 &  35.22 &  35.28 &  56.80 &   78.45 \\\\\n",
      "7  &  2.0 &   8 &  45 &  30.59 &  30.75 &  30.71 &  30.41 &  65.33 &   88.26 \\\\\n",
      "8  &  2.5 &   9 &  50 &  34.78 &  34.55 &  34.52 &  34.49 &  72.29 &   98.07 \\\\\n",
      "9  &  2.5 &  10 &  60 &  30.02 &  30.08 &  29.45 &  29.92 &  83.70 &  117.68 \\\\\n",
      "10 &  3.0 &  11 &  65 &  33.56 &  33.72 &  33.49 &  33.49 &  89.38 &  127.49 \\\\\n",
      "11 &  3.0 &  12 &  70 &  32.25 &  32.10 &  32.12 &  32.17 &  93.28 &  137.29 \\\\\n",
      "12 &  3.0 &  13 &  75 &  31.55 &  31.29 &  31.36 &  31.30 &  95.62 &  147.10 \\\\\n",
      "\\bottomrule\n",
      "\\end{tabular}\n",
      "\n"
     ]
    }
   ],
   "source": [
    "print(data.to_latex())"
   ]
  },
  {
   "cell_type": "code",
   "execution_count": null,
   "metadata": {},
   "outputs": [],
   "source": []
  }
 ],
 "metadata": {
  "kernelspec": {
   "display_name": "Python 3",
   "language": "python",
   "name": "python3"
  },
  "language_info": {
   "codemirror_mode": {
    "name": "ipython",
    "version": 3
   },
   "file_extension": ".py",
   "mimetype": "text/x-python",
   "name": "python",
   "nbconvert_exporter": "python",
   "pygments_lexer": "ipython3",
   "version": "3.5.2"
  }
 },
 "nbformat": 4,
 "nbformat_minor": 2
}
