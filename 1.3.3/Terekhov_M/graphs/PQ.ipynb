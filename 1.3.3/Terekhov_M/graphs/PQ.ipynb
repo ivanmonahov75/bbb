{
 "cells": [
  {
   "cell_type": "code",
   "execution_count": 61,
   "metadata": {},
   "outputs": [],
   "source": [
    "import pandas as pd\n",
    "import numpy as np\n",
    "import matplotlib.pyplot as plt\n",
    "plt.rcParams.update({'font.size': 22})\n",
    "import math"
   ]
  },
  {
   "cell_type": "code",
   "execution_count": 62,
   "metadata": {},
   "outputs": [],
   "source": [
    "plt.rcParams.update({'font.size': 22})\n",
    "name = \"PQ\""
   ]
  },
  {
   "cell_type": "code",
   "execution_count": 63,
   "metadata": {},
   "outputs": [],
   "source": [
    "data = pd.read_csv(name + \".csv\", names=[\"V\", \"N\", \"l\", \"t1\", \"t2\", \"t3\", \"t4\"])"
   ]
  },
  {
   "cell_type": "code",
   "execution_count": 85,
   "metadata": {},
   "outputs": [],
   "source": [
    "K = 0.2\n",
    "sigma_t = 0.5\n",
    "sigma_V = 0\n",
    "sigma_l = 0\n",
    "data[\"Q\"] = data[\"V\"] / ((data[\"t1\"] + data[\"t2\"] + data[\"t3\"] + data[\"t4\"]) / 4) * (10 ** 3)\n",
    "sigma_Q = 0.5\n",
    "data[\"P\"] = 9.80665 * K * data[\"l\"]\n",
    "sigma_P = 1.5\n",
    "X = data[\"Q\"].values\n",
    "sigma_X = sigma_Q\n",
    "Y = data[\"P\"].values\n",
    "sigma_Y = sigma_P"
   ]
  },
  {
   "cell_type": "code",
   "execution_count": 86,
   "metadata": {},
   "outputs": [],
   "source": [
    "A = np.vstack([X[:-4], np.ones(len(X[:-4]))]).T\n",
    "k, b = np.linalg.lstsq(A, Y[:-4], rcond=None)[0]\n",
    "#sigma_k = math.sqrt((Y.std() - Y.mean()**2 ) / (X.std() - X.mean()**2 ) - b**2 ) / math.sqrt(len(X))\n",
    "#eps_k = sigma_k / k\n",
    "#sigma_b = sigma_k * math.sqrt(X.std() / X.mean() - X.mean()**2 )"
   ]
  },
  {
   "cell_type": "code",
   "execution_count": 87,
   "metadata": {},
   "outputs": [
    {
     "data": {
      "image/png": "[encoded data removed]",
      "text/plain": [
       "<Figure size 864x504 with 1 Axes>"
      ]
     },
     "metadata": {
      "needs_background": "light"
     },
     "output_type": "display_data"
    }
   ],
   "source": [
    "fig = plt.figure(figsize=(12, 7))\n",
    "ax = fig.gca()\n",
    "plt.scatter(X, Y, marker=\".\")\n",
    "plt.errorbar(X, Y, xerr=sigma_X, yerr=sigma_Y, linestyle=\"None\")\n",
    "delta_x = (X.max() - X.min()) / len(X)\n",
    "delta_y = (Y.max() - Y.min()) / len(Y)\n",
    "ax.set_xlim(X.min() - delta_x/2, X.max() + delta_x/2)\n",
    "ax.set_ylim((Y.min() - delta_y/2), Y.max() + delta_y/2)\n",
    "plt.xlabel(\"$Q, 10^{-3} л/с$\")\n",
    "plt.ylabel(\"$P, 10^{-3} Па$\")\n",
    "plt.plot(X, (k*X + b), 'r', label='Fitted line')\n",
    "plt.grid(True)\n",
    "plt.savefig(\"../\" + name + \".png\")"
   ]
  },
  {
   "cell_type": "code",
   "execution_count": 88,
   "metadata": {},
   "outputs": [
    {
     "data": {
      "text/plain": [
       "1.2927593316214034"
      ]
     },
     "execution_count": 88,
     "metadata": {},
     "output_type": "execute_result"
    }
   ],
   "source": [
    "k"
   ]
  },
  {
   "cell_type": "code",
   "execution_count": 68,
   "metadata": {
    "scrolled": true
   },
   "outputs": [
    {
     "data": {
      "text/plain": [
       "4.283877346825285"
      ]
     },
     "execution_count": 68,
     "metadata": {},
     "output_type": "execute_result"
    }
   ],
   "source": [
    "b"
   ]
  },
  {
   "cell_type": "code",
   "execution_count": 69,
   "metadata": {
    "scrolled": true
   },
   "outputs": [],
   "source": [
    "data = np.around(data, decimals = 2)"
   ]
  },
  {
   "cell_type": "code",
   "execution_count": 70,
   "metadata": {},
   "outputs": [
    {
     "data": {
      "text/html": [
       "<div>\n",
       "<style scoped>\n",
       "    .dataframe tbody tr th:only-of-type {\n",
       "        vertical-align: middle;\n",
       "    }\n",
       "\n",
       "    .dataframe tbody tr th {\n",
       "        vertical-align: top;\n",
       "    }\n",
       "\n",
       "    .dataframe thead th {\n",
       "        text-align: right;\n",
       "    }\n",
       "</style>\n",
       "<table border=\"1\" class=\"dataframe\">\n",
       "  <thead>\n",
       "    <tr style=\"text-align: right;\">\n",
       "      <th></th>\n",
       "      <th>V</th>\n",
       "      <th>N</th>\n",
       "      <th>l</th>\n",
       "      <th>t1</th>\n",
       "      <th>t2</th>\n",
       "      <th>t3</th>\n",
       "      <th>t4</th>\n",
       "      <th>Q</th>\n",
       "      <th>P</th>\n",
       "    </tr>\n",
       "  </thead>\n",
       "  <tbody>\n",
       "    <tr>\n",
       "      <th>0</th>\n",
       "      <td>0.5</td>\n",
       "      <td>1</td>\n",
       "      <td>10</td>\n",
       "      <td>42.85</td>\n",
       "      <td>42.12</td>\n",
       "      <td>42.19</td>\n",
       "      <td>41.92</td>\n",
       "      <td>11.83</td>\n",
       "      <td>19.61</td>\n",
       "    </tr>\n",
       "    <tr>\n",
       "      <th>1</th>\n",
       "      <td>0.5</td>\n",
       "      <td>2</td>\n",
       "      <td>15</td>\n",
       "      <td>26.12</td>\n",
       "      <td>25.80</td>\n",
       "      <td>26.03</td>\n",
       "      <td>25.79</td>\n",
       "      <td>19.28</td>\n",
       "      <td>29.42</td>\n",
       "    </tr>\n",
       "    <tr>\n",
       "      <th>2</th>\n",
       "      <td>1.0</td>\n",
       "      <td>3</td>\n",
       "      <td>20</td>\n",
       "      <td>37.69</td>\n",
       "      <td>36.44</td>\n",
       "      <td>37.78</td>\n",
       "      <td>36.25</td>\n",
       "      <td>27.00</td>\n",
       "      <td>39.23</td>\n",
       "    </tr>\n",
       "    <tr>\n",
       "      <th>3</th>\n",
       "      <td>1.0</td>\n",
       "      <td>4</td>\n",
       "      <td>25</td>\n",
       "      <td>29.12</td>\n",
       "      <td>28.32</td>\n",
       "      <td>28.25</td>\n",
       "      <td>29.07</td>\n",
       "      <td>34.86</td>\n",
       "      <td>49.03</td>\n",
       "    </tr>\n",
       "    <tr>\n",
       "      <th>4</th>\n",
       "      <td>1.5</td>\n",
       "      <td>5</td>\n",
       "      <td>30</td>\n",
       "      <td>35.69</td>\n",
       "      <td>35.29</td>\n",
       "      <td>35.81</td>\n",
       "      <td>35.63</td>\n",
       "      <td>42.13</td>\n",
       "      <td>58.84</td>\n",
       "    </tr>\n",
       "    <tr>\n",
       "      <th>5</th>\n",
       "      <td>1.5</td>\n",
       "      <td>6</td>\n",
       "      <td>35</td>\n",
       "      <td>30.28</td>\n",
       "      <td>29.62</td>\n",
       "      <td>29.41</td>\n",
       "      <td>29.96</td>\n",
       "      <td>50.31</td>\n",
       "      <td>68.65</td>\n",
       "    </tr>\n",
       "    <tr>\n",
       "      <th>6</th>\n",
       "      <td>2.0</td>\n",
       "      <td>7</td>\n",
       "      <td>40</td>\n",
       "      <td>35.09</td>\n",
       "      <td>35.25</td>\n",
       "      <td>35.22</td>\n",
       "      <td>35.28</td>\n",
       "      <td>56.80</td>\n",
       "      <td>78.45</td>\n",
       "    </tr>\n",
       "    <tr>\n",
       "      <th>7</th>\n",
       "      <td>2.0</td>\n",
       "      <td>8</td>\n",
       "      <td>45</td>\n",
       "      <td>30.59</td>\n",
       "      <td>30.75</td>\n",
       "      <td>30.71</td>\n",
       "      <td>30.41</td>\n",
       "      <td>65.33</td>\n",
       "      <td>88.26</td>\n",
       "    </tr>\n",
       "    <tr>\n",
       "      <th>8</th>\n",
       "      <td>2.5</td>\n",
       "      <td>9</td>\n",
       "      <td>50</td>\n",
       "      <td>34.78</td>\n",
       "      <td>34.55</td>\n",
       "      <td>34.52</td>\n",
       "      <td>34.49</td>\n",
       "      <td>72.29</td>\n",
       "      <td>98.07</td>\n",
       "    </tr>\n",
       "    <tr>\n",
       "      <th>9</th>\n",
       "      <td>2.5</td>\n",
       "      <td>10</td>\n",
       "      <td>60</td>\n",
       "      <td>30.02</td>\n",
       "      <td>30.08</td>\n",
       "      <td>29.45</td>\n",
       "      <td>29.92</td>\n",
       "      <td>83.70</td>\n",
       "      <td>117.68</td>\n",
       "    </tr>\n",
       "    <tr>\n",
       "      <th>10</th>\n",
       "      <td>3.0</td>\n",
       "      <td>11</td>\n",
       "      <td>65</td>\n",
       "      <td>33.56</td>\n",
       "      <td>33.72</td>\n",
       "      <td>33.49</td>\n",
       "      <td>33.49</td>\n",
       "      <td>89.38</td>\n",
       "      <td>127.49</td>\n",
       "    </tr>\n",
       "    <tr>\n",
       "      <th>11</th>\n",
       "      <td>3.0</td>\n",
       "      <td>12</td>\n",
       "      <td>70</td>\n",
       "      <td>32.25</td>\n",
       "      <td>32.10</td>\n",
       "      <td>32.12</td>\n",
       "      <td>32.17</td>\n",
       "      <td>93.28</td>\n",
       "      <td>137.29</td>\n",
       "    </tr>\n",
       "    <tr>\n",
       "      <th>12</th>\n",
       "      <td>3.0</td>\n",
       "      <td>13</td>\n",
       "      <td>75</td>\n",
       "      <td>31.55</td>\n",
       "      <td>31.29</td>\n",
       "      <td>31.36</td>\n",
       "      <td>31.30</td>\n",
       "      <td>95.62</td>\n",
       "      <td>147.10</td>\n",
       "    </tr>\n",
       "  </tbody>\n",
       "</table>\n",
       "</div>"
      ],
      "text/plain": [
       "      V   N   l     t1     t2     t3     t4      Q       P\n",
       "0   0.5   1  10  42.85  42.12  42.19  41.92  11.83   19.61\n",
       "1   0.5   2  15  26.12  25.80  26.03  25.79  19.28   29.42\n",
       "2   1.0   3  20  37.69  36.44  37.78  36.25  27.00   39.23\n",
       "3   1.0   4  25  29.12  28.32  28.25  29.07  34.86   49.03\n",
       "4   1.5   5  30  35.69  35.29  35.81  35.63  42.13   58.84\n",
       "5   1.5   6  35  30.28  29.62  29.41  29.96  50.31   68.65\n",
       "6   2.0   7  40  35.09  35.25  35.22  35.28  56.80   78.45\n",
       "7   2.0   8  45  30.59  30.75  30.71  30.41  65.33   88.26\n",
       "8   2.5   9  50  34.78  34.55  34.52  34.49  72.29   98.07\n",
       "9   2.5  10  60  30.02  30.08  29.45  29.92  83.70  117.68\n",
       "10  3.0  11  65  33.56  33.72  33.49  33.49  89.38  127.49\n",
       "11  3.0  12  70  32.25  32.10  32.12  32.17  93.28  137.29\n",
       "12  3.0  13  75  31.55  31.29  31.36  31.30  95.62  147.10"
      ]
     },
     "execution_count": 70,
     "metadata": {},
     "output_type": "execute_result"
    }
   ],
   "source": [
    "data"
   ]
  },
  {
   "cell_type": "code",
   "execution_count": 72,
   "metadata": {},
   "outputs": [
    {
     "name": "stdout",
     "output_type": "stream",
     "text": [
      "\\begin{tabular}{lrrrrrrrrr}\n",
      "\\toprule\n",
      "{} &    V &   N &   l &     t1 &     t2 &     t3 &     t4 &      Q &       P \\\\\n",
      "\\midrule\n",
      "0  &  0.5 &   1 &  10 &  42.85 &  42.12 &  42.19 &  41.92 &  11.83 &   19.61 \\\\\n",
      "1  &  0.5 &   2 &  15 &  26.12 &  25.80 &  26.03 &  25.79 &  19.28 &   29.42 \\\\\n",
      "2  &  1.0 &   3 &  20 &  37.69 &  36.44 &  37.78 &  36.25 &  27.00 &   39.23 \\\\\n",
      "3  &  1.0 &   4 &  25 &  29.12 &  28.32 &  28.25 &  29.07 &  34.86 &   49.03 \\\\\n",
      "4  &  1.5 &   5 &  30 &  35.69 &  35.29 &  35.81 &  35.63 &  42.13 &   58.84 \\\\\n",
      "5  &  1.5 &   6 &  35 &  30.28 &  29.62 &  29.41 &  29.96 &  50.31 &   68.65 \\\\\n",
      "6  &  2.0 &   7 &  40 &  35.09 &  35.25 &  35.22 &  35.28 &  56.80 &   78.45 \\\\\n",
      "7  &  2.0 &   8 &  45 &  30.59 &  30.75 &  30.71 &  30.41 &  65.33 &   88.26 \\\\\n",
      "8  &  2.5 &   9 &  50 &  34.78 &  34.55 &  34.52 &  34.49 &  72.29 &   98.07 \\\\\n",
      "9  &  2.5 &  10 &  60 &  30.02 &  30.08 &  29.45 &  29.92 &  83.70 &  117.68 \\\\\n",
      "10 &  3.0 &  11 &  65 &  33.56 &  33.72 &  33.49 &  33.49 &  89.38 &  127.49 \\\\\n",
      "11 &  3.0 &  12 &  70 &  32.25 &  32.10 &  32.12 &  32.17 &  93.28 &  137.29 \\\\\n",
      "12 &  3.0 &  13 &  75 &  31.55 &  31.29 &  31.36 &  31.30 &  95.62 &  147.10 \\\\\n",
      "\\bottomrule\n",
      "\\end{tabular}\n",
      "\n"
     ]
    }
   ],
   "source": [
    "print(data.to_latex())"
   ]
  },
  {
   "cell_type": "code",
   "execution_count": null,
   "metadata": {},
   "outputs": [],
   "source": []
  }
 ],
 "metadata": {
  "kernelspec": {
   "display_name": "Python 3",
   "language": "python",
   "name": "python3"
  },
  "language_info": {
   "codemirror_mode": {
    "name": "ipython",
    "version": 3
   },
   "file_extension": ".py",
   "mimetype": "text/x-python",
   "name": "python",
   "nbconvert_exporter": "python",
   "pygments_lexer": "ipython3",
   "version": "3.5.2"
  }
 },
 "nbformat": 4,
 "nbformat_minor": 2
}
