{
 "cells": [
  {
   "cell_type": "code",
   "execution_count": 17,
   "metadata": {},
   "outputs": [],
   "source": [
    "import pandas as pd\n",
    "import numpy as np\n",
    "import matplotlib.pyplot as plt\n",
    "plt.rcParams.update({'font.size': 22})\n",
    "import math"
   ]
  },
  {
   "cell_type": "code",
   "execution_count": 18,
   "metadata": {},
   "outputs": [],
   "source": [
    "plt.rcParams.update({'font.size': 22})\n",
    "name = \"PQ2\""
   ]
  },
  {
   "cell_type": "code",
   "execution_count": 19,
   "metadata": {},
   "outputs": [],
   "source": [
    "data = pd.read_csv(name + \".csv\", names=[\"V\", \"N\", \"l\", \"t1\", \"t2\", \"t3\", \"t4\"])"
   ]
  },
  {
   "cell_type": "code",
   "execution_count": 34,
   "metadata": {},
   "outputs": [],
   "source": [
    "K = 0.2\n",
    "sigma_t = 0.5\n",
    "sigma_V = 0\n",
    "sigma_l = 0\n",
    "data[\"Q\"] = data[\"V\"]  / ((data[\"t1\"] + data[\"t2\"] + data[\"t3\"] + data[\"t4\"]) / 4) * (10 ** 3)\n",
    "sigma_Q = 0.5\n",
    "data[\"P\"] = 9.80665 * K * data[\"l\"] \n",
    "sigma_P = 1\n",
    "X = data[\"Q\"].values\n",
    "sigma_X = sigma_Q\n",
    "Y = data[\"P\"].values\n",
    "sigma_Y = sigma_P"
   ]
  },
  {
   "cell_type": "code",
   "execution_count": 35,
   "metadata": {},
   "outputs": [],
   "source": [
    "A = np.vstack([X[:-3], np.ones(len(X[:-3]))]).T\n",
    "k, b = np.linalg.lstsq(A, Y[:-3], rcond=None)[0]\n",
    "#sigma_k = math.sqrt((Y.std() - Y.mean()**2 ) / (X.std() - X.mean()**2 ) - b**2 ) / math.sqrt(len(X))\n",
    "#eps_k = sigma_k / k\n",
    "#sigma_b = sigma_k * math.sqrt(X.std() / X.mean() - X.mean()**2 )"
   ]
  },
  {
   "cell_type": "code",
   "execution_count": 36,
   "metadata": {
    "scrolled": true
   },
   "outputs": [
    {
     "data": {
      "image/png": "[encoded data removed]",
      "text/plain": [
       "<Figure size 864x504 with 1 Axes>"
      ]
     },
     "metadata": {
      "needs_background": "light"
     },
     "output_type": "display_data"
    }
   ],
   "source": [
    "fig = plt.figure(figsize=(12, 7))\n",
    "ax = fig.gca()\n",
    "plt.scatter(X, Y, marker=\".\")\n",
    "plt.errorbar(X, Y, xerr=sigma_X, yerr=sigma_Y, linestyle=\"None\")\n",
    "delta_x = (X.max() - X.min()) / len(X)\n",
    "delta_y = (Y.max() - Y.min()) / len(Y)\n",
    "ax.set_xlim(X.min() - delta_x/2, X.max() + delta_x/2)\n",
    "ax.set_ylim((Y.min() - delta_y/2), Y.max() + delta_y/2)\n",
    "plt.xlabel(\"$Q, 10^{-3} л/с$\")\n",
    "plt.ylabel(\"$P, 10^{-3} Па$\")\n",
    "plt.plot(X, (k*X + b), 'r', label='Fitted line')\n",
    "plt.grid(True)\n",
    "plt.savefig(\"../\" + name + \".png\")"
   ]
  },
  {
   "cell_type": "code",
   "execution_count": 37,
   "metadata": {},
   "outputs": [
    {
     "data": {
      "text/plain": [
       "0.32244276503515795"
      ]
     },
     "execution_count": 37,
     "metadata": {},
     "output_type": "execute_result"
    }
   ],
   "source": [
    "k"
   ]
  },
  {
   "cell_type": "code",
   "execution_count": 33,
   "metadata": {
    "scrolled": true
   },
   "outputs": [
    {
     "data": {
      "text/plain": [
       "-0.6385257013721716"
      ]
     },
     "execution_count": 33,
     "metadata": {},
     "output_type": "execute_result"
    }
   ],
   "source": [
    "b"
   ]
  },
  {
   "cell_type": "code",
   "execution_count": 14,
   "metadata": {
    "scrolled": true
   },
   "outputs": [],
   "source": [
    "data = np.around(data, decimals = 2)"
   ]
  },
  {
   "cell_type": "code",
   "execution_count": 15,
   "metadata": {},
   "outputs": [
    {
     "data": {
      "text/html": [
       "<div>\n",
       "<style scoped>\n",
       "    .dataframe tbody tr th:only-of-type {\n",
       "        vertical-align: middle;\n",
       "    }\n",
       "\n",
       "    .dataframe tbody tr th {\n",
       "        vertical-align: top;\n",
       "    }\n",
       "\n",
       "    .dataframe thead th {\n",
       "        text-align: right;\n",
       "    }\n",
       "</style>\n",
       "<table border=\"1\" class=\"dataframe\">\n",
       "  <thead>\n",
       "    <tr style=\"text-align: right;\">\n",
       "      <th></th>\n",
       "      <th>V</th>\n",
       "      <th>N</th>\n",
       "      <th>l</th>\n",
       "      <th>t1</th>\n",
       "      <th>t2</th>\n",
       "      <th>t3</th>\n",
       "      <th>t4</th>\n",
       "      <th>Q</th>\n",
       "      <th>P</th>\n",
       "    </tr>\n",
       "  </thead>\n",
       "  <tbody>\n",
       "    <tr>\n",
       "      <th>0</th>\n",
       "      <td>2</td>\n",
       "      <td>1</td>\n",
       "      <td>10</td>\n",
       "      <td>31.90</td>\n",
       "      <td>32.00</td>\n",
       "      <td>32.00</td>\n",
       "      <td>31.98</td>\n",
       "      <td>62.56</td>\n",
       "      <td>19.61</td>\n",
       "    </tr>\n",
       "    <tr>\n",
       "      <th>1</th>\n",
       "      <td>2</td>\n",
       "      <td>2</td>\n",
       "      <td>15</td>\n",
       "      <td>21.32</td>\n",
       "      <td>21.42</td>\n",
       "      <td>21.38</td>\n",
       "      <td>21.23</td>\n",
       "      <td>93.73</td>\n",
       "      <td>29.42</td>\n",
       "    </tr>\n",
       "    <tr>\n",
       "      <th>2</th>\n",
       "      <td>5</td>\n",
       "      <td>3</td>\n",
       "      <td>20</td>\n",
       "      <td>40.44</td>\n",
       "      <td>40.69</td>\n",
       "      <td>40.41</td>\n",
       "      <td>40.57</td>\n",
       "      <td>123.37</td>\n",
       "      <td>39.23</td>\n",
       "    </tr>\n",
       "    <tr>\n",
       "      <th>3</th>\n",
       "      <td>5</td>\n",
       "      <td>4</td>\n",
       "      <td>25</td>\n",
       "      <td>34.91</td>\n",
       "      <td>35.19</td>\n",
       "      <td>35.09</td>\n",
       "      <td>35.02</td>\n",
       "      <td>142.64</td>\n",
       "      <td>49.03</td>\n",
       "    </tr>\n",
       "    <tr>\n",
       "      <th>4</th>\n",
       "      <td>5</td>\n",
       "      <td>5</td>\n",
       "      <td>30</td>\n",
       "      <td>32.91</td>\n",
       "      <td>32.97</td>\n",
       "      <td>33.06</td>\n",
       "      <td>32.95</td>\n",
       "      <td>151.64</td>\n",
       "      <td>58.84</td>\n",
       "    </tr>\n",
       "    <tr>\n",
       "      <th>5</th>\n",
       "      <td>5</td>\n",
       "      <td>6</td>\n",
       "      <td>35</td>\n",
       "      <td>31.38</td>\n",
       "      <td>31.40</td>\n",
       "      <td>31.47</td>\n",
       "      <td>31.47</td>\n",
       "      <td>159.08</td>\n",
       "      <td>68.65</td>\n",
       "    </tr>\n",
       "  </tbody>\n",
       "</table>\n",
       "</div>"
      ],
      "text/plain": [
       "   V  N   l     t1     t2     t3     t4       Q      P\n",
       "0  2  1  10  31.90  32.00  32.00  31.98   62.56  19.61\n",
       "1  2  2  15  21.32  21.42  21.38  21.23   93.73  29.42\n",
       "2  5  3  20  40.44  40.69  40.41  40.57  123.37  39.23\n",
       "3  5  4  25  34.91  35.19  35.09  35.02  142.64  49.03\n",
       "4  5  5  30  32.91  32.97  33.06  32.95  151.64  58.84\n",
       "5  5  6  35  31.38  31.40  31.47  31.47  159.08  68.65"
      ]
     },
     "execution_count": 15,
     "metadata": {},
     "output_type": "execute_result"
    }
   ],
   "source": [
    "data"
   ]
  },
  {
   "cell_type": "code",
   "execution_count": 16,
   "metadata": {},
   "outputs": [
    {
     "name": "stdout",
     "output_type": "stream",
     "text": [
      "\\begin{tabular}{lrrrrrrrrr}\n",
      "\\toprule\n",
      "{} &  V &  N &   l &     t1 &     t2 &     t3 &     t4 &       Q &      P \\\\\n",
      "\\midrule\n",
      "0 &  2 &  1 &  10 &  31.90 &  32.00 &  32.00 &  31.98 &   62.56 &  19.61 \\\\\n",
      "1 &  2 &  2 &  15 &  21.32 &  21.42 &  21.38 &  21.23 &   93.73 &  29.42 \\\\\n",
      "2 &  5 &  3 &  20 &  40.44 &  40.69 &  40.41 &  40.57 &  123.37 &  39.23 \\\\\n",
      "3 &  5 &  4 &  25 &  34.91 &  35.19 &  35.09 &  35.02 &  142.64 &  49.03 \\\\\n",
      "4 &  5 &  5 &  30 &  32.91 &  32.97 &  33.06 &  32.95 &  151.64 &  58.84 \\\\\n",
      "5 &  5 &  6 &  35 &  31.38 &  31.40 &  31.47 &  31.47 &  159.08 &  68.65 \\\\\n",
      "\\bottomrule\n",
      "\\end{tabular}\n",
      "\n"
     ]
    }
   ],
   "source": [
    "print(data.to_latex())"
   ]
  },
  {
   "cell_type": "code",
   "execution_count": null,
   "metadata": {},
   "outputs": [],
   "source": []
  }
 ],
 "metadata": {
  "kernelspec": {
   "display_name": "Python 3",
   "language": "python",
   "name": "python3"
  },
  "language_info": {
   "codemirror_mode": {
    "name": "ipython",
    "version": 3
   },
   "file_extension": ".py",
   "mimetype": "text/x-python",
   "name": "python",
   "nbconvert_exporter": "python",
   "pygments_lexer": "ipython3",
   "version": "3.5.2"
  }
 },
 "nbformat": 4,
 "nbformat_minor": 2
}
