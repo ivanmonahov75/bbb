{
 "cells": [
  {
   "cell_type": "code",
   "execution_count": 15,
   "metadata": {},
   "outputs": [],
   "source": [
    "import pandas as pd\n",
    "import numpy as np\n",
    "import matplotlib.pyplot as plt\n",
    "plt.rcParams.update({'font.size': 22})\n",
    "import math"
   ]
  },
  {
   "cell_type": "code",
   "execution_count": 16,
   "metadata": {},
   "outputs": [],
   "source": [
    "name = \"2\"\n",
    "plt.rcParams.update({'font.size': 22})"
   ]
  },
  {
   "cell_type": "code",
   "execution_count": 17,
   "metadata": {},
   "outputs": [],
   "source": [
    "data1 = pd.read_csv(name + \".csv\", names=[\"U\", \"f\"])\n",
    "data2 = pd.read_csv(\"2.csv\", names=[\"U\", \"f\"])"
   ]
  },
  {
   "cell_type": "code",
   "execution_count": 18,
   "metadata": {},
   "outputs": [],
   "source": [
    "X1 = data1[\"f\"].values / 23.590\n",
    "sigma_X1 = 0\n",
    "Y1 = data1[\"U\"].values\n",
    "sigma_Y1 = 0\n",
    "X2 = data2[\"f\"].values / 19.751\n",
    "sigma_X2 = 0\n",
    "Y2 = data2[\"U\"].values\n",
    "sigma_Y2 = 0"
   ]
  },
  {
   "cell_type": "code",
   "execution_count": 19,
   "metadata": {},
   "outputs": [],
   "source": [
    "#A = np.vstack([X, np.ones(len(X))]).T\n",
    "#k, b = np.linalg.lstsq(A, Y, rcond=None)[0]\n",
    "#sigma_k = math.sqrt((Y.std() - Y.mean()**2 ) / (X.std() - X.mean()**2 ) - b**2 ) / math.sqrt(len(X))\n",
    "#eps_k = sigma_k / k\n",
    "#sigma_b = sigma_k * math.sqrt(X.std() / X.mean() - X.mean()**2 )"
   ]
  },
  {
   "cell_type": "code",
   "execution_count": 20,
   "metadata": {},
   "outputs": [
    {
     "data": {
      "image/png": "[encoded data removed]",
      "text/plain": [
       "<Figure size 864x504 with 1 Axes>"
      ]
     },
     "metadata": {
      "needs_background": "light"
     },
     "output_type": "display_data"
    }
   ],
   "source": [
    "fig = plt.figure(figsize=(12, 7))\n",
    "ax = fig.gca()\n",
    "plt.scatter(X1, Y1, marker=\".\")\n",
    "plt.errorbar(X1, Y1, xerr=sigma_X1, yerr=sigma_Y1, linestyle=\"None\")\n",
    "plt.scatter(X2, Y2, marker=\".\")\n",
    "plt.errorbar(X2, Y2, xerr=sigma_X2, yerr=sigma_Y2, linestyle=\"None\")\n",
    "delta_x = (X1.max() - X1.min()) / len(X1)\n",
    "delta_y = (Y1.max() - Y1.min()) / len(Y1)\n",
    "ax.set_xlim(X2.min() - delta_x/2 - 0.2, X1.max() + delta_x/2 + 0.2)\n",
    "ax.set_ylim((Y2.min() - delta_y/2 - 0.05), Y1.max() + delta_y/2 + 0.05)\n",
    "plt.xlabel(\"$f, кГц$\")\n",
    "plt.ylabel(\"$U, мВ$\")\n",
    "#plt.plot(X, (k*X + b), 'r', label='Fitted line')\n",
    "plt.grid(True)\n",
    "plt.savefig(\"../\" + name + \".png\")"
   ]
  },
  {
   "cell_type": "code",
   "execution_count": 42,
   "metadata": {},
   "outputs": [
    {
     "ename": "NameError",
     "evalue": "name 'k' is not defined",
     "output_type": "error",
     "traceback": [
      "\u001b[0;31m---------------------------------------------------------------------------\u001b[0m",
      "\u001b[0;31mNameError\u001b[0m                                 Traceback (most recent call last)",
      "\u001b[0;32m<ipython-input-42-141b3ea3f03f>\u001b[0m in \u001b[0;36m<module>\u001b[0;34m\u001b[0m\n\u001b[0;32m----> 1\u001b[0;31m \u001b[0mk\u001b[0m\u001b[0;34m\u001b[0m\u001b[0m\n\u001b[0m",
      "\u001b[0;31mNameError\u001b[0m: name 'k' is not defined"
     ]
    }
   ],
   "source": [
    "k"
   ]
  },
  {
   "cell_type": "code",
   "execution_count": 8,
   "metadata": {
    "scrolled": true
   },
   "outputs": [
    {
     "ename": "NameError",
     "evalue": "name 'b' is not defined",
     "output_type": "error",
     "traceback": [
      "\u001b[0;31m---------------------------------------------------------------------------\u001b[0m",
      "\u001b[0;31mNameError\u001b[0m                                 Traceback (most recent call last)",
      "\u001b[0;32m<ipython-input-8-89e6c98d9288>\u001b[0m in \u001b[0;36m<module>\u001b[0;34m\u001b[0m\n\u001b[0;32m----> 1\u001b[0;31m \u001b[0mb\u001b[0m\u001b[0;34m\u001b[0m\u001b[0m\n\u001b[0m",
      "\u001b[0;31mNameError\u001b[0m: name 'b' is not defined"
     ]
    }
   ],
   "source": [
    "b"
   ]
  },
  {
   "cell_type": "code",
   "execution_count": 9,
   "metadata": {},
   "outputs": [
    {
     "ename": "NameError",
     "evalue": "name 'data' is not defined",
     "output_type": "error",
     "traceback": [
      "\u001b[0;31m---------------------------------------------------------------------------\u001b[0m",
      "\u001b[0;31mNameError\u001b[0m                                 Traceback (most recent call last)",
      "\u001b[0;32m<ipython-input-9-c5d84736ba45>\u001b[0m in \u001b[0;36m<module>\u001b[0;34m\u001b[0m\n\u001b[0;32m----> 1\u001b[0;31m \u001b[0mdata\u001b[0m\u001b[0;34m\u001b[0m\u001b[0m\n\u001b[0m",
      "\u001b[0;31mNameError\u001b[0m: name 'data' is not defined"
     ]
    }
   ],
   "source": [
    "data"
   ]
  },
  {
   "cell_type": "code",
   "execution_count": 68,
   "metadata": {},
   "outputs": [
    {
     "name": "stdout",
     "output_type": "stream",
     "text": [
      "\\begin{tabular}{lrr}\n",
      "\\toprule\n",
      "{} &    U &       f \\\\\n",
      "\\midrule\n",
      "0  &  500 &  19.044 \\\\\n",
      "1  &  550 &  19.148 \\\\\n",
      "2  &  600 &  19.240 \\\\\n",
      "3  &  650 &  19.329 \\\\\n",
      "4  &  700 &  19.414 \\\\\n",
      "5  &  750 &  19.504 \\\\\n",
      "6  &  800 &  19.616 \\\\\n",
      "7  &  831 &  19.751 \\\\\n",
      "8  &  800 &  19.890 \\\\\n",
      "9  &  750 &  19.993 \\\\\n",
      "10 &  700 &  20.086 \\\\\n",
      "11 &  650 &  20.157 \\\\\n",
      "12 &  600 &  20.249 \\\\\n",
      "13 &  550 &  20.324 \\\\\n",
      "14 &  500 &  20.403 \\\\\n",
      "\\bottomrule\n",
      "\\end{tabular}\n",
      "\n"
     ]
    }
   ],
   "source": [
    "print(data2.to_latex())"
   ]
  },
  {
   "cell_type": "code",
   "execution_count": 10,
   "metadata": {},
   "outputs": [
    {
     "data": {
      "text/plain": [
       "61.5"
      ]
     },
     "execution_count": 10,
     "metadata": {},
     "output_type": "execute_result"
    }
   ],
   "source": [
    "data[\"d\"].mean()"
   ]
  },
  {
   "cell_type": "code",
   "execution_count": null,
   "metadata": {},
   "outputs": [],
   "source": []
  }
 ],
 "metadata": {
  "kernelspec": {
   "display_name": "Python 3",
   "language": "python",
   "name": "python3"
  },
  "language_info": {
   "codemirror_mode": {
    "name": "ipython",
    "version": 3
   },
   "file_extension": ".py",
   "mimetype": "text/x-python",
   "name": "python",
   "nbconvert_exporter": "python",
   "pygments_lexer": "ipython3",
   "version": "3.5.2"
  }
 },
 "nbformat": 4,
 "nbformat_minor": 2
}
