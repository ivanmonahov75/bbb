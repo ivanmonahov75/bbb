{
 "cells": [
  {
   "cell_type": "code",
   "execution_count": 10,
   "metadata": {},
   "outputs": [],
   "source": [
    "import pandas as pd\n",
    "import numpy as np\n",
    "import matplotlib.pyplot as plt\n",
    "plt.rcParams.update({'font.size': 22})\n",
    "import math"
   ]
  },
  {
   "cell_type": "code",
   "execution_count": 11,
   "metadata": {},
   "outputs": [],
   "source": [
    "data = pd.read_csv(\"result.csv\", names=[\"T\", \"mu\"])"
   ]
  },
  {
   "cell_type": "code",
   "execution_count": 30,
   "metadata": {},
   "outputs": [],
   "source": [
    "sigma_mu = 0.01\n",
    "sigma_T = 0.00001\n",
    "data[\"1T\"] = 1/data[\"T\"]\n",
    "sigma_1T = 0.00001#1 / sigma_T\n",
    "X = data[\"1T\"].values\n",
    "sigma_X = sigma_1T\n",
    "Y = data[\"mu\"].values\n",
    "sigma_Y = sigma_mu"
   ]
  },
  {
   "cell_type": "code",
   "execution_count": 31,
   "metadata": {},
   "outputs": [],
   "source": [
    "A = np.vstack([X, np.ones(len(X))]).T\n",
    "k, b = np.linalg.lstsq(A, Y, rcond=None)[0]\n",
    "#sigma_k = math.sqrt((Y.std() - Y.mean()**2 ) / (X.std() - X.mean()**2 ) - b**2 ) / math.sqrt(len(X))\n",
    "#eps_k = sigma_k / k\n",
    "#sigma_b = sigma_k * math.sqrt(X.std() / X.mean() - X.mean()**2 )"
   ]
  },
  {
   "cell_type": "code",
   "execution_count": 32,
   "metadata": {},
   "outputs": [
    {
     "data": {
      "image/png": "[encoded data removed]",
      "text/plain": [
       "<Figure size 864x504 with 1 Axes>"
      ]
     },
     "metadata": {
      "needs_background": "light"
     },
     "output_type": "display_data"
    }
   ],
   "source": [
    "fig = plt.figure(figsize=(12, 7))\n",
    "ax = fig.gca()\n",
    "plt.scatter(X, Y, marker=\".\")\n",
    "plt.errorbar(X, Y, xerr=sigma_X, yerr=sigma_Y, linestyle=\"None\")\n",
    "delta_x = (X.max() - X.min()) / len(X)\n",
    "delta_y = (Y.max() - Y.min()) / len(Y)\n",
    "ax.set_xlim(X.min() - delta_x/2, X.max() + delta_x/2)\n",
    "ax.set_ylim((Y.min() - delta_y/2), Y.max() + delta_y/2)\n",
    "plt.xlabel(\"$1 / T, 1 / K$\")\n",
    "plt.ylabel(\"$\\mu, K / атм$\")\n",
    "plt.plot(X, (k*X + b), 'r', label='Fitted line')\n",
    "plt.grid(True)\n",
    "plt.savefig(\"../result.png\")"
   ]
  },
  {
   "cell_type": "code",
   "execution_count": 7,
   "metadata": {},
   "outputs": [
    {
     "data": {
      "text/plain": [
       "760.314092362127"
      ]
     },
     "execution_count": 7,
     "metadata": {},
     "output_type": "execute_result"
    }
   ],
   "source": [
    "k"
   ]
  },
  {
   "cell_type": "code",
   "execution_count": 8,
   "metadata": {
    "scrolled": true
   },
   "outputs": [
    {
     "data": {
      "text/plain": [
       "-1.5548469848371718"
      ]
     },
     "execution_count": 8,
     "metadata": {},
     "output_type": "execute_result"
    }
   ],
   "source": [
    "b"
   ]
  },
  {
   "cell_type": "code",
   "execution_count": 6,
   "metadata": {
    "scrolled": false
   },
   "outputs": [
    {
     "data": {
      "text/html": [
       "<div>\n",
       "<style scoped>\n",
       "    .dataframe tbody tr th:only-of-type {\n",
       "        vertical-align: middle;\n",
       "    }\n",
       "\n",
       "    .dataframe tbody tr th {\n",
       "        vertical-align: top;\n",
       "    }\n",
       "\n",
       "    .dataframe thead th {\n",
       "        text-align: right;\n",
       "    }\n",
       "</style>\n",
       "<table border=\"1\" class=\"dataframe\">\n",
       "  <thead>\n",
       "    <tr style=\"text-align: right;\">\n",
       "      <th></th>\n",
       "      <th>T</th>\n",
       "      <th>mu</th>\n",
       "    </tr>\n",
       "  </thead>\n",
       "  <tbody>\n",
       "    <tr>\n",
       "      <th>0</th>\n",
       "      <td>291</td>\n",
       "      <td>1.06</td>\n",
       "    </tr>\n",
       "    <tr>\n",
       "      <th>1</th>\n",
       "      <td>308</td>\n",
       "      <td>0.91</td>\n",
       "    </tr>\n",
       "    <tr>\n",
       "      <th>2</th>\n",
       "      <td>333</td>\n",
       "      <td>0.73</td>\n",
       "    </tr>\n",
       "  </tbody>\n",
       "</table>\n",
       "</div>"
      ],
      "text/plain": [
       "     T    mu\n",
       "0  291  1.06\n",
       "1  308  0.91\n",
       "2  333  0.73"
      ]
     },
     "execution_count": 6,
     "metadata": {},
     "output_type": "execute_result"
    }
   ],
   "source": [
    "data"
   ]
  },
  {
   "cell_type": "code",
   "execution_count": 9,
   "metadata": {},
   "outputs": [
    {
     "data": {
      "text/plain": [
       "'\\\\begin{tabular}{lrrr}\\n\\\\toprule\\n{} &    P &    U &     T \\\\\\\\\\n\\\\midrule\\n0 &  4.0 &  138 &  3.47 \\\\\\\\\\n1 &  3.6 &  120 &  3.02 \\\\\\\\\\n2 &  3.2 &  102 &  2.56 \\\\\\\\\\n3 &  2.8 &   85 &  2.14 \\\\\\\\\\n4 &  2.4 &   68 &  1.71 \\\\\\\\\\n5 &  2.0 &   55 &  1.38 \\\\\\\\\\n\\\\bottomrule\\n\\\\end{tabular}\\n'"
      ]
     },
     "execution_count": 9,
     "metadata": {},
     "output_type": "execute_result"
    }
   ],
   "source": [
    "data.to_latex()"
   ]
  },
  {
   "cell_type": "code",
   "execution_count": null,
   "metadata": {},
   "outputs": [],
   "source": []
  }
 ],
 "metadata": {
  "kernelspec": {
   "display_name": "Python 3",
   "language": "python",
   "name": "python3"
  },
  "language_info": {
   "codemirror_mode": {
    "name": "ipython",
    "version": 3
   },
   "file_extension": ".py",
   "mimetype": "text/x-python",
   "name": "python",
   "nbconvert_exporter": "python",
   "pygments_lexer": "ipython3",
   "version": "3.5.2"
  }
 },
 "nbformat": 4,
 "nbformat_minor": 2
}
