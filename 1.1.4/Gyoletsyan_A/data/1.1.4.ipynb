{
 "cells": [
  {
   "cell_type": "code",
   "execution_count": 42,
   "id": "1cc177d0",
   "metadata": {},
   "outputs": [],
   "source": [
    "import numpy as np\n",
    "import pandas as pd\n",
    "import matplotlib.pyplot as plt"
   ]
  },
  {
   "cell_type": "code",
   "execution_count": 43,
   "id": "5700673f",
   "metadata": {},
   "outputs": [],
   "source": [
    "data_table = pd.read_csv('data.csv')\n"
   ]
  },
  {
   "cell_type": "code",
   "execution_count": 177,
   "id": "ce01fadf-7045-40d3-a9f8-9b0abe969123",
   "metadata": {},
   "outputs": [
    {
     "name": "stdout",
     "output_type": "stream",
     "text": [
      "\\begin{tabular}{lrrrrrrrrrr}\n",
      " & 0 & 1 & 2 & 3 & 4 & 5 & 6 & 7 & 8 & 9 \\\\\n",
      "0 & 51 & 51 & 59 & 55 & 54 & 61 & 55 & 61 & 41 & 51 \\\\\n",
      "1 & 55 & 65 & 54 & 50 & 47 & 59 & 53 & 56 & 58 & 52 \\\\\n",
      "2 & 62 & 52 & 60 & 50 & 49 & 65 & 45 & 56 & 59 & 49 \\\\\n",
      "3 & 58 & 48 & 49 & 54 & 52 & 46 & 59 & 59 & 49 & 48 \\\\\n",
      "4 & 53 & 42 & 53 & 63 & 65 & 67 & 59 & 59 & 64 & 56 \\\\\n",
      "5 & 48 & 53 & 57 & 43 & 54 & 39 & 44 & 41 & 38 & 67 \\\\\n",
      "6 & 49 & 53 & 53 & 61 & 56 & 59 & 58 & 56 & 52 & 59 \\\\\n",
      "7 & 41 & 59 & 59 & 51 & 54 & 61 & 62 & 54 & 49 & 61 \\\\\n",
      "8 & 39 & 58 & 60 & 66 & 44 & 51 & 57 & 50 & 52 & 48 \\\\\n",
      "9 & 57 & 47 & 62 & 45 & 66 & 61 & 60 & 44 & 55 & 52 \\\\\n",
      "\\end{tabular}\n",
      "\n"
     ]
    }
   ],
   "source": [
    "print(pd.DataFrame(np.resize(data_40, (10, 10))).style.to_latex())\n"
   ]
  },
  {
   "cell_type": "code",
   "execution_count": 180,
   "id": "5da7828b-59d5-4bd2-b1df-20d435eaa7eb",
   "metadata": {},
   "outputs": [
    {
     "name": "stdout",
     "output_type": "stream",
     "text": [
      "29\n"
     ]
    },
    {
     "data": {
      "text/plain": [
       "(29, 3)"
      ]
     },
     "execution_count": 180,
     "metadata": {},
     "output_type": "execute_result"
    }
   ],
   "source": [
    "count = np.zeros((len(set(data_40)), 3))\n",
    "data_40 = list(data_40)\n",
    "print(len(set(data_40)))\n",
    "for it, i in enumerate(set(data_40)):\n",
    "    count[it] = (i, data_40.count(i),data_40.count(i)/100)\n",
    "count.shape"
   ]
  },
  {
   "cell_type": "code",
   "execution_count": 182,
   "id": "b1a01d93-daaf-4066-8d3e-898864ce20c2",
   "metadata": {},
   "outputs": [
    {
     "name": "stdout",
     "output_type": "stream",
     "text": [
      "& 0.01 & 0.02 & 0.03 & 0.01 & 0.01 & 0.03 & 0.02 & 0.01 & 0.02 & 0.04 & 0.06 & 0.03 & 0.05 & 0.06 & 0.06 & 0.06 & 0.04 & 0.05 & 0.03 & 0.04 & 0.11 & 0.03 & 0.06 & 0.03 & 0.01 & 0.01 & 0.03 & 0.02 & 0.02 "
     ]
    }
   ],
   "source": [
    "for i in count.T[2]:\n",
    "    print('&', i, end=\" \")"
   ]
  },
  {
   "cell_type": "code",
   "execution_count": 81,
   "id": "16c8358e-889f-4f5d-80fe-8b9f28118f1c",
   "metadata": {},
   "outputs": [],
   "source": [
    "with open('эксперимент_2024-10-03_14-18-49.txt', 'r') as f:\n",
    "    data = f.read().split('\\n')[0:-2]\n",
    "    data_np = np.array(list(map(int, data)))     \n",
    "\n"
   ]
  },
  {
   "cell_type": "code",
   "execution_count": 107,
   "id": "6f63cf1b-5e0f-4050-a69f-1c066d561cf0",
   "metadata": {},
   "outputs": [],
   "source": [
    "data_20 = np.zeros((200,), dtype=np.int64)\n",
    "for i in range(200):\n",
    "    data_20[i] = int(sum(data_np[i*20:(1+i)*20]))\n",
    "    \n",
    "data_10 = np.zeros((400,), dtype=np.int64)\n",
    "for i in range(400):\n",
    "    data_10[i] = int(sum(data_np[i*10:(1+i)*10]))\n",
    "\n",
    "data_40 = np.zeros((100,), dtype=np.int64)\n",
    "for i in range(100):\n",
    "    data_40[i] = int(sum(data_np[i*40:(1+i)*40]))"
   ]
  },
  {
   "cell_type": "code",
   "execution_count": null,
   "id": "650cd944-56b5-4655-b97d-83e677e744de",
   "metadata": {},
   "outputs": [],
   "source": []
  },
  {
   "cell_type": "code",
   "execution_count": 93,
   "id": "9e299aa4",
   "metadata": {},
   "outputs": [],
   "source": [
    "data_20 = np.resize(data_20, (10, 20))\n",
    "df = pd.DataFrame(data_20)\n",
    "df\n",
    "df.T.to_csv('data_new.csv')"
   ]
  },
  {
   "cell_type": "code",
   "execution_count": 47,
   "id": "9f4aae3e",
   "metadata": {},
   "outputs": [],
   "source": [
    "# data_20 = data_table.to_numpy().flatten()\n",
    "\n",
    "values_10 = np.array([i for i in range(3, 24)] + [25, 27, 28])\n",
    "counts_10 = np.array([1, 2, 1, 2, 5, 8, 17, 34, 32,\n",
    "                      40, 38, 43, 33, 31, 36, 28, 12, 18,\n",
    "                      10, 4, 1, 1, 2, 1])\n",
    "data_10 = []\n",
    "for i in range(len(values_10)):\n",
    "    data_10 += [values_10[i]] * counts_10[i]\n",
    "data_10 = np.array(data_10)"
   ]
  },
  {
   "cell_type": "code",
   "execution_count": 48,
   "id": "c27c9547",
   "metadata": {},
   "outputs": [
    {
     "data": {
      "text/html": [
       "<div>\n",
       "<style scoped>\n",
       "    .dataframe tbody tr th:only-of-type {\n",
       "        vertical-align: middle;\n",
       "    }\n",
       "\n",
       "    .dataframe tbody tr th {\n",
       "        vertical-align: top;\n",
       "    }\n",
       "\n",
       "    .dataframe thead th {\n",
       "        text-align: right;\n",
       "    }\n",
       "</style>\n",
       "<table border=\"1\" class=\"dataframe\">\n",
       "  <thead>\n",
       "    <tr style=\"text-align: right;\">\n",
       "      <th></th>\n",
       "      <th>0</th>\n",
       "      <th>1</th>\n",
       "      <th>2</th>\n",
       "      <th>3</th>\n",
       "      <th>4</th>\n",
       "      <th>5</th>\n",
       "      <th>6</th>\n",
       "      <th>7</th>\n",
       "      <th>8</th>\n",
       "      <th>9</th>\n",
       "      <th>...</th>\n",
       "      <th>14</th>\n",
       "      <th>15</th>\n",
       "      <th>16</th>\n",
       "      <th>17</th>\n",
       "      <th>18</th>\n",
       "      <th>19</th>\n",
       "      <th>20</th>\n",
       "      <th>21</th>\n",
       "      <th>22</th>\n",
       "      <th>23</th>\n",
       "    </tr>\n",
       "  </thead>\n",
       "  <tbody>\n",
       "    <tr>\n",
       "      <th>0</th>\n",
       "      <td>3</td>\n",
       "      <td>4</td>\n",
       "      <td>5</td>\n",
       "      <td>6</td>\n",
       "      <td>7</td>\n",
       "      <td>8</td>\n",
       "      <td>9</td>\n",
       "      <td>10</td>\n",
       "      <td>11</td>\n",
       "      <td>12</td>\n",
       "      <td>...</td>\n",
       "      <td>17</td>\n",
       "      <td>18</td>\n",
       "      <td>19</td>\n",
       "      <td>20</td>\n",
       "      <td>21</td>\n",
       "      <td>22</td>\n",
       "      <td>23</td>\n",
       "      <td>25</td>\n",
       "      <td>27</td>\n",
       "      <td>28</td>\n",
       "    </tr>\n",
       "    <tr>\n",
       "      <th>1</th>\n",
       "      <td>1</td>\n",
       "      <td>2</td>\n",
       "      <td>1</td>\n",
       "      <td>2</td>\n",
       "      <td>5</td>\n",
       "      <td>8</td>\n",
       "      <td>17</td>\n",
       "      <td>34</td>\n",
       "      <td>32</td>\n",
       "      <td>40</td>\n",
       "      <td>...</td>\n",
       "      <td>36</td>\n",
       "      <td>28</td>\n",
       "      <td>12</td>\n",
       "      <td>18</td>\n",
       "      <td>10</td>\n",
       "      <td>4</td>\n",
       "      <td>1</td>\n",
       "      <td>1</td>\n",
       "      <td>2</td>\n",
       "      <td>1</td>\n",
       "    </tr>\n",
       "  </tbody>\n",
       "</table>\n",
       "<p>2 rows × 24 columns</p>\n",
       "</div>"
      ],
      "text/plain": [
       "   0   1   2   3   4   5   6   7   8   9   ...  14  15  16  17  18  19  20  \\\n",
       "0   3   4   5   6   7   8   9  10  11  12  ...  17  18  19  20  21  22  23   \n",
       "1   1   2   1   2   5   8  17  34  32  40  ...  36  28  12  18  10   4   1   \n",
       "\n",
       "   21  22  23  \n",
       "0  25  27  28  \n",
       "1   1   2   1  \n",
       "\n",
       "[2 rows x 24 columns]"
      ]
     },
     "execution_count": 48,
     "metadata": {},
     "output_type": "execute_result"
    }
   ],
   "source": [
    "hist_10 = pd.DataFrame(np.vstack((values_10, counts_10)))\n",
    "hist_10\n"
   ]
  },
  {
   "cell_type": "code",
   "execution_count": 49,
   "id": "f8a9b130",
   "metadata": {},
   "outputs": [],
   "source": [
    "def to_latex(s):\n",
    "    return ' & '.join([*map(str, list(s))])"
   ]
  },
  {
   "cell_type": "code",
   "execution_count": 50,
   "id": "c7e536da",
   "metadata": {},
   "outputs": [],
   "source": [
    "values_20, counts_20 = np.unique(data_20, return_counts=True)"
   ]
  },
  {
   "cell_type": "code",
   "execution_count": 138,
   "id": "03f2f74d",
   "metadata": {},
   "outputs": [
    {
     "data": {
      "text/plain": [
       "(array([38, 39, 41, 42, 43, 44, 45, 46, 47, 48, 49, 50, 51, 52, 53, 54, 55,\n",
       "        56, 57, 58, 59, 60, 61, 62, 63, 64, 65, 66, 67]),\n",
       " array([ 1,  2,  3,  1,  1,  3,  2,  1,  2,  4,  6,  3,  5,  6,  6,  6,  4,\n",
       "         5,  3,  4, 11,  3,  6,  3,  1,  1,  3,  2,  2]))"
      ]
     },
     "execution_count": 138,
     "metadata": {},
     "output_type": "execute_result"
    }
   ],
   "source": [
    "data_40 = np.empty(100, dtype=int)\n",
    "for i in range(100):\n",
    "    data_40[i] = data_20[2*i] + data_20[2*i + 1]\n",
    "values_40, counts_40 = np.unique(data_40, return_counts=True)\n",
    "values_40, counts_40"
   ]
  },
  {
   "cell_type": "code",
   "execution_count": 52,
   "id": "8d9da7c0",
   "metadata": {},
   "outputs": [
    {
     "name": "stdout",
     "output_type": "stream",
     "text": [
      "61 & 62 & 63 & 64 & 65 & 66 & 67\n",
      "6 & 3 & 1 & 1 & 3 & 2 & 2\n",
      "0.06 & 0.03 & 0.01 & 0.01 & 0.03 & 0.02 & 0.02\n"
     ]
    }
   ],
   "source": [
    "a, b = 22, 33\n",
    "print(to_latex(values_40[a:b]))\n",
    "print(to_latex(counts_40[a:b]))\n",
    "print(to_latex(counts_40[a:b]/100))"
   ]
  },
  {
   "cell_type": "code",
   "execution_count": 53,
   "id": "69938888",
   "metadata": {},
   "outputs": [
    {
     "data": {
      "text/plain": [
       "54.03"
      ]
     },
     "execution_count": 53,
     "metadata": {},
     "output_type": "execute_result"
    }
   ],
   "source": [
    "np.sum(data_40)/100"
   ]
  },
  {
   "cell_type": "code",
   "execution_count": 54,
   "id": "c2d59843",
   "metadata": {},
   "outputs": [
    {
     "data": {
      "text/plain": [
       "14.1775"
      ]
     },
     "execution_count": 54,
     "metadata": {},
     "output_type": "execute_result"
    }
   ],
   "source": [
    "np.sum(data_10)/400"
   ]
  },
  {
   "cell_type": "code",
   "execution_count": 55,
   "id": "feb0209a",
   "metadata": {},
   "outputs": [
    {
     "data": {
      "image/png": "[encoded data removed]",
      "text/plain": [
       "<Figure size 2000x1600 with 2 Axes>"
      ]
     },
     "metadata": {},
     "output_type": "display_data"
    }
   ],
   "source": [
    "fig, ax1 = plt.subplots()\n",
    "fig.set_figheight(16)\n",
    "fig.set_figwidth(20)\n",
    "\n",
    "color = 'tab:red'\n",
    "ax1.set_xlabel('$n$  (10с)', fontsize=30, color=color)\n",
    "ax1.set_ylabel(r'$\\omega$', fontsize=30)\n",
    "ax1.hist(data_10, np.arange(0, 31), alpha=0.5, density=True, label='10с', color=color)\n",
    "\n",
    "ax1.tick_params(axis='x', labelcolor=color,  labelsize=30)\n",
    "ax1.tick_params(axis='y', labelcolor='#000000',  labelsize=30)\n",
    "plt.legend(loc='upper left', fontsize=30)\n",
    "\n",
    "color = 'tab:blue'\n",
    "ax2 = ax1.twiny()\n",
    "ax2.set_xlabel('$n$  (40с)', fontsize=30, color=color)\n",
    "\n",
    "ax2.hist(data_40, np.arange(0, 121), alpha=0.5, density=True, label='40с')\n",
    "ax2.tick_params(axis='x', labelcolor=color, labelsize=30)\n",
    "fig.tight_layout()\n",
    "plt.legend(loc='upper right', fontsize=30)\n",
    "plt.savefig('../pictures/histogram.png')\n",
    "plt.show()"
   ]
  },
  {
   "cell_type": "code",
   "execution_count": 56,
   "id": "ed7be822",
   "metadata": {},
   "outputs": [],
   "source": [
    "data_40_trans = np.abs(data_40 - np.mean(data_40))\n",
    "data_10_trans = np.abs(data_10 - np.mean(data_10))"
   ]
  },
  {
   "cell_type": "code",
   "execution_count": 57,
   "id": "281f8001",
   "metadata": {},
   "outputs": [
    {
     "data": {
      "text/plain": [
       "(281, 385)"
      ]
     },
     "execution_count": 57,
     "metadata": {},
     "output_type": "execute_result"
    }
   ],
   "source": [
    "np.sum(data_10_trans < np.std(data_10)), np.sum(data_10_trans < 2*np.std(data_10))"
   ]
  },
  {
   "cell_type": "code",
   "execution_count": 58,
   "id": "8e1a47a9",
   "metadata": {},
   "outputs": [
    {
     "data": {
      "text/plain": [
       "(66, 97)"
      ]
     },
     "execution_count": 58,
     "metadata": {},
     "output_type": "execute_result"
    }
   ],
   "source": [
    "np.sum(data_40_trans < np.std(data_40)), np.sum(data_40_trans < 2*np.std(data_40))"
   ]
  },
  {
   "cell_type": "code",
   "execution_count": 59,
   "id": "e73825d9",
   "metadata": {},
   "outputs": [
    {
     "data": {
      "text/plain": [
       "0.9625"
      ]
     },
     "execution_count": 59,
     "metadata": {},
     "output_type": "execute_result"
    }
   ],
   "source": [
    "385/400"
   ]
  },
  {
   "cell_type": "code",
   "execution_count": 60,
   "id": "08b8c4e1",
   "metadata": {},
   "outputs": [
    {
     "data": {
      "text/plain": [
       "15"
      ]
     },
     "execution_count": 60,
     "metadata": {},
     "output_type": "execute_result"
    }
   ],
   "source": [
    "np.sum(data_10_trans > 2 * np.std(data_10))"
   ]
  },
  {
   "cell_type": "code",
   "execution_count": null,
   "id": "8d95231b",
   "metadata": {},
   "outputs": [],
   "source": []
  },
  {
   "cell_type": "code",
   "execution_count": null,
   "id": "1e3ebd0e-121e-4f8a-8180-f98a43cf4958",
   "metadata": {},
   "outputs": [],
   "source": []
  }
 ],
 "metadata": {
  "kernelspec": {
   "display_name": "Python 3 (ipykernel)",
   "language": "python",
   "name": "python3"
  },
  "language_info": {
   "codemirror_mode": {
    "name": "ipython",
    "version": 3
   },
   "file_extension": ".py",
   "mimetype": "text/x-python",
   "name": "python",
   "nbconvert_exporter": "python",
   "pygments_lexer": "ipython3",
   "version": "3.10.12"
  }
 },
 "nbformat": 4,
 "nbformat_minor": 5
}
