{
 "cells": [
  {
   "cell_type": "markdown",
   "id": "383f6964",
   "metadata": {},
   "source": [
    "# Как делать графики и таблицы в питоне по-красоте"
   ]
  },
  {
   "cell_type": "markdown",
   "id": "055cd239",
   "metadata": {},
   "source": [
    "Предполагается, что вы знаете как работает питон и все использованные здесь библиотеки. Если че-то непонятно, гуглите."
   ]
  },
  {
   "cell_type": "markdown",
   "id": "b1ea0c49",
   "metadata": {},
   "source": [
    "### Шаг первый\n",
    "Вставляем это в начале кода"
   ]
  },
  {
   "cell_type": "code",
   "execution_count": 1,
   "id": "41f8b397",
   "metadata": {},
   "outputs": [
    {
     "data": {
      "text/plain": [
       "<Figure size 432x288 with 0 Axes>"
      ]
     },
     "metadata": {},
     "output_type": "display_data"
    }
   ],
   "source": [
    "import matplotlib\n",
    "from matplotlib import pyplot as plt\n",
    "import numpy as np\n",
    "import pandas as pd\n",
    "from scipy.optimize import minimize\n",
    "\n",
    "# Эти 2 строки сохраняют пустой график с названием 1.pgf. \n",
    "# Хз зачем это, если у вас будет работать без этого, можно смело удалять.\n",
    "plt.savefig('data/1.pgf')\n",
    "plt.show()\n",
    "\n",
    "\n",
    "matplotlib.use(\"pgf\")\n",
    "matplotlib.rcParams.update({\n",
    "    \"pgf.texsystem\": \"pdflatex\",\n",
    "    'font.family': 'serif',\n",
    "    'text.usetex': True,\n",
    "    'pgf.rcfonts': False,\n",
    "})"
   ]
  },
  {
   "cell_type": "markdown",
   "id": "989d714a",
   "metadata": {},
   "source": [
    "В tex файл надо импортнуть pgfplots"
   ]
  },
  {
   "cell_type": "markdown",
   "id": "ed2f52ce",
   "metadata": {},
   "source": [
    "```\n",
    "\\usepackage{pgfplots}\n",
    "```"
   ]
  },
  {
   "cell_type": "markdown",
   "id": "8e1472b2",
   "metadata": {},
   "source": [
    "### Шаг второй"
   ]
  },
  {
   "cell_type": "markdown",
   "id": "d6ead9a5",
   "metadata": {},
   "source": [
    "Записываем наши таблицы в формате csv и считываем их. Посмотрите файлы в папке data, там пример данных. Записать данные в csv можно либо в excel, либо просто в блокноте."
   ]
  },
  {
   "cell_type": "code",
   "execution_count": 2,
   "id": "bd60f46e",
   "metadata": {},
   "outputs": [],
   "source": [
    "# функция, считывающая сразу несколько файлов(на вход идут пути к ним)\n",
    "def read_files(files):\n",
    "    ret = []\n",
    "    for f in files:\n",
    "        ret += [pd.read_csv(f)]\n",
    "    return ret"
   ]
  },
  {
   "cell_type": "markdown",
   "id": "8777fd0c",
   "metadata": {},
   "source": [
    "Считываем файлы"
   ]
  },
  {
   "cell_type": "code",
   "execution_count": 3,
   "id": "a2348d90",
   "metadata": {},
   "outputs": [],
   "source": [
    "geig, spectrum = read_files(['data/tab1.csv', 'data/spectrum.csv'])"
   ]
  },
  {
   "cell_type": "markdown",
   "id": "b44ec184",
   "metadata": {},
   "source": [
    "### Шаг третий\n",
    "Выполним небольшую обработку данных"
   ]
  },
  {
   "cell_type": "markdown",
   "id": "676c58d3",
   "metadata": {},
   "source": [
    "В качестве примера я рассматриваю работу 5.4.1, в которой надо подобрать параметры нетривиальной функции под данные, а потом вычислить её производную. Если вам надо просто нарисовать точки, переходите к четвёртому шагу."
   ]
  },
  {
   "cell_type": "markdown",
   "id": "0b0e63b3",
   "metadata": {},
   "source": [
    "В данном случае наша функция $$N(x) = \\frac{A}{1+e^{\\alpha(x-x_0)}}$$ соответственно у нас 3 параметра: $A, \\alpha$ и $x_0$."
   ]
  },
  {
   "cell_type": "code",
   "execution_count": 4,
   "id": "f9b44c8b",
   "metadata": {},
   "outputs": [],
   "source": [
    "# par[0] = A\n",
    "# par[1] = alpha\n",
    "# par[2] = x0\n",
    "def sigmoid(par, x):\n",
    "    return par[0]/(1 + np.exp(par[1]*(x-par[2])))"
   ]
  },
  {
   "cell_type": "markdown",
   "id": "c5f39676",
   "metadata": {},
   "source": [
    "Вот эта имба подбирает параметры к вашей функции(наименьший квадрат ошибки), если она задана в формате, приведённом выше"
   ]
  },
  {
   "cell_type": "code",
   "execution_count": 5,
   "id": "3be72cf6",
   "metadata": {},
   "outputs": [],
   "source": [
    "def fit(f, params, x, y):\n",
    "    \"\"\"Аргументы:\n",
    "        f - функция, которую мы хотим оптимизировать.\n",
    "        params - начальное состояние параметров, можно просто передать нули, \n",
    "            главное чтоб их было нужное количество\n",
    "        x, y - точки, под которые подгоняем функцию\n",
    "    \"\"\"\n",
    "    if len(x) != len(y):\n",
    "        raise \"Иксов должно быть столько же, сколько и игреков\"\n",
    "    def err(par, x_, y_):\n",
    "        y1 = f(par, x_)\n",
    "        return np.sum((y1-y_)**2)\n",
    "    \n",
    "    return minimize(err, params, args=(x, y)).x"
   ]
  },
  {
   "cell_type": "markdown",
   "id": "770a7af6",
   "metadata": {},
   "source": [
    "Чтоб вы поняли, с чем мы имеем дело, вот наши данные(первые несколько точек)"
   ]
  },
  {
   "cell_type": "code",
   "execution_count": 6,
   "id": "5cfc5f9e",
   "metadata": {},
   "outputs": [
    {
     "data": {
      "text/html": [
       "<div>\n",
       "<style scoped>\n",
       "    .dataframe tbody tr th:only-of-type {\n",
       "        vertical-align: middle;\n",
       "    }\n",
       "\n",
       "    .dataframe tbody tr th {\n",
       "        vertical-align: top;\n",
       "    }\n",
       "\n",
       "    .dataframe thead th {\n",
       "        text-align: right;\n",
       "    }\n",
       "</style>\n",
       "<table border=\"1\" class=\"dataframe\">\n",
       "  <thead>\n",
       "    <tr style=\"text-align: right;\">\n",
       "      <th></th>\n",
       "      <th>l</th>\n",
       "      <th>N</th>\n",
       "      <th>t</th>\n",
       "    </tr>\n",
       "  </thead>\n",
       "  <tbody>\n",
       "    <tr>\n",
       "      <th>0</th>\n",
       "      <td>10</td>\n",
       "      <td>14</td>\n",
       "      <td>72</td>\n",
       "    </tr>\n",
       "    <tr>\n",
       "      <th>1</th>\n",
       "      <td>5</td>\n",
       "      <td>439</td>\n",
       "      <td>30</td>\n",
       "    </tr>\n",
       "    <tr>\n",
       "      <th>2</th>\n",
       "      <td>1</td>\n",
       "      <td>411</td>\n",
       "      <td>30</td>\n",
       "    </tr>\n",
       "    <tr>\n",
       "      <th>3</th>\n",
       "      <td>8</td>\n",
       "      <td>242</td>\n",
       "      <td>30</td>\n",
       "    </tr>\n",
       "    <tr>\n",
       "      <th>4</th>\n",
       "      <td>9</td>\n",
       "      <td>42</td>\n",
       "      <td>30</td>\n",
       "    </tr>\n",
       "  </tbody>\n",
       "</table>\n",
       "</div>"
      ],
      "text/plain": [
       "    l    N   t\n",
       "0  10   14  72\n",
       "1   5  439  30\n",
       "2   1  411  30\n",
       "3   8  242  30\n",
       "4   9   42  30"
      ]
     },
     "execution_count": 6,
     "metadata": {},
     "output_type": "execute_result"
    }
   ],
   "source": [
    "geig.head()"
   ]
  },
  {
   "cell_type": "markdown",
   "id": "bf2fa864",
   "metadata": {},
   "source": [
    "Мы хотим подогнать функцию под точки $(I;N/t)$. Сначала создадим столбец в таблице, где будет посчитана $N/t$"
   ]
  },
  {
   "cell_type": "code",
   "execution_count": 7,
   "id": "f31f6218",
   "metadata": {},
   "outputs": [],
   "source": [
    "geig['N1'] = geig['N'] / geig['t']"
   ]
  },
  {
   "cell_type": "markdown",
   "id": "f0c9b7a5",
   "metadata": {},
   "source": [
    "Подгоняем функцию"
   ]
  },
  {
   "cell_type": "code",
   "execution_count": 8,
   "id": "87aa44b0",
   "metadata": {},
   "outputs": [
    {
     "name": "stdout",
     "output_type": "stream",
     "text": [
      "A = 14.20390254820025, alpha = 2.707506281046367, x0 = 8.115884956009317\n"
     ]
    }
   ],
   "source": [
    "par = np.zeros((3,))\n",
    "par = fit(sigmoid, par, geig['l'], geig['N1'])\n",
    "\n",
    "print(f'A = {par[0]}, alpha = {par[1]}, x0 = {par[2]}')"
   ]
  },
  {
   "cell_type": "markdown",
   "id": "87721da4",
   "metadata": {},
   "source": [
    "#### Более простой случай"
   ]
  },
  {
   "cell_type": "markdown",
   "id": "a8e8143c",
   "metadata": {},
   "source": [
    "Возможно вам придётся подгонять более простую функцию, например многочлен, вот ещё пример как это делать"
   ]
  },
  {
   "cell_type": "code",
   "execution_count": 9,
   "id": "6157b03d",
   "metadata": {},
   "outputs": [],
   "source": [
    "# 2 - степень многочлена, cov мы не используем\n",
    "poly, cov = np.polyfit(spectrum['T'], spectrum['A'], 2, cov=True)"
   ]
  },
  {
   "cell_type": "markdown",
   "id": "d079788b",
   "metadata": {},
   "source": [
    "### Шаг четвёртый\n",
    "Наконец рисуем графики"
   ]
  },
  {
   "cell_type": "code",
   "execution_count": 10,
   "id": "19e7525f",
   "metadata": {},
   "outputs": [
    {
     "name": "stderr",
     "output_type": "stream",
     "text": [
      "/tmp/ipykernel_35240/953711285.py:26: UserWarning: Matplotlib is currently using pgf, which is a non-GUI backend, so cannot show the figure.\n",
      "  plt.show()\n"
     ]
    },
    {
     "data": {
      "image/png": "[encoded data removed]",
      "text/plain": [
       "<Figure size 504x288 with 1 Axes>"
      ]
     },
     "metadata": {
      "needs_background": "light"
     },
     "output_type": "display_data"
    }
   ],
   "source": [
    "# Размер графика\n",
    "fig = plt.figure(figsize=(7, 4))\n",
    "\n",
    "#задаем отрезок, на котором рисуем кривую\n",
    "x = np.linspace(0, 50, num=100)\n",
    "#рисуем кривую\n",
    "plt.plot(x, sigmoid(par, x), 'k', linewidth=1, label='N approximation')\n",
    "\n",
    "# Надо еще погрешности посчитать\n",
    "delta_N = geig['N'] / geig['t']**2\n",
    "\n",
    "#рисуем точки\n",
    "plt.errorbar(geig['l'], geig['N1'], fmt='k.', yerr=delta_N, xerr=0, linewidth=1, label='measurments')\n",
    "\n",
    "#вариант без погрешностей\n",
    "#plt.plot(geig['l'], geig['N1'], 'k.', linewidth=1, label='measurments')\n",
    "\n",
    "#Оформление\n",
    "plt.grid(linestyle='--')\n",
    "plt.xlabel('$l, mm$', fontsize=15)\n",
    "plt.ylabel('$N$', fontsize=15)\n",
    "# fig.legend()\n",
    "\n",
    "#Сохраняем результат\n",
    "plt.savefig('data/geig.pgf')\n",
    "plt.show()"
   ]
  },
  {
   "cell_type": "markdown",
   "id": "ca6f7520",
   "metadata": {},
   "source": [
    "Пример графика многочлена"
   ]
  },
  {
   "cell_type": "code",
   "execution_count": 11,
   "id": "c6b14fcb",
   "metadata": {
    "scrolled": true
   },
   "outputs": [
    {
     "name": "stderr",
     "output_type": "stream",
     "text": [
      "/tmp/ipykernel_35240/1272136587.py:10: UserWarning: Matplotlib is currently using pgf, which is a non-GUI backend, so cannot show the figure.\n",
      "  plt.show()\n"
     ]
    },
    {
     "data": {
      "image/png": "[encoded data removed]",
      "text/plain": [
       "<Figure size 432x288 with 1 Axes>"
      ]
     },
     "metadata": {
      "needs_background": "light"
     },
     "output_type": "display_data"
    }
   ],
   "source": [
    "plt.errorbar(spectrum['T'], spectrum['A'], xerr=10, yerr=0, fmt='.', linewidth=1)\n",
    "x = np.linspace(1850, 2650, num=100)\n",
    "plt.plot(x, np.polyval(poly, x), linewidth=1)\n",
    "\n",
    "plt.grid(linestyle='--')\n",
    "plt.xlabel('$\\\\theta, ^\\circ$')\n",
    "plt.ylabel('$\\lambda, \\mathring{A}$')\n",
    "\n",
    "plt.savefig('data/spectrum.pgf')\n",
    "plt.show()"
   ]
  },
  {
   "cell_type": "markdown",
   "id": "7b67b3a3",
   "metadata": {},
   "source": [
    "В tex файл импортируем график вот так:"
   ]
  },
  {
   "cell_type": "markdown",
   "id": "a7ee3dd2",
   "metadata": {},
   "source": [
    "```\n",
    "\\begin{figure}[h!]\n",
    "    \\centering\n",
    "    \\input{data/geig.pgf}\n",
    "    \\caption{Зависимость потока $\\alpha$-частиц от расстояния до источника}  \n",
    "\\end{figure}\n",
    "```"
   ]
  },
  {
   "cell_type": "markdown",
   "id": "dba60279",
   "metadata": {},
   "source": [
    "### Шаг пятый\n",
    "Мы уже написали таблицу в csv файл, разумеется переписывать её ещё раз в tex таблицу мы не будем"
   ]
  },
  {
   "cell_type": "code",
   "execution_count": 12,
   "id": "ae0e646f",
   "metadata": {
    "scrolled": true
   },
   "outputs": [
    {
     "name": "stdout",
     "output_type": "stream",
     "text": [
      "\\begin{tabular}{rrrr}\n",
      "\\toprule\n",
      " l &   N &   t &    N1 \\\\\n",
      "\\midrule\n",
      "10 &  14 &  72 &  0.19 \\\\\n",
      " 5 & 439 &  30 & 14.63 \\\\\n",
      " 1 & 411 &  30 & 13.70 \\\\\n",
      " 8 & 242 &  30 &  8.07 \\\\\n",
      " 9 &  42 &  30 &  1.40 \\\\\n",
      "40 &  12 & 113 &  0.11 \\\\\n",
      " 3 & 419 &  30 & 13.97 \\\\\n",
      " 7 & 418 &  30 & 13.93 \\\\\n",
      "15 &  18 & 107 &  0.17 \\\\\n",
      "20 &  18 & 107 &  0.17 \\\\\n",
      "25 &  22 &  93 &  0.24 \\\\\n",
      "\\bottomrule\n",
      "\\end{tabular}\n",
      "\n"
     ]
    }
   ],
   "source": [
    "# float_format определяет точность вывода вещественных чисел\n",
    "print(geig.to_latex(index=False, float_format='%.2f'))"
   ]
  },
  {
   "cell_type": "markdown",
   "id": "1117d4cb",
   "metadata": {},
   "source": [
    "Придётся вручную её подправить, но всё равно это быстрее, чем с нуля её писать"
   ]
  },
  {
   "cell_type": "markdown",
   "id": "eb27a7f9",
   "metadata": {},
   "source": [
    "Обработку таблицы можно ещё чуть-чуть упростить"
   ]
  },
  {
   "cell_type": "code",
   "execution_count": 13,
   "id": "cfbe3987",
   "metadata": {},
   "outputs": [],
   "source": [
    "def latex_tab(df):\n",
    "    tab = df.to_latex(index=False, float_format='%.2f')\n",
    "    tab = tab.replace('\\\\\\\\\\n', '\\\\\\\\ \\\\hline\\n')\n",
    "    tab = tab.replace('\\\\toprule', '\\\\hline')\n",
    "    tab = tab.replace('\\\\midrule\\n', '')\n",
    "    tab = tab.replace('\\\\bottomrule\\n', '')\n",
    "    return tab"
   ]
  },
  {
   "cell_type": "code",
   "execution_count": 14,
   "id": "b87bac82",
   "metadata": {},
   "outputs": [
    {
     "name": "stdout",
     "output_type": "stream",
     "text": [
      "\\begin{tabular}{rrrr}\n",
      "\\hline\n",
      " l &   N &   t &    N1 \\\\ \\hline\n",
      "10 &  14 &  72 &  0.19 \\\\ \\hline\n",
      " 5 & 439 &  30 & 14.63 \\\\ \\hline\n",
      " 1 & 411 &  30 & 13.70 \\\\ \\hline\n",
      " 8 & 242 &  30 &  8.07 \\\\ \\hline\n",
      " 9 &  42 &  30 &  1.40 \\\\ \\hline\n",
      "40 &  12 & 113 &  0.11 \\\\ \\hline\n",
      " 3 & 419 &  30 & 13.97 \\\\ \\hline\n",
      " 7 & 418 &  30 & 13.93 \\\\ \\hline\n",
      "15 &  18 & 107 &  0.17 \\\\ \\hline\n",
      "20 &  18 & 107 &  0.17 \\\\ \\hline\n",
      "25 &  22 &  93 &  0.24 \\\\ \\hline\n",
      "\\end{tabular}\n",
      "\n"
     ]
    }
   ],
   "source": [
    "print(latex_tab(geig))"
   ]
  },
  {
   "cell_type": "markdown",
   "id": "a0bf4990",
   "metadata": {},
   "source": [
    "Дополнения к гайду приветствуются ;)"
   ]
  },
  {
   "cell_type": "code",
   "execution_count": null,
   "id": "907a83f4",
   "metadata": {},
   "outputs": [],
   "source": []
  }
 ],
 "metadata": {
  "kernelspec": {
   "display_name": "Python 3 (ipykernel)",
   "language": "python",
   "name": "python3"
  },
  "language_info": {
   "codemirror_mode": {
    "name": "ipython",
    "version": 3
   },
   "file_extension": ".py",
   "mimetype": "text/x-python",
   "name": "python",
   "nbconvert_exporter": "python",
   "pygments_lexer": "ipython3",
   "version": "3.8.10"
  }
 },
 "nbformat": 4,
 "nbformat_minor": 5
}
