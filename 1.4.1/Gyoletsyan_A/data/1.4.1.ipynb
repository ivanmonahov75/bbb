{
 "cells": [
  {
   "cell_type": "code",
   "execution_count": 4,
   "id": "151066f9-a989-466e-8ec6-04d59181aae3",
   "metadata": {},
   "outputs": [],
   "source": [
    "import numpy as np\n",
    "import matplotlib.pyplot as plt\n",
    "import pandas as pd"
   ]
  },
  {
   "cell_type": "code",
   "execution_count": 118,
   "id": "ae76c121-4f46-4c6c-a707-1b6eda8401dc",
   "metadata": {},
   "outputs": [
    {
     "data": {
      "text/plain": [
       "array([39.25, 32.45, 29.15, 24.25, 21.95, 19.05, 15.25, 12.35])"
      ]
     },
     "execution_count": 118,
     "metadata": {},
     "output_type": "execute_result"
    }
   ],
   "source": [
    "xc_rod = 50.05\n",
    "l = 100.1\n",
    "l_err = 0.05\n",
    "T_reaction = 0.02\n",
    "m_prism, m_rod = 76.3, 870.5\n",
    "beta = 1 + m_prism/m_rod\n",
    "beta_err = 0.0001\n",
    "a   = pd.Series([39.4, 32.6, 29.3, 24.4, 22.1, 19.2, 15.4, 12.5]) - 0.15\n",
    "xcp = pd.Series([46.8, 47.4, 47.7, 48.0, 48.2, 48.4, 48.8, 49.0])\n",
    "\n",
    "a_err = 0.1\n",
    "xc_err = 0.1\n",
    "\n",
    "xc  = xcp + a - xc_rod\n",
    "a.to_numpy()"
   ]
  },
  {
   "cell_type": "code",
   "execution_count": 119,
   "id": "c388b8e9-c9d2-4846-9e4f-8f45355f2615",
   "metadata": {},
   "outputs": [
    {
     "data": {
      "text/html": [
       "<div>\n",
       "<style scoped>\n",
       "    .dataframe tbody tr th:only-of-type {\n",
       "        vertical-align: middle;\n",
       "    }\n",
       "\n",
       "    .dataframe tbody tr th {\n",
       "        vertical-align: top;\n",
       "    }\n",
       "\n",
       "    .dataframe thead th {\n",
       "        text-align: right;\n",
       "    }\n",
       "</style>\n",
       "<table border=\"1\" class=\"dataframe\">\n",
       "  <thead>\n",
       "    <tr style=\"text-align: right;\">\n",
       "      <th></th>\n",
       "      <th>0</th>\n",
       "      <th>1</th>\n",
       "      <th>2</th>\n",
       "      <th>3</th>\n",
       "      <th>4</th>\n",
       "      <th>5</th>\n",
       "      <th>6</th>\n",
       "      <th>7</th>\n",
       "    </tr>\n",
       "  </thead>\n",
       "  <tbody>\n",
       "    <tr>\n",
       "      <th>0</th>\n",
       "      <td>31.30</td>\n",
       "      <td>30.69</td>\n",
       "      <td>30.63</td>\n",
       "      <td>15.43</td>\n",
       "      <td>15.59</td>\n",
       "      <td>31.94</td>\n",
       "      <td>33.76</td>\n",
       "      <td>36.03</td>\n",
       "    </tr>\n",
       "    <tr>\n",
       "      <th>1</th>\n",
       "      <td>31.21</td>\n",
       "      <td>30.61</td>\n",
       "      <td>30.62</td>\n",
       "      <td>15.39</td>\n",
       "      <td>15.55</td>\n",
       "      <td>31.98</td>\n",
       "      <td>33.69</td>\n",
       "      <td>35.97</td>\n",
       "    </tr>\n",
       "    <tr>\n",
       "      <th>2</th>\n",
       "      <td>31.25</td>\n",
       "      <td>30.70</td>\n",
       "      <td>30.63</td>\n",
       "      <td>15.43</td>\n",
       "      <td>15.58</td>\n",
       "      <td>31.89</td>\n",
       "      <td>33.65</td>\n",
       "      <td>35.94</td>\n",
       "    </tr>\n",
       "    <tr>\n",
       "      <th>3</th>\n",
       "      <td>31.28</td>\n",
       "      <td>30.64</td>\n",
       "      <td>30.57</td>\n",
       "      <td>15.41</td>\n",
       "      <td>15.66</td>\n",
       "      <td>31.98</td>\n",
       "      <td>33.73</td>\n",
       "      <td>36.00</td>\n",
       "    </tr>\n",
       "    <tr>\n",
       "      <th>4</th>\n",
       "      <td>31.30</td>\n",
       "      <td>30.61</td>\n",
       "      <td>30.64</td>\n",
       "      <td>15.46</td>\n",
       "      <td>15.60</td>\n",
       "      <td>31.95</td>\n",
       "      <td>33.72</td>\n",
       "      <td>35.96</td>\n",
       "    </tr>\n",
       "    <tr>\n",
       "      <th>5</th>\n",
       "      <td>31.27</td>\n",
       "      <td>30.68</td>\n",
       "      <td>30.61</td>\n",
       "      <td>15.40</td>\n",
       "      <td>15.67</td>\n",
       "      <td>31.97</td>\n",
       "      <td>33.73</td>\n",
       "      <td>35.94</td>\n",
       "    </tr>\n",
       "    <tr>\n",
       "      <th>6</th>\n",
       "      <td>31.27</td>\n",
       "      <td>30.70</td>\n",
       "      <td>30.53</td>\n",
       "      <td>15.48</td>\n",
       "      <td>15.71</td>\n",
       "      <td>31.94</td>\n",
       "      <td>33.77</td>\n",
       "      <td>35.98</td>\n",
       "    </tr>\n",
       "    <tr>\n",
       "      <th>7</th>\n",
       "      <td>31.26</td>\n",
       "      <td>30.70</td>\n",
       "      <td>30.62</td>\n",
       "      <td>15.40</td>\n",
       "      <td>15.65</td>\n",
       "      <td>32.03</td>\n",
       "      <td>33.68</td>\n",
       "      <td>35.98</td>\n",
       "    </tr>\n",
       "  </tbody>\n",
       "</table>\n",
       "</div>"
      ],
      "text/plain": [
       "       0      1      2      3      4      5      6      7\n",
       "0  31.30  30.69  30.63  15.43  15.59  31.94  33.76  36.03\n",
       "1  31.21  30.61  30.62  15.39  15.55  31.98  33.69  35.97\n",
       "2  31.25  30.70  30.63  15.43  15.58  31.89  33.65  35.94\n",
       "3  31.28  30.64  30.57  15.41  15.66  31.98  33.73  36.00\n",
       "4  31.30  30.61  30.64  15.46  15.60  31.95  33.72  35.96\n",
       "5  31.27  30.68  30.61  15.40  15.67  31.97  33.73  35.94\n",
       "6  31.27  30.70  30.53  15.48  15.71  31.94  33.77  35.98\n",
       "7  31.26  30.70  30.62  15.40  15.65  32.03  33.68  35.98"
      ]
     },
     "execution_count": 119,
     "metadata": {},
     "output_type": "execute_result"
    }
   ],
   "source": [
    "# t[0] = pd.Series([15.43, 15.39, 15.43, 15.41, 15.46, 15.40, 15.48, 15.40, 15.45, 15.44])\n",
    "# t[1] = pd.Series([15.59, 15.55, 15.58, 15.66, 15.60, 15.67, 15.71, 15.65, 15.65, 15.62])\n",
    "# t[2] = pd.Series([31.94, 31.98, 31.89, 31.98, 31.95, 31.97, 31.94, 32.03])\n",
    "# t[3] = pd.Series([33.76, 33.69, 33.65, 33.73, 33.72, 33.73, 33.77, 33.68])\n",
    "# t[4] = pd.Series([36.03, 35.97, 35.94, 36.00, 35.96, 35.94, 35.98, 35.98])\n",
    "# t[5] = pd.Series([30.63, 30.62, 30.63, 30.57, 30.64, 30.61, 30.53, 30.62])\n",
    "# t[6] = pd.Series([30.69, 30.61, 30.70, 30.64, 30.61, 30.68, 30.70, 30.70])\n",
    "# t[7] = pd.Series([31.30, 31.21, 31.25, 31.28, 31.30, 31.27, 31.27, 31.26])\n",
    "\n",
    "t = pd.DataFrame(columns=np.arange(8))\n",
    "\n",
    "t[0] = pd.Series([31.30, 31.21, 31.25, 31.28, 31.30, 31.27, 31.27, 31.26])\n",
    "t[1] = pd.Series([30.69, 30.61, 30.70, 30.64, 30.61, 30.68, 30.70, 30.70])\n",
    "t[2] = pd.Series([30.63, 30.62, 30.63, 30.57, 30.64, 30.61, 30.53, 30.62])\n",
    "t[3] = pd.Series([15.43, 15.39, 15.43, 15.41, 15.46, 15.40, 15.48, 15.40, 15.45, 15.44])\n",
    "t[4] = pd.Series([15.59, 15.55, 15.58, 15.66, 15.60, 15.67, 15.71, 15.65, 15.65, 15.62])\n",
    "t[5] = pd.Series([31.94, 31.98, 31.89, 31.98, 31.95, 31.97, 31.94, 32.03])\n",
    "t[6] = pd.Series([33.76, 33.69, 33.65, 33.73, 33.72, 33.73, 33.77, 33.68])\n",
    "t[7] = pd.Series([36.03, 35.97, 35.94, 36.00, 35.96, 35.94, 35.98, 35.98])\n",
    "\n",
    "\n",
    "\n",
    "N = pd.Series([20, 20, 20, 10, 10, 20, 20, 20])\n",
    "t"
   ]
  },
  {
   "cell_type": "code",
   "execution_count": 120,
   "id": "d60e0e39-8ac6-4e5d-bca3-c654192bb7ed",
   "metadata": {},
   "outputs": [],
   "source": [
    "def parse(s):\n",
    "    return ' & '.join(s.split('\\t'))\n",
    "# print(parse(input()))"
   ]
  },
  {
   "cell_type": "code",
   "execution_count": 121,
   "id": "d5c8d63a-35ae-4cce-9a8b-3101df37ad7c",
   "metadata": {},
   "outputs": [],
   "source": [
    "T_table = t/N"
   ]
  },
  {
   "cell_type": "code",
   "execution_count": 122,
   "id": "bbe37fed",
   "metadata": {},
   "outputs": [
    {
     "data": {
      "text/html": [
       "<div>\n",
       "<style scoped>\n",
       "    .dataframe tbody tr th:only-of-type {\n",
       "        vertical-align: middle;\n",
       "    }\n",
       "\n",
       "    .dataframe tbody tr th {\n",
       "        vertical-align: top;\n",
       "    }\n",
       "\n",
       "    .dataframe thead th {\n",
       "        text-align: right;\n",
       "    }\n",
       "</style>\n",
       "<table border=\"1\" class=\"dataframe\">\n",
       "  <thead>\n",
       "    <tr style=\"text-align: right;\">\n",
       "      <th></th>\n",
       "      <th>0</th>\n",
       "      <th>1</th>\n",
       "      <th>2</th>\n",
       "      <th>3</th>\n",
       "      <th>4</th>\n",
       "      <th>5</th>\n",
       "      <th>6</th>\n",
       "      <th>7</th>\n",
       "    </tr>\n",
       "  </thead>\n",
       "  <tbody>\n",
       "    <tr>\n",
       "      <th>0</th>\n",
       "      <td>1.5650</td>\n",
       "      <td>1.5345</td>\n",
       "      <td>1.5315</td>\n",
       "      <td>1.543</td>\n",
       "      <td>1.559</td>\n",
       "      <td>1.5970</td>\n",
       "      <td>1.6880</td>\n",
       "      <td>1.8015</td>\n",
       "    </tr>\n",
       "    <tr>\n",
       "      <th>1</th>\n",
       "      <td>1.5605</td>\n",
       "      <td>1.5305</td>\n",
       "      <td>1.5310</td>\n",
       "      <td>1.539</td>\n",
       "      <td>1.555</td>\n",
       "      <td>1.5990</td>\n",
       "      <td>1.6845</td>\n",
       "      <td>1.7985</td>\n",
       "    </tr>\n",
       "    <tr>\n",
       "      <th>2</th>\n",
       "      <td>1.5625</td>\n",
       "      <td>1.5350</td>\n",
       "      <td>1.5315</td>\n",
       "      <td>1.543</td>\n",
       "      <td>1.558</td>\n",
       "      <td>1.5945</td>\n",
       "      <td>1.6825</td>\n",
       "      <td>1.7970</td>\n",
       "    </tr>\n",
       "    <tr>\n",
       "      <th>3</th>\n",
       "      <td>1.5640</td>\n",
       "      <td>1.5320</td>\n",
       "      <td>1.5285</td>\n",
       "      <td>1.541</td>\n",
       "      <td>1.566</td>\n",
       "      <td>1.5990</td>\n",
       "      <td>1.6865</td>\n",
       "      <td>1.8000</td>\n",
       "    </tr>\n",
       "    <tr>\n",
       "      <th>4</th>\n",
       "      <td>1.5650</td>\n",
       "      <td>1.5305</td>\n",
       "      <td>1.5320</td>\n",
       "      <td>1.546</td>\n",
       "      <td>1.560</td>\n",
       "      <td>1.5975</td>\n",
       "      <td>1.6860</td>\n",
       "      <td>1.7980</td>\n",
       "    </tr>\n",
       "    <tr>\n",
       "      <th>5</th>\n",
       "      <td>1.5635</td>\n",
       "      <td>1.5340</td>\n",
       "      <td>1.5305</td>\n",
       "      <td>1.540</td>\n",
       "      <td>1.567</td>\n",
       "      <td>1.5985</td>\n",
       "      <td>1.6865</td>\n",
       "      <td>1.7970</td>\n",
       "    </tr>\n",
       "    <tr>\n",
       "      <th>6</th>\n",
       "      <td>1.5635</td>\n",
       "      <td>1.5350</td>\n",
       "      <td>1.5265</td>\n",
       "      <td>1.548</td>\n",
       "      <td>1.571</td>\n",
       "      <td>1.5970</td>\n",
       "      <td>1.6885</td>\n",
       "      <td>1.7990</td>\n",
       "    </tr>\n",
       "    <tr>\n",
       "      <th>7</th>\n",
       "      <td>1.5630</td>\n",
       "      <td>1.5350</td>\n",
       "      <td>1.5310</td>\n",
       "      <td>1.540</td>\n",
       "      <td>1.565</td>\n",
       "      <td>1.6015</td>\n",
       "      <td>1.6840</td>\n",
       "      <td>1.7990</td>\n",
       "    </tr>\n",
       "  </tbody>\n",
       "</table>\n",
       "</div>"
      ],
      "text/plain": [
       "        0       1       2      3      4       5       6       7\n",
       "0  1.5650  1.5345  1.5315  1.543  1.559  1.5970  1.6880  1.8015\n",
       "1  1.5605  1.5305  1.5310  1.539  1.555  1.5990  1.6845  1.7985\n",
       "2  1.5625  1.5350  1.5315  1.543  1.558  1.5945  1.6825  1.7970\n",
       "3  1.5640  1.5320  1.5285  1.541  1.566  1.5990  1.6865  1.8000\n",
       "4  1.5650  1.5305  1.5320  1.546  1.560  1.5975  1.6860  1.7980\n",
       "5  1.5635  1.5340  1.5305  1.540  1.567  1.5985  1.6865  1.7970\n",
       "6  1.5635  1.5350  1.5265  1.548  1.571  1.5970  1.6885  1.7990\n",
       "7  1.5630  1.5350  1.5310  1.540  1.565  1.6015  1.6840  1.7990"
      ]
     },
     "execution_count": 122,
     "metadata": {},
     "output_type": "execute_result"
    }
   ],
   "source": [
    "T_table"
   ]
  },
  {
   "cell_type": "code",
   "execution_count": 123,
   "id": "a2a1678e-d1ec-40ae-8fa8-eb0e725f6f45",
   "metadata": {},
   "outputs": [
    {
     "data": {
      "text/plain": [
       "array([0.002, 0.002, 0.002, 0.004, 0.006, 0.002, 0.002, 0.002])"
      ]
     },
     "execution_count": 123,
     "metadata": {},
     "output_type": "execute_result"
    }
   ],
   "source": [
    "T = T_table.mean()\n",
    "T_rand = T_table.std()\n",
    "T_sys  = T_reaction / N\n",
    "T_err  = (T_rand**2 + T_sys**2).apply(np.sqrt)\n",
    "T_err.to_numpy().round(3)"
   ]
  },
  {
   "cell_type": "code",
   "execution_count": 124,
   "id": "2dba38bf",
   "metadata": {},
   "outputs": [
    {
     "data": {
      "text/plain": [
       "(array([1.563, 1.533, 1.53 , 1.542, 1.563, 1.598, 1.686, 1.799]),\n",
       " 0    0.001768\n",
       " 1    0.002235\n",
       " 2    0.002120\n",
       " 3    0.003742\n",
       " 4    0.005780\n",
       " 5    0.002268\n",
       " 6    0.002267\n",
       " 7    0.001813\n",
       " dtype: float64)"
      ]
     },
     "execution_count": 124,
     "metadata": {},
     "output_type": "execute_result"
    }
   ],
   "source": [
    "T.to_numpy().round(3), T_err"
   ]
  },
  {
   "cell_type": "code",
   "execution_count": 125,
   "id": "f1492b0a-88b4-4a6b-84a5-2da5a2e721c4",
   "metadata": {},
   "outputs": [
    {
     "name": "stdout",
     "output_type": "stream",
     "text": [
      "977.1323878605688 4.052625772292162\n"
     ]
    }
   ],
   "source": [
    "g_table = (4*(np.pi**2) / (T_table**2)) * (l**2/12 + a**2) / (beta * xc)\n",
    "g_s = g_table.to_numpy().flatten()\n",
    "print(g_s.mean(), g_s.std())"
   ]
  },
  {
   "cell_type": "code",
   "execution_count": 130,
   "id": "ec30ce7f",
   "metadata": {},
   "outputs": [
    {
     "data": {
      "text/html": [
       "<div>\n",
       "<style scoped>\n",
       "    .dataframe tbody tr th:only-of-type {\n",
       "        vertical-align: middle;\n",
       "    }\n",
       "\n",
       "    .dataframe tbody tr th {\n",
       "        vertical-align: top;\n",
       "    }\n",
       "\n",
       "    .dataframe thead th {\n",
       "        text-align: right;\n",
       "    }\n",
       "</style>\n",
       "<table border=\"1\" class=\"dataframe\">\n",
       "  <thead>\n",
       "    <tr style=\"text-align: right;\">\n",
       "      <th></th>\n",
       "      <th>0</th>\n",
       "      <th>1</th>\n",
       "      <th>2</th>\n",
       "      <th>3</th>\n",
       "      <th>4</th>\n",
       "      <th>5</th>\n",
       "      <th>6</th>\n",
       "      <th>7</th>\n",
       "    </tr>\n",
       "  </thead>\n",
       "  <tbody>\n",
       "    <tr>\n",
       "      <th>0</th>\n",
       "      <td>981.925322</td>\n",
       "      <td>980.614055</td>\n",
       "      <td>976.814550</td>\n",
       "      <td>981.258969</td>\n",
       "      <td>982.369471</td>\n",
       "      <td>983.789894</td>\n",
       "      <td>975.384103</td>\n",
       "      <td>981.396214</td>\n",
       "    </tr>\n",
       "    <tr>\n",
       "      <th>1</th>\n",
       "      <td>987.573523</td>\n",
       "      <td>985.725536</td>\n",
       "      <td>977.450065</td>\n",
       "      <td>986.345540</td>\n",
       "      <td>987.409356</td>\n",
       "      <td>981.340420</td>\n",
       "      <td>979.424918</td>\n",
       "      <td>984.659638</td>\n",
       "    </tr>\n",
       "    <tr>\n",
       "      <th>2</th>\n",
       "      <td>985.057187</td>\n",
       "      <td>979.977928</td>\n",
       "      <td>976.814550</td>\n",
       "      <td>981.258969</td>\n",
       "      <td>983.625804</td>\n",
       "      <td>986.864708</td>\n",
       "      <td>981.745285</td>\n",
       "      <td>986.297483</td>\n",
       "    </tr>\n",
       "    <tr>\n",
       "      <th>3</th>\n",
       "      <td>983.176266</td>\n",
       "      <td>983.804038</td>\n",
       "      <td>980.637000</td>\n",
       "      <td>983.797303</td>\n",
       "      <td>973.642421</td>\n",
       "      <td>981.340420</td>\n",
       "      <td>977.112800</td>\n",
       "      <td>983.025887</td>\n",
       "    </tr>\n",
       "    <tr>\n",
       "      <th>4</th>\n",
       "      <td>981.925322</td>\n",
       "      <td>985.725536</td>\n",
       "      <td>976.179657</td>\n",
       "      <td>977.469924</td>\n",
       "      <td>981.115553</td>\n",
       "      <td>983.176663</td>\n",
       "      <td>977.690058</td>\n",
       "      <td>985.205131</td>\n",
       "    </tr>\n",
       "    <tr>\n",
       "      <th>5</th>\n",
       "      <td>983.802638</td>\n",
       "      <td>981.250804</td>\n",
       "      <td>978.086203</td>\n",
       "      <td>985.070180</td>\n",
       "      <td>972.405238</td>\n",
       "      <td>981.951927</td>\n",
       "      <td>977.112800</td>\n",
       "      <td>986.297483</td>\n",
       "    </tr>\n",
       "    <tr>\n",
       "      <th>6</th>\n",
       "      <td>983.802638</td>\n",
       "      <td>979.977928</td>\n",
       "      <td>983.197830</td>\n",
       "      <td>974.956122</td>\n",
       "      <td>967.480108</td>\n",
       "      <td>983.789894</td>\n",
       "      <td>974.808894</td>\n",
       "      <td>984.114600</td>\n",
       "    </tr>\n",
       "    <tr>\n",
       "      <th>7</th>\n",
       "      <td>984.429611</td>\n",
       "      <td>979.977928</td>\n",
       "      <td>977.450065</td>\n",
       "      <td>985.070180</td>\n",
       "      <td>974.881977</td>\n",
       "      <td>978.291474</td>\n",
       "      <td>980.004235</td>\n",
       "      <td>984.114600</td>\n",
       "    </tr>\n",
       "  </tbody>\n",
       "</table>\n",
       "</div>"
      ],
      "text/plain": [
       "            0           1           2           3           4           5  \\\n",
       "0  981.925322  980.614055  976.814550  981.258969  982.369471  983.789894   \n",
       "1  987.573523  985.725536  977.450065  986.345540  987.409356  981.340420   \n",
       "2  985.057187  979.977928  976.814550  981.258969  983.625804  986.864708   \n",
       "3  983.176266  983.804038  980.637000  983.797303  973.642421  981.340420   \n",
       "4  981.925322  985.725536  976.179657  977.469924  981.115553  983.176663   \n",
       "5  983.802638  981.250804  978.086203  985.070180  972.405238  981.951927   \n",
       "6  983.802638  979.977928  983.197830  974.956122  967.480108  983.789894   \n",
       "7  984.429611  979.977928  977.450065  985.070180  974.881977  978.291474   \n",
       "\n",
       "            6           7  \n",
       "0  975.384103  981.396214  \n",
       "1  979.424918  984.659638  \n",
       "2  981.745285  986.297483  \n",
       "3  977.112800  983.025887  \n",
       "4  977.690058  985.205131  \n",
       "5  977.112800  986.297483  \n",
       "6  974.808894  984.114600  \n",
       "7  980.004235  984.114600  "
      ]
     },
     "execution_count": 130,
     "metadata": {},
     "output_type": "execute_result"
    }
   ],
   "source": [
    "g_table+4"
   ]
  },
  {
   "cell_type": "code",
   "execution_count": 129,
   "id": "975bda22-4ae6-4955-a6ed-09a7daa105bf",
   "metadata": {},
   "outputs": [
    {
     "data": {
      "text/plain": [
       "4.052625772292162"
      ]
     },
     "execution_count": 129,
     "metadata": {},
     "output_type": "execute_result"
    }
   ],
   "source": [
    "g_table.to_numpy().std()"
   ]
  },
  {
   "cell_type": "code",
   "execution_count": 127,
   "id": "dce4ad5a-b9db-46d2-8c41-97b1fc811a0f",
   "metadata": {},
   "outputs": [
    {
     "data": {
      "text/html": [
       "<div>\n",
       "<style scoped>\n",
       "    .dataframe tbody tr th:only-of-type {\n",
       "        vertical-align: middle;\n",
       "    }\n",
       "\n",
       "    .dataframe tbody tr th {\n",
       "        vertical-align: top;\n",
       "    }\n",
       "\n",
       "    .dataframe thead th {\n",
       "        text-align: right;\n",
       "    }\n",
       "</style>\n",
       "<table border=\"1\" class=\"dataframe\">\n",
       "  <thead>\n",
       "    <tr style=\"text-align: right;\">\n",
       "      <th></th>\n",
       "      <th>0</th>\n",
       "      <th>1</th>\n",
       "      <th>2</th>\n",
       "      <th>3</th>\n",
       "      <th>4</th>\n",
       "      <th>5</th>\n",
       "      <th>6</th>\n",
       "      <th>7</th>\n",
       "    </tr>\n",
       "  </thead>\n",
       "  <tbody>\n",
       "    <tr>\n",
       "      <th>0</th>\n",
       "      <td>978.0</td>\n",
       "      <td>977.0</td>\n",
       "      <td>973.0</td>\n",
       "      <td>977.0</td>\n",
       "      <td>978.0</td>\n",
       "      <td>980.0</td>\n",
       "      <td>971.0</td>\n",
       "      <td>977.0</td>\n",
       "    </tr>\n",
       "    <tr>\n",
       "      <th>1</th>\n",
       "      <td>984.0</td>\n",
       "      <td>982.0</td>\n",
       "      <td>973.0</td>\n",
       "      <td>982.0</td>\n",
       "      <td>983.0</td>\n",
       "      <td>977.0</td>\n",
       "      <td>975.0</td>\n",
       "      <td>981.0</td>\n",
       "    </tr>\n",
       "    <tr>\n",
       "      <th>2</th>\n",
       "      <td>981.0</td>\n",
       "      <td>976.0</td>\n",
       "      <td>973.0</td>\n",
       "      <td>977.0</td>\n",
       "      <td>980.0</td>\n",
       "      <td>983.0</td>\n",
       "      <td>978.0</td>\n",
       "      <td>982.0</td>\n",
       "    </tr>\n",
       "    <tr>\n",
       "      <th>3</th>\n",
       "      <td>979.0</td>\n",
       "      <td>980.0</td>\n",
       "      <td>977.0</td>\n",
       "      <td>980.0</td>\n",
       "      <td>970.0</td>\n",
       "      <td>977.0</td>\n",
       "      <td>973.0</td>\n",
       "      <td>979.0</td>\n",
       "    </tr>\n",
       "    <tr>\n",
       "      <th>4</th>\n",
       "      <td>978.0</td>\n",
       "      <td>982.0</td>\n",
       "      <td>972.0</td>\n",
       "      <td>973.0</td>\n",
       "      <td>977.0</td>\n",
       "      <td>979.0</td>\n",
       "      <td>974.0</td>\n",
       "      <td>981.0</td>\n",
       "    </tr>\n",
       "    <tr>\n",
       "      <th>5</th>\n",
       "      <td>980.0</td>\n",
       "      <td>977.0</td>\n",
       "      <td>974.0</td>\n",
       "      <td>981.0</td>\n",
       "      <td>968.0</td>\n",
       "      <td>978.0</td>\n",
       "      <td>973.0</td>\n",
       "      <td>982.0</td>\n",
       "    </tr>\n",
       "    <tr>\n",
       "      <th>6</th>\n",
       "      <td>980.0</td>\n",
       "      <td>976.0</td>\n",
       "      <td>979.0</td>\n",
       "      <td>971.0</td>\n",
       "      <td>963.0</td>\n",
       "      <td>980.0</td>\n",
       "      <td>971.0</td>\n",
       "      <td>980.0</td>\n",
       "    </tr>\n",
       "    <tr>\n",
       "      <th>7</th>\n",
       "      <td>980.0</td>\n",
       "      <td>976.0</td>\n",
       "      <td>973.0</td>\n",
       "      <td>981.0</td>\n",
       "      <td>971.0</td>\n",
       "      <td>974.0</td>\n",
       "      <td>976.0</td>\n",
       "      <td>980.0</td>\n",
       "    </tr>\n",
       "  </tbody>\n",
       "</table>\n",
       "</div>"
      ],
      "text/plain": [
       "       0      1      2      3      4      5      6      7\n",
       "0  978.0  977.0  973.0  977.0  978.0  980.0  971.0  977.0\n",
       "1  984.0  982.0  973.0  982.0  983.0  977.0  975.0  981.0\n",
       "2  981.0  976.0  973.0  977.0  980.0  983.0  978.0  982.0\n",
       "3  979.0  980.0  977.0  980.0  970.0  977.0  973.0  979.0\n",
       "4  978.0  982.0  972.0  973.0  977.0  979.0  974.0  981.0\n",
       "5  980.0  977.0  974.0  981.0  968.0  978.0  973.0  982.0\n",
       "6  980.0  976.0  979.0  971.0  963.0  980.0  971.0  980.0\n",
       "7  980.0  976.0  973.0  981.0  971.0  974.0  976.0  980.0"
      ]
     },
     "execution_count": 127,
     "metadata": {},
     "output_type": "execute_result"
    }
   ],
   "source": [
    "g_table.round()"
   ]
  },
  {
   "cell_type": "code",
   "execution_count": 551,
   "id": "b62d7264-a05a-4576-8f3d-c89203bf71ac",
   "metadata": {},
   "outputs": [
    {
     "name": "stdin",
     "output_type": "stream",
     "text": [
      " 5., 6., 6., 7., 9., 7., 8., 9.\n"
     ]
    },
    {
     "name": "stdout",
     "output_type": "stream",
     "text": [
      "5., 6., 6., 7., 9., 7., 8., 9.\n"
     ]
    }
   ],
   "source": [
    "print(parse(input()))"
   ]
  },
  {
   "cell_type": "code",
   "execution_count": 531,
   "id": "ece25a56-c02b-4e84-9f71-6d55ffe14883",
   "metadata": {},
   "outputs": [
    {
     "name": "stdout",
     "output_type": "stream",
     "text": [
      "\n",
      "            1 & 980 & 979 & 976 & 981 & 982 & 984 & 976 & 983 \\\\\n",
      "            2 & 986 & 985 & 977 & 986 & 988 & 982 & 980 & 986 \\\\\n",
      "            3 & 983 & 979 & 976 & 981 & 984 & 987 & 983 & 988 \\\\\n",
      "            4 & 981 & 983 & 980 & 984 & 974 & 982 & 978 & 985 \\\\\n",
      "            5 & 980 & 985 & 975 & 977 & 981 & 984 & 979 & 987 \\\\\n",
      "            6 & 982 & 980 & 977 & 985 & 972 & 982 & 978 & 988 \\\\\n",
      "            7 & 982 & 979 & 982 & 975 & 968 & 984 & 976 & 986 \\\\\n",
      "            8 & 983 & 979 & 977 & 985 & 975 & 979 & 981 & 986 \\\\\n"
     ]
    }
   ],
   "source": [
    "print(r\"\"\"\n",
    "            1 & 980 & 979 & 976.0 & 981.0 & 982.0 & 984.0 & 976.0 & 983.0 \\\\\n",
    "            2 & 986 & 985 & 977.0 & 986.0 & 988.0 & 982.0 & 980.0 & 986.0 \\\\\n",
    "            3 & 983 & 979 & 976.0 & 981.0 & 984.0 & 987.0 & 983.0 & 988.0 \\\\\n",
    "            4 & 981 & 983 & 980.0 & 984.0 & 974.0 & 982.0 & 978.0 & 985.0 \\\\\n",
    "            5 & 980 & 985 & 975.0 & 977.0 & 981.0 & 984.0 & 979.0 & 987.0 \\\\\n",
    "            6 & 982 & 980 & 977.0 & 985.0 & 972.0 & 982.0 & 978.0 & 988.0 \\\\\n",
    "            7 & 982 & 979 & 982.0 & 975.0 & 968.0 & 984.0 & 976.0 & 986.0 \\\\\n",
    "            8 & 983 & 979 & 977.0 & 985.0 & 975.0 & 979.0 & 981.0 & 986.0 \\\\\"\"\".replace('.0',''))"
   ]
  },
  {
   "cell_type": "code",
   "execution_count": 542,
   "id": "86befa3d-aff4-4d7e-bcc1-db9ec5ba9f78",
   "metadata": {},
   "outputs": [
    {
     "data": {
      "text/plain": [
       "(2.825040680721458,\n",
       " '\\n',\n",
       " 0    982.240312\n",
       " 1    980.992017\n",
       " 2    977.522754\n",
       " 3    981.692318\n",
       " 4    977.924737\n",
       " 5    983.080995\n",
       " 6    978.951011\n",
       " 7    985.876547\n",
       " dtype: float64)"
      ]
     },
     "execution_count": 542,
     "metadata": {},
     "output_type": "execute_result"
    }
   ],
   "source": [
    "g_series = (4*(np.pi**2) / (T**2)) * (l**2/12 + a**2) / (beta * xc)\n",
    "g_series.std(), '\\n', g_series"
   ]
  },
  {
   "cell_type": "code",
   "execution_count": 550,
   "id": "c896345a-272a-4086-8852-00003fdd8d0d",
   "metadata": {},
   "outputs": [
    {
     "data": {
      "text/plain": [
       "array([5., 6., 6., 7., 9., 7., 8., 9.])"
      ]
     },
     "execution_count": 550,
     "metadata": {},
     "output_type": "execute_result"
    }
   ],
   "source": [
    "g = g_series.mean()\n",
    "g0 = 2*T_err* g / T\n",
    "g1 = xc_err*g/xc\n",
    "g2 = beta_err*g/beta\n",
    "g3 = a_err * g * 2 * a / (a**2 + l**2/12)\n",
    "g4 = l_err * g * 2 * l / 12 / (a**2 + l**2/12)\n",
    "# print(g1, '\\n -------', g2, '-------\\n', g3, g4)\n",
    "(g0**2 + g1**2 + g2**2 + g3**2 + g4**2).apply(np.sqrt).round(0).to_numpy()"
   ]
  },
  {
   "cell_type": "code",
   "execution_count": 465,
   "id": "8d0076f4-db90-4f83-8522-3124c8749687",
   "metadata": {},
   "outputs": [
    {
     "data": {
      "image/png": "[encoded data removed]",
      "text/plain": [
       "<Figure size 1280x960 with 1 Axes>"
      ]
     },
     "metadata": {
      "needs_background": "light"
     },
     "output_type": "display_data"
    }
   ],
   "source": [
    "plt.figure(figsize=(8, 6), dpi=160)\n",
    "plt.grid(True)\n",
    "plt.title(r\"$T(a)$\")\n",
    "plt.xlabel(r\"$a, см$\", fontsize=10)\n",
    "plt.ylabel(r\"$T(a), с$\", fontsize=10)\n",
    "plt.plot(a,T, color=\"red\", alpha=0.5, linewidth=1)\n",
    "plt.errorbar(a, T, yerr=T_err, xerr=0.1, linestyle='', ecolor='black',  zorder=32)\n",
    "plt.savefig('plot1.png')\n",
    "plt.show()"
   ]
  },
  {
   "cell_type": "code",
   "execution_count": 467,
   "id": "c87e7be8-e6d5-4a24-95b1-c5265e60c869",
   "metadata": {},
   "outputs": [
    {
     "data": {
      "image/png": "[encoded data removed]",
      "text/plain": [
       "<Figure size 1280x960 with 1 Axes>"
      ]
     },
     "metadata": {
      "needs_background": "light"
     },
     "output_type": "display_data"
    },
    {
     "name": "stdout",
     "output_type": "stream",
     "text": [
      "27.023147053583887 -840.4333997728313\n"
     ]
    }
   ],
   "source": [
    "plt.figure(figsize=(8, 6), dpi=160)\n",
    "plt.grid(True)\n",
    "plt.title(r\"$a^{2}(T^{2}x_ц)$\")\n",
    "plt.xlabel(r\"$T^{2}x_ц, с^{2}см$\", fontsize=10)\n",
    "plt.ylabel(r\"$a^{2}, см^{2}$\", fontsize=10)\n",
    "\n",
    "X = T ** 2 * xc\n",
    "Y = a ** 2\n",
    "\n",
    "X_err = ((2*T*xc*T_err)**2 + (T**2 * xc_err)**2).apply(np.sqrt)\n",
    "Y_err = 2*a*a_err\n",
    "\n",
    "X_arr = X.to_numpy()\n",
    "Y_arr = Y.to_numpy()\n",
    "\n",
    "X_arr = np.vstack([X_arr, np.ones(len(X_arr))]).T\n",
    "m, c = np.linalg.lstsq(X_arr, Y_arr, rcond=None)[0] # m = g*beta/(4pi^2), c = -l^2/12\n",
    "\n",
    "plt.plot(X, m*X + c, color=\"red\", alpha=0.5, linewidth=1)\n",
    "plt.errorbar(X, Y, yerr=Y_err, xerr=X_err, linestyle='', ecolor='black',  zorder=32)\n",
    "plt.savefig('plot2.png')\n",
    "plt.show()\n",
    "print(m, c)"
   ]
  },
  {
   "cell_type": "code",
   "execution_count": 471,
   "id": "4cfd2f89-2e32-4758-a0ba-88393c37fa77",
   "metadata": {},
   "outputs": [
    {
     "name": "stdout",
     "output_type": "stream",
     "text": [
      "0.03700291957406178 31.102074203370535\n"
     ]
    }
   ],
   "source": [
    "# plt.figure(figsize=(8, 6), dpi=160)\n",
    "# plt.grid(True)\n",
    "# plt.title(r\"$T^{2}x_ц(a^{2})$\")\n",
    "# plt.ylabel(r\"$T^{2}x_ц, с^{2}см$\", fontsize=10)\n",
    "# plt.xlabel(r\"$a^{2}, см^{2}$\", fontsize=10)\n",
    "\n",
    "Y = T ** 2 * xc\n",
    "X = a ** 2\n",
    "\n",
    "Y_err = ((2*T*xc*T_err)**2 + (T**2 * xc_err)**2).apply(np.sqrt)\n",
    "X_err = 2*a*a_err\n",
    "\n",
    "X_arr = X.to_numpy()\n",
    "Y_arr = Y.to_numpy()\n",
    "\n",
    "X_arr = np.vstack([X_arr, np.ones(len(X_arr))]).T\n",
    "k, b = np.linalg.lstsq(X_arr, Y_arr, rcond=None)[0] # m = g*beta/(4pi^2), c = -l^2/12\n",
    "\n",
    "# plt.plot(X, k*X + b, color=\"red\", alpha=0.5, linewidth=1)\n",
    "# plt.errorbar(X, Y, yerr=Y_err, xerr=X_err, linestyle='', ecolor='black', zorder=32)\n",
    "# plt.savefig('plot3.png')\n",
    "# plt.show()\n",
    "print(k, b)"
   ]
  },
  {
   "cell_type": "code",
   "execution_count": 482,
   "id": "941dbee4-a2a7-4943-a5e9-a4d9b900b5c6",
   "metadata": {},
   "outputs": [
    {
     "name": "stdout",
     "output_type": "stream",
     "text": [
      "980.9215396829522 100.43088823821759\n"
     ]
    }
   ],
   "source": [
    "g, l = 4*np.pi**2/(beta*k) ,np.sqrt(12*b/k)\n",
    "print(g, l)"
   ]
  },
  {
   "cell_type": "code",
   "execution_count": 475,
   "id": "1d68b597-31d9-436a-9a34-063653326aff",
   "metadata": {},
   "outputs": [],
   "source": [
    "Sx=X.std(ddof=0)\n",
    "Sy=Y.std(ddof=0)"
   ]
  },
  {
   "cell_type": "code",
   "execution_count": 478,
   "id": "0ddbb1da-edf2-489a-86d3-3398b0c0dfe1",
   "metadata": {},
   "outputs": [
    {
     "name": "stdout",
     "output_type": "stream",
     "text": [
      "0.0002429585132384701 0.19190595382829298\n"
     ]
    }
   ],
   "source": [
    "std_k = 2*np.sqrt(((Sy/Sx)**2-k**2)/(6))\n",
    "std_b = std_k * np.sqrt(Sx**2+X.mean()**2)\n",
    "print(std_k, std_b)"
   ]
  },
  {
   "cell_type": "code",
   "execution_count": 483,
   "id": "16ec903e-047a-41d9-95e4-b667bb490137",
   "metadata": {},
   "outputs": [
    {
     "name": "stdout",
     "output_type": "stream",
     "text": [
      "8.83824763215995 0.452448551825074\n"
     ]
    }
   ],
   "source": [
    "std_g = g*np.sqrt((std_k/k)**2 + (std_b/b)**2)\n",
    "std_l = l*np.sqrt((0.5*std_k/k)**2 + (0.5*std_b/b)**2)\n",
    "print(std_g, std_l)"
   ]
  },
  {
   "cell_type": "code",
   "execution_count": 486,
   "id": "2d20d7b5-faee-4eb0-9cf9-aa0d859f594f",
   "metadata": {},
   "outputs": [
    {
     "name": "stdout",
     "output_type": "stream",
     "text": [
      "0    0.003582\n",
      "1    0.004445\n",
      "2    0.004648\n",
      "3    0.006620\n",
      "4    0.008915\n",
      "5    0.006410\n",
      "6    0.007632\n",
      "7    0.009076\n",
      "dtype: float64 0    0.005096\n",
      "1    0.006163\n",
      "2    0.006861\n",
      "3    0.008247\n",
      "4    0.009112\n",
      "5    0.010499\n",
      "6    0.013115\n",
      "7    0.016194\n",
      "dtype: float64 0.009010147371232766 0.004505073685616383\n"
     ]
    }
   ],
   "source": [
    "print(Y_err/Y, X_err/X, std_g/g, std_l/l)"
   ]
  }
 ],
 "metadata": {
  "kernelspec": {
   "display_name": "Python 3 (ipykernel)",
   "language": "python",
   "name": "python3"
  },
  "language_info": {
   "codemirror_mode": {
    "name": "ipython",
    "version": 3
   },
   "file_extension": ".py",
   "mimetype": "text/x-python",
   "name": "python",
   "nbconvert_exporter": "python",
   "pygments_lexer": "ipython3",
   "version": "3.10.5"
  }
 },
 "nbformat": 4,
 "nbformat_minor": 5
}
