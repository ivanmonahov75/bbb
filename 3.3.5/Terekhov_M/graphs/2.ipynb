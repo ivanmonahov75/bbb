{
 "cells": [
  {
   "cell_type": "code",
   "execution_count": 29,
   "metadata": {},
   "outputs": [],
   "source": [
    "import pandas as pd\n",
    "import numpy as np\n",
    "import matplotlib.pyplot as plt\n",
    "plt.rcParams.update({'font.size': 22})\n",
    "import math"
   ]
  },
  {
   "cell_type": "code",
   "execution_count": 30,
   "metadata": {},
   "outputs": [],
   "source": [
    "name = \"2\"\n",
    "plt.rcParams.update({'font.size': 22})"
   ]
  },
  {
   "cell_type": "code",
   "execution_count": 31,
   "metadata": {},
   "outputs": [],
   "source": [
    "data1 = pd.read_csv(\"2_1.csv\", names=[\"I\", \"B\"])\n",
    "data2 = pd.read_csv(\"2_2.csv\", names=[\"I\", \"B\"])\n",
    "data3 = pd.read_csv(\"2_3.csv\", names=[\"I\", \"B\"])\n",
    "data4 = pd.read_csv(\"2_4.csv\", names=[\"I\", \"B\"])\n",
    "data5 = pd.read_csv(\"2_5.csv\", names=[\"I\", \"B\"])"
   ]
  },
  {
   "cell_type": "code",
   "execution_count": 32,
   "metadata": {},
   "outputs": [],
   "source": [
    "sigma_X = 0\n",
    "sigma_Y = 0\n",
    "X = [125, 284, 408, 536, 651, 751, 850, 959, 1050, 1083]\n",
    "X1 = data1[\"I\"].values\n",
    "Y1 = data1[\"B\"].values\n",
    "X2 = data2[\"I\"].values\n",
    "Y2 = data2[\"B\"].values\n",
    "X3 = data3[\"I\"].values\n",
    "Y3 = data3[\"B\"].values\n",
    "X4 = data4[\"I\"].values\n",
    "Y4 = data4[\"B\"].values\n",
    "X5 = data5[\"I\"].values\n",
    "Y5 = data5[\"B\"].values"
   ]
  },
  {
   "cell_type": "code",
   "execution_count": 54,
   "metadata": {},
   "outputs": [],
   "source": [
    "A1 = np.vstack([X, np.ones(len(X1))]).T\n",
    "k1, b1 = np.linalg.lstsq(A1, Y1, rcond=None)[0]\n",
    "A2 = np.vstack([X, np.ones(len(X2))]).T\n",
    "k2, b2 = np.linalg.lstsq(A2, Y2, rcond=None)[0]\n",
    "A3 = np.vstack([X, np.ones(len(X3))]).T\n",
    "k3, b3 = np.linalg.lstsq(A3, Y3, rcond=None)[0]\n",
    "A4 = np.vstack([X, np.ones(len(X4))]).T\n",
    "k4, b4 = np.linalg.lstsq(A4, Y4, rcond=None)[0]\n",
    "A5 = np.vstack([X, np.ones(len(X5))]).T\n",
    "k5, b5 = np.linalg.lstsq(A5, Y5, rcond=None)[0]\n",
    "#sigma_k = math.sqrt((Y.std() - Y.mean()**2 ) / (X.std() - X.mean()**2 ) - b**2 ) / math.sqrt(len(X))\n",
    "#eps_k = sigma_k / k\n",
    "#sigma_b = sigma_k * math.sqrt(X.std() / X.mean() - X.mean()**2 )"
   ]
  },
  {
   "cell_type": "code",
   "execution_count": 55,
   "metadata": {
    "scrolled": true
   },
   "outputs": [
    {
     "data": {
      "image/png": "[encoded data removed]",
      "text/plain": [
       "<Figure size 864x504 with 1 Axes>"
      ]
     },
     "metadata": {
      "needs_background": "light"
     },
     "output_type": "display_data"
    }
   ],
   "source": [
    "fig = plt.figure(figsize=(12, 7))\n",
    "ax = fig.gca()\n",
    "plt.scatter(X, Y1, marker=\"+\")\n",
    "plt.scatter(X, Y2, marker=\"+\")\n",
    "plt.scatter(X, Y3, marker=\"+\")\n",
    "plt.scatter(X, Y4, marker=\"+\")\n",
    "plt.scatter(X, Y5, marker=\"+\")\n",
    "#plt.errorbar(X, Y, xerr=sigma_X, yerr=sigma_Y, linestyle=\"None\")\n",
    "\n",
    "#plt.plot(X, (k2*X + b2), 'g', label='Fitted line')\n",
    "#delta_x = (X.max() - X.min()) / len(X)\n",
    "delta_y = (Y5.max() - Y5.min()) / len(Y1)\n",
    "ax.set_xlim(0, 1200)\n",
    "ax.set_ylim(0, 1.4)\n",
    "plt.xlabel(\"$B, мТл$\")\n",
    "plt.ylabel(\"$U_x, B$\")\n",
    "#plt.plot(X, (k*X + b), 'r', label='Fitted line')\n",
    "plt.grid(True)\n",
    "plt.savefig(\"../\" + name + \".png\")"
   ]
  },
  {
   "cell_type": "code",
   "execution_count": 47,
   "metadata": {},
   "outputs": [
    {
     "data": {
      "text/plain": [
       "0.0006132649569197061"
      ]
     },
     "execution_count": 47,
     "metadata": {},
     "output_type": "execute_result"
    }
   ],
   "source": [
    "k1"
   ]
  },
  {
   "cell_type": "code",
   "execution_count": 48,
   "metadata": {
    "scrolled": true
   },
   "outputs": [
    {
     "data": {
      "text/plain": [
       "0.0007056155706308559"
      ]
     },
     "execution_count": 48,
     "metadata": {},
     "output_type": "execute_result"
    }
   ],
   "source": [
    "k2"
   ]
  },
  {
   "cell_type": "code",
   "execution_count": 49,
   "metadata": {},
   "outputs": [
    {
     "data": {
      "text/plain": [
       "0.0008313245202832839"
      ]
     },
     "execution_count": 49,
     "metadata": {},
     "output_type": "execute_result"
    }
   ],
   "source": [
    "k3"
   ]
  },
  {
   "cell_type": "code",
   "execution_count": 50,
   "metadata": {},
   "outputs": [
    {
     "data": {
      "text/plain": [
       "0.0009412528707572636"
      ]
     },
     "execution_count": 50,
     "metadata": {},
     "output_type": "execute_result"
    }
   ],
   "source": [
    "k4"
   ]
  },
  {
   "cell_type": "code",
   "execution_count": 51,
   "metadata": {},
   "outputs": [
    {
     "data": {
      "text/plain": [
       "0.0012808706554533799"
      ]
     },
     "execution_count": 51,
     "metadata": {},
     "output_type": "execute_result"
    }
   ],
   "source": [
    "k5"
   ]
  },
  {
   "cell_type": "code",
   "execution_count": 8,
   "metadata": {},
   "outputs": [
    {
     "name": "stdout",
     "output_type": "stream",
     "text": [
      "\\begin{tabular}{lrrr}\n",
      "\\toprule\n",
      "{} &   N &    m &   d \\\\\n",
      "\\midrule\n",
      "0  &   1 &  863 &  61 \\\\\n",
      "1  &   2 &  848 &  62 \\\\\n",
      "2  &   3 &  857 &  63 \\\\\n",
      "3  &   4 &  846 &  62 \\\\\n",
      "4  &   5 &  838 &  60 \\\\\n",
      "5  &   6 &  850 &  61 \\\\\n",
      "6  &   7 &  853 &  62 \\\\\n",
      "7  &   8 &  842 &  61 \\\\\n",
      "8  &   9 &  844 &  63 \\\\\n",
      "9  &  10 &  853 &  62 \\\\\n",
      "10 &  11 &  847 &  61 \\\\\n",
      "11 &  12 &  848 &  60 \\\\\n",
      "\\bottomrule\n",
      "\\end{tabular}\n",
      "\n"
     ]
    }
   ],
   "source": [
    "print(data.to_latex())"
   ]
  },
  {
   "cell_type": "code",
   "execution_count": 10,
   "metadata": {},
   "outputs": [
    {
     "data": {
      "text/plain": [
       "61.5"
      ]
     },
     "execution_count": 10,
     "metadata": {},
     "output_type": "execute_result"
    }
   ],
   "source": [
    "data[\"d\"].mean()"
   ]
  },
  {
   "cell_type": "code",
   "execution_count": null,
   "metadata": {},
   "outputs": [],
   "source": []
  }
 ],
 "metadata": {
  "kernelspec": {
   "display_name": "Python 3",
   "language": "python",
   "name": "python3"
  },
  "language_info": {
   "codemirror_mode": {
    "name": "ipython",
    "version": 3
   },
   "file_extension": ".py",
   "mimetype": "text/x-python",
   "name": "python",
   "nbconvert_exporter": "python",
   "pygments_lexer": "ipython3",
   "version": "3.5.2"
  }
 },
 "nbformat": 4,
 "nbformat_minor": 2
}
