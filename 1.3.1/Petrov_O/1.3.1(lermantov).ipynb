{
 "cells": [
  {
   "cell_type": "code",
   "execution_count": 1,
   "metadata": {},
   "outputs": [],
   "source": [
    "import numpy as np\n",
    "import matplotlib.pyplot as plt\n",
    "import scipy.optimize as opt\n",
    "import pandas as pd\n",
    "import array_to_latex as ltx"
   ]
  },
  {
   "cell_type": "code",
   "execution_count": 2,
   "metadata": {},
   "outputs": [],
   "source": [
    "def covariance(x,y):\n",
    "    c=np.inner(y,x)/len(x)-(sum(x)/len(x))*(sum(y)/len(y))\n",
    "    return c\n",
    "def rate_error(x,y,k):\n",
    "    c = ((len(y)-2)**-0.5)*((covariance(y,y)/covariance(x,x)-k**2)**0.5)\n",
    "    return c"
   ]
  },
  {
   "cell_type": "code",
   "execution_count": 3,
   "metadata": {},
   "outputs": [
    {
     "data": {
      "text/html": [
       "<div>\n",
       "<style scoped>\n",
       "    .dataframe tbody tr th:only-of-type {\n",
       "        vertical-align: middle;\n",
       "    }\n",
       "\n",
       "    .dataframe tbody tr th {\n",
       "        vertical-align: top;\n",
       "    }\n",
       "\n",
       "    .dataframe thead th {\n",
       "        text-align: right;\n",
       "    }\n",
       "</style>\n",
       "<table border=\"1\" class=\"dataframe\">\n",
       "  <thead>\n",
       "    <tr style=\"text-align: right;\">\n",
       "      <th></th>\n",
       "      <th>m, повышение</th>\n",
       "      <th>m сумм</th>\n",
       "      <th>P</th>\n",
       "      <th>n, mm, pm 0.5</th>\n",
       "      <th>dl,mm</th>\n",
       "    </tr>\n",
       "  </thead>\n",
       "  <tbody>\n",
       "    <tr>\n",
       "      <th>0</th>\n",
       "      <td>246.1</td>\n",
       "      <td>970</td>\n",
       "      <td>9.52</td>\n",
       "      <td>15</td>\n",
       "      <td>0.707</td>\n",
       "    </tr>\n",
       "    <tr>\n",
       "      <th>1</th>\n",
       "      <td>245.6</td>\n",
       "      <td>1215.6</td>\n",
       "      <td>11.93</td>\n",
       "      <td>16.3</td>\n",
       "      <td>0.768</td>\n",
       "    </tr>\n",
       "    <tr>\n",
       "      <th>2</th>\n",
       "      <td>245.7</td>\n",
       "      <td>1461.3</td>\n",
       "      <td>14.34</td>\n",
       "      <td>17.6</td>\n",
       "      <td>0.829</td>\n",
       "    </tr>\n",
       "    <tr>\n",
       "      <th>3</th>\n",
       "      <td>491.8</td>\n",
       "      <td>1953.1</td>\n",
       "      <td>19.17</td>\n",
       "      <td>19.9</td>\n",
       "      <td>0.937</td>\n",
       "    </tr>\n",
       "    <tr>\n",
       "      <th>4</th>\n",
       "      <td>245.5</td>\n",
       "      <td>2198.6</td>\n",
       "      <td>21.58</td>\n",
       "      <td>21.1</td>\n",
       "      <td>0.994</td>\n",
       "    </tr>\n",
       "    <tr>\n",
       "      <th>5</th>\n",
       "      <td>245.8</td>\n",
       "      <td>2444.4</td>\n",
       "      <td>23.99</td>\n",
       "      <td>22.2</td>\n",
       "      <td>1.046</td>\n",
       "    </tr>\n",
       "    <tr>\n",
       "      <th>6</th>\n",
       "      <td>m,понижение</td>\n",
       "      <td>NaN</td>\n",
       "      <td>P</td>\n",
       "      <td>n,mm</td>\n",
       "      <td>dl,mm</td>\n",
       "    </tr>\n",
       "    <tr>\n",
       "      <th>7</th>\n",
       "      <td>245.8</td>\n",
       "      <td>2444.4</td>\n",
       "      <td>23.99</td>\n",
       "      <td>22.2</td>\n",
       "      <td>1.046</td>\n",
       "    </tr>\n",
       "    <tr>\n",
       "      <th>8</th>\n",
       "      <td>245.5</td>\n",
       "      <td>2198.6</td>\n",
       "      <td>21.58</td>\n",
       "      <td>21.1</td>\n",
       "      <td>0.994</td>\n",
       "    </tr>\n",
       "    <tr>\n",
       "      <th>9</th>\n",
       "      <td>246.1</td>\n",
       "      <td>1953.1</td>\n",
       "      <td>19.17</td>\n",
       "      <td>20</td>\n",
       "      <td>0.942</td>\n",
       "    </tr>\n",
       "    <tr>\n",
       "      <th>10</th>\n",
       "      <td>245.7</td>\n",
       "      <td>1707</td>\n",
       "      <td>16.76</td>\n",
       "      <td>18.9</td>\n",
       "      <td>0.890</td>\n",
       "    </tr>\n",
       "    <tr>\n",
       "      <th>11</th>\n",
       "      <td>245.7</td>\n",
       "      <td>1461.3</td>\n",
       "      <td>14.34</td>\n",
       "      <td>17.6</td>\n",
       "      <td>0.829</td>\n",
       "    </tr>\n",
       "    <tr>\n",
       "      <th>12</th>\n",
       "      <td>245.6</td>\n",
       "      <td>1215.6</td>\n",
       "      <td>11.93</td>\n",
       "      <td>16.5</td>\n",
       "      <td>0.777</td>\n",
       "    </tr>\n",
       "    <tr>\n",
       "      <th>13</th>\n",
       "      <td>246.1</td>\n",
       "      <td>970</td>\n",
       "      <td>9.52</td>\n",
       "      <td>15.2</td>\n",
       "      <td>0.716</td>\n",
       "    </tr>\n",
       "    <tr>\n",
       "      <th>14</th>\n",
       "      <td>245.2</td>\n",
       "      <td>723.9</td>\n",
       "      <td>7.11</td>\n",
       "      <td>14.2</td>\n",
       "      <td>0.669</td>\n",
       "    </tr>\n",
       "    <tr>\n",
       "      <th>15</th>\n",
       "      <td>478.7</td>\n",
       "      <td>478.7</td>\n",
       "      <td>4.70</td>\n",
       "      <td>12.6</td>\n",
       "      <td>0.593</td>\n",
       "    </tr>\n",
       "  </tbody>\n",
       "</table>\n",
       "</div>"
      ],
      "text/plain": [
       "   m, повышение  m сумм      P n, mm, pm 0.5  dl,mm\n",
       "0         246.1     970   9.52            15  0.707\n",
       "1         245.6  1215.6  11.93          16.3  0.768\n",
       "2         245.7  1461.3  14.34          17.6  0.829\n",
       "3         491.8  1953.1  19.17          19.9  0.937\n",
       "4         245.5  2198.6  21.58          21.1  0.994\n",
       "5         245.8  2444.4  23.99          22.2  1.046\n",
       "6   m,понижение     NaN      P          n,mm  dl,mm\n",
       "7         245.8  2444.4  23.99          22.2  1.046\n",
       "8         245.5  2198.6  21.58          21.1  0.994\n",
       "9         246.1  1953.1  19.17            20  0.942\n",
       "10        245.7    1707  16.76          18.9  0.890\n",
       "11        245.7  1461.3  14.34          17.6  0.829\n",
       "12        245.6  1215.6  11.93          16.5  0.777\n",
       "13        246.1     970   9.52          15.2  0.716\n",
       "14        245.2   723.9   7.11          14.2  0.669\n",
       "15        478.7   478.7   4.70          12.6  0.593"
      ]
     },
     "execution_count": 3,
     "metadata": {},
     "output_type": "execute_result"
    }
   ],
   "source": [
    "data_array = pd.read_csv(\"data1csv.csv\",  sep=\";\", decimal=\",\")\n",
    "t1=data_array.loc[:5,:].to_numpy()\n",
    "t2=data_array.loc[7:,:].to_numpy()\n",
    "#tabular1=np.transpose(t1)\n",
    "#tabular2=np.transpose(t2)\n",
    "data_array"
   ]
  },
  {
   "cell_type": "code",
   "execution_count": 4,
   "metadata": {},
   "outputs": [
    {
     "name": "stdout",
     "output_type": "stream",
     "text": [
      "\\begin{tabular}{lrrrrr}\n",
      "\\toprule\n",
      "     & m, повышение & m сумм & P & n, mm, pm 0.5 & dl,mm \\\\\\n\\midrule\n",
      " 0 &  246.1 &  970    &  9.52  &  15   &  0.707\\\\\n",
      " 1 &  245.6 &  1215.6 &  11.93 &  16.3 &  0.768\\\\\n",
      " 2 &  245.7 &  1461.3 &  14.34 &  17.6 &  0.829\\\\\n",
      " 3 &  491.8 &  1953.1 &  19.17 &  19.9 &  0.937\\\\\n",
      " 4 &  245.5 &  2198.6 &  21.58 &  21.1 &  0.994\\\\\n",
      " 5 &  245.8 &  2444.4 &  23.99 &  22.2 &  1.046\\\\\n",
      "\\bottomrule\n",
      "\\end{tabular}\n"
     ]
    }
   ],
   "source": [
    "ltx.to_ltx(data_array.loc[:5,:])"
   ]
  },
  {
   "cell_type": "code",
   "execution_count": 5,
   "metadata": {},
   "outputs": [
    {
     "name": "stdout",
     "output_type": "stream",
     "text": [
      "\\begin{tabular}{lrrrrr}\n",
      "\\toprule\n",
      "     & m, повышение & m сумм & P & n, mm, pm 0.5 & dl,mm \\\\\\n\\midrule\n",
      " 7 &  245.8 &  2444.4 &  23.99 &  22.2 &  1.046\\\\\n",
      " 8 &  245.5 &  2198.6 &  21.58 &  21.1 &  0.994\\\\\n",
      " 9 &  246.1 &  1953.1 &  19.17 &  20   &  0.942\\\\\n",
      " 10 &  245.7 &  1707   &  16.76 &  18.9 &  0.890\\\\\n",
      " 11 &  245.7 &  1461.3 &  14.34 &  17.6 &  0.829\\\\\n",
      " 12 &  245.6 &  1215.6 &  11.93 &  16.5 &  0.777\\\\\n",
      " 13 &  246.1 &  970    &  9.52  &  15.2 &  0.716\\\\\n",
      " 14 &  245.2 &  723.9  &  7.11  &  14.2 &  0.669\\\\\n",
      " 15 &  478.7 &  478.7  &  4.70  &  12.6 &  0.593\\\\\n",
      "\\bottomrule\n",
      "\\end{tabular}\n"
     ]
    }
   ],
   "source": [
    "ltx.to_ltx(data_array.loc[7:,:])"
   ]
  },
  {
   "cell_type": "code",
   "execution_count": 6,
   "metadata": {},
   "outputs": [
    {
     "data": {
      "text/plain": [
       "array([ 9.52, 11.93, 14.34, 19.17, 21.58, 23.99, 21.58, 19.17, 16.76,\n",
       "       14.34, 11.93,  9.52,  7.11])"
      ]
     },
     "execution_count": 6,
     "metadata": {},
     "output_type": "execute_result"
    }
   ],
   "source": [
    "P,dl=np.concatenate((t1[:-1,2],t2[:-1,2]),axis=0).astype(float),np.concatenate((t1[:-1,4],t2[:-1,4]),axis=0).astype(float)\n",
    "P"
   ]
  },
  {
   "cell_type": "code",
   "execution_count": 7,
   "metadata": {},
   "outputs": [
    {
     "data": {
      "image/png": "[encoded data removed]",
      "text/plain": [
       "<Figure size 1500x1000 with 1 Axes>"
      ]
     },
     "metadata": {},
     "output_type": "display_data"
    }
   ],
   "source": [
    "plt.figure(figsize=(15,10))\n",
    "\n",
    "k,b=np.polyfit(dl[:-1],P[:-1],1)\n",
    "\n",
    "M_fit=b+k*dl[:-1]\n",
    "plt.plot(dl[:-1],M_fit)\n",
    "\n",
    "x_err=0.038*dl\n",
    "y_err=np.array([0.1,0.1,0.2,0.2,0.3])\n",
    "plt.errorbar(dl[:-1],P[:-1], yerr=0, xerr=0, color='k',fmt='+', label='Кресты') \n",
    "\n",
    "plt.xlim(0.7,1.05)\n",
    "plt.ylim(8, 25)\n",
    "\n",
    "#— Decorate the spins\n",
    "arrow_length = 30 # In points\n",
    "\n",
    "# X-axis arrow\n",
    "plt.annotate('$\\Delta l, мм$', xy=(0.993, 8), xycoords=('axes fraction', 'data'),\n",
    "xytext=(arrow_length, 0), textcoords='offset points',\n",
    "ha='left', va='center',\n",
    "arrowprops=dict(arrowstyle='<|-', fc='black'))\n",
    "\n",
    "# Y-axis arrow\n",
    "plt.annotate('$P(\\Delta l), H$', xy=(0.7,0.995), xycoords=('data', 'axes fraction'),\n",
    "xytext=(0, arrow_length), textcoords='offset points',\n",
    "ha='center', va='bottom',\n",
    "arrowprops=dict(arrowstyle='<|-', fc='black'))\n",
    "\n",
    "plt.minorticks_on()\n",
    "plt.grid(which='major', lw=2)\n",
    "plt.grid(which='minor', lw=1)\n",
    "\n",
    "plt.show()"
   ]
  },
  {
   "cell_type": "code",
   "execution_count": 11,
   "metadata": {},
   "outputs": [
    {
     "data": {
      "text/plain": [
       "18262.080687019905"
      ]
     },
     "execution_count": 11,
     "metadata": {},
     "output_type": "execute_result"
    }
   ],
   "source": [
    "k*177/0.418\n",
    "#b*177/0.418\n",
    "\n"
   ]
  },
  {
   "cell_type": "code",
   "execution_count": 9,
   "metadata": {},
   "outputs": [
    {
     "data": {
      "text/plain": [
       "0.04381212525635749"
      ]
     },
     "execution_count": 9,
     "metadata": {},
     "output_type": "execute_result"
    }
   ],
   "source": [
    "rate_error(dl,P,k)/k"
   ]
  }
 ],
 "metadata": {
  "kernelspec": {
   "display_name": "Python 3",
   "language": "python",
   "name": "python3"
  },
  "language_info": {
   "codemirror_mode": {
    "name": "ipython",
    "version": 3
   },
   "file_extension": ".py",
   "mimetype": "text/x-python",
   "name": "python",
   "nbconvert_exporter": "python",
   "pygments_lexer": "ipython3",
   "version": "3.10.6"
  },
  "orig_nbformat": 4,
  "vscode": {
   "interpreter": {
    "hash": "7f298933448abd1c737f70fde5374de40f2a3aea4df38ffeebddc535234f0b94"
   }
  }
 },
 "nbformat": 4,
 "nbformat_minor": 2
}
